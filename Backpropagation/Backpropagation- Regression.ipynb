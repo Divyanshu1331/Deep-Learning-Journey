{
 "cells": [
  {
   "cell_type": "code",
   "execution_count": 1,
   "id": "5ddbde34-19bf-43a3-a103-092b5c76d8a1",
   "metadata": {},
   "outputs": [],
   "source": [
    "import pandas as pd\n",
    "import numpy as np"
   ]
  },
  {
   "cell_type": "code",
   "execution_count": 2,
   "id": "91b5071c-b14f-44a7-909f-88992d0ca83d",
   "metadata": {},
   "outputs": [
    {
     "name": "stdout",
     "output_type": "stream",
     "text": [
      "[5.75, 9.25, 9.5, 12.0, 4.15, 13.0]\n"
     ]
    }
   ],
   "source": [
    "# Creating a small dataset of 6 samples with 2 features and 1 o/p\n",
    "\n",
    "# Features:\n",
    "x1 = [0.5, 1.5, 3.0, 2.0, 0.1, 4.0]\n",
    "x2 = [1.0, 2.0, 1.0, 3.0, 0.5, 2.0]\n",
    "\n",
    "# Output:\n",
    "y =  []\n",
    "for i in range(6):\n",
    "    y.append(1.5*x1[i] + 2*x2[i] + 3)\n",
    "\n",
    "print(y)"
   ]
  },
  {
   "cell_type": "code",
   "execution_count": 3,
   "id": "21151b26-475a-4755-98ef-ebe29c2a78e5",
   "metadata": {},
   "outputs": [
    {
     "data": {
      "text/html": [
       "<div>\n",
       "<style scoped>\n",
       "    .dataframe tbody tr th:only-of-type {\n",
       "        vertical-align: middle;\n",
       "    }\n",
       "\n",
       "    .dataframe tbody tr th {\n",
       "        vertical-align: top;\n",
       "    }\n",
       "\n",
       "    .dataframe thead th {\n",
       "        text-align: right;\n",
       "    }\n",
       "</style>\n",
       "<table border=\"1\" class=\"dataframe\">\n",
       "  <thead>\n",
       "    <tr style=\"text-align: right;\">\n",
       "      <th></th>\n",
       "      <th>Feature1</th>\n",
       "      <th>Feature2</th>\n",
       "      <th>y</th>\n",
       "    </tr>\n",
       "  </thead>\n",
       "  <tbody>\n",
       "    <tr>\n",
       "      <th>0</th>\n",
       "      <td>0.5</td>\n",
       "      <td>1.0</td>\n",
       "      <td>5.75</td>\n",
       "    </tr>\n",
       "    <tr>\n",
       "      <th>1</th>\n",
       "      <td>1.5</td>\n",
       "      <td>2.0</td>\n",
       "      <td>9.25</td>\n",
       "    </tr>\n",
       "    <tr>\n",
       "      <th>2</th>\n",
       "      <td>3.0</td>\n",
       "      <td>1.0</td>\n",
       "      <td>9.50</td>\n",
       "    </tr>\n",
       "    <tr>\n",
       "      <th>3</th>\n",
       "      <td>2.0</td>\n",
       "      <td>3.0</td>\n",
       "      <td>12.00</td>\n",
       "    </tr>\n",
       "    <tr>\n",
       "      <th>4</th>\n",
       "      <td>0.1</td>\n",
       "      <td>0.5</td>\n",
       "      <td>4.15</td>\n",
       "    </tr>\n",
       "    <tr>\n",
       "      <th>5</th>\n",
       "      <td>4.0</td>\n",
       "      <td>2.0</td>\n",
       "      <td>13.00</td>\n",
       "    </tr>\n",
       "  </tbody>\n",
       "</table>\n",
       "</div>"
      ],
      "text/plain": [
       "   Feature1  Feature2      y\n",
       "0       0.5       1.0   5.75\n",
       "1       1.5       2.0   9.25\n",
       "2       3.0       1.0   9.50\n",
       "3       2.0       3.0  12.00\n",
       "4       0.1       0.5   4.15\n",
       "5       4.0       2.0  13.00"
      ]
     },
     "execution_count": 3,
     "metadata": {},
     "output_type": "execute_result"
    }
   ],
   "source": [
    "# Creating a dataframe of the features and output\n",
    "\n",
    "df = pd.DataFrame({\n",
    "    'Feature1' : x1,\n",
    "    'Feature2' : x2,\n",
    "    'y' : y\n",
    "})\n",
    "\n",
    "df"
   ]
  },
  {
   "cell_type": "markdown",
   "id": "c29218f0-1a53-4f0e-9af1-eb1a3dafbfb6",
   "metadata": {},
   "source": [
    "### 🧠 Neural Network Architecture:\n",
    "\n",
    "- **Problem Type:** Regression  \n",
    "- **Input Features:** 2 (`x1`, `x2`)  \n",
    "- **Architecture:**\n",
    "  - **Input Layer:** 2 neurons (for 2 input features)\n",
    "  - **Hidden Layer:** 2 neurons  \n",
    "  - **Output Layer:** 1 neuron  \n",
    "- **Activation Function:**  \n",
    "  - Hidden Layer: `Linear`  \n",
    "  - Output Layer: `Linear`  \n",
    "- **Loss Function:** Mean Squared Error (MSE)  \n",
    "- **Optimization Algorithm:** Gradient Descent (Manually implemented)  \n",
    "\n",
    "---"
   ]
  },
  {
   "cell_type": "code",
   "execution_count": 4,
   "id": "ab126405-68a2-4c80-9949-09ce5e9cb48e",
   "metadata": {},
   "outputs": [],
   "source": [
    "# Intializing parameters:\n",
    "\n",
    "def initialize_param(layer_dim):         # i.e- Layer_dim = [2,2,1] means 2 i/p neurons, 2 neurons in hidden layer 1, 1 neuron in o/p layer\n",
    "    \n",
    "    params = {}                       # A dictionary to store parameters (weight and bias)     \n",
    "\n",
    "    L = len(layer_dim)\n",
    "    \n",
    "    for i in (1, L-1):\n",
    "\n",
    "        # Weight matrix: number of rows: layer_dim[i-1] (number of neurons in the previous layer)\n",
    "        # number of columns: layer_dim[i] (number of neurons in the current layer)\n",
    "        params['w' + str(i)] = np.ones((layer_dim[i-1], layer_dim[i])) * 0.1    # np.ones((shape)): np.ones((2,3)) gives a matrix of 1 of size {2,3}\n",
    "                                                                                # & np.ones(...) * 0.1 means all values in this matrix are 0.1\n",
    "        params['b' + str(i)] = np.zeros((layer_dim[i], 1))                      # it gives a column matrix (shape: {rows, 1}) of 0 \n",
    "        \n",
    "    return params"
   ]
  },
  {
   "cell_type": "code",
   "execution_count": 5,
   "id": "e3f15153-dd7e-477c-b5e1-0c907c96ce73",
   "metadata": {},
   "outputs": [
    {
     "name": "stdout",
     "output_type": "stream",
     "text": [
      "{'w1': array([[0.1, 0.1],\n",
      "       [0.1, 0.1]]), 'b1': array([[0.],\n",
      "       [0.]]), 'w2': array([[0.1],\n",
      "       [0.1]]), 'b2': array([[0.]])}\n"
     ]
    }
   ],
   "source": [
    "# Initializing parameters for the neural n/w:\n",
    "\n",
    "layer_dim = [2,2,1]\n",
    "\n",
    "params = initialize_param(layer_dim)\n",
    "\n",
    "print(params)"
   ]
  },
  {
   "cell_type": "code",
   "execution_count": 6,
   "id": "cbaba29e-1c08-4809-b577-954be76d7ad0",
   "metadata": {},
   "outputs": [],
   "source": [
    "# Forward propagation for one sample (Calculates layer-wise o/p for one sample)\n",
    "\n",
    "def forward_pass(x, params, layer_dim):\n",
    "\n",
    "    layer_output = {}\n",
    "    \n",
    "    layer_count = len(layer_dim)\n",
    "    \n",
    "    # Output for first layer:\n",
    "    layer_output['l' + str(1)] = np.dot(params['w1'].T , x) + params['b1']\n",
    "    \n",
    "    for i in range(2, layer_count):                        # loop from 2nd layer to last layer- [2, last_layer + 1), last_layer + 1 means layer_count\n",
    "\n",
    "        layer_w = params['w' + str(i)]\n",
    "        layer_b = params['b' + str(i)]\n",
    "        A_prev  = layer_output['l' + str(i-1)]\n",
    "        \n",
    "        layer_output['l' + str(i)] = np.dot(layer_w.T , A_prev) + layer_b\n",
    "\n",
    "    return layer_output"
   ]
  },
  {
   "cell_type": "code",
   "execution_count": 7,
   "id": "4b54de7e-d8e5-447b-8cd0-6477d4a60b6b",
   "metadata": {},
   "outputs": [],
   "source": [
    "# Loss Function(MSE) for 1 sample:\n",
    "\n",
    "def loss(y, y_hat):\n",
    "\n",
    "    loss = (y-y_hat)**2\n",
    "    \n",
    "    return loss"
   ]
  },
  {
   "cell_type": "markdown",
   "id": "b3b317fd-f5f3-4350-bafe-0b6eb0536eb5",
   "metadata": {},
   "source": [
    "### ✅ All 9 Gradients of this neural network are:\n",
    "\n",
    "| Gradient              | Formula                                                |\n",
    "|-----------------------|--------------------------------------------------------|\n",
    "| $\\frac{\\partial L}{\\partial W^{[2]}_{11}}$ | $-2(y - \\hat{y}) \\cdot O_{11}$                      |\n",
    "| $\\frac{\\partial L}{\\partial W^{[2]}_{21}}$ | $-2(y - \\hat{y}) \\cdot O_{12}$                      |\n",
    "| $\\frac{\\partial L}{\\partial b_{21}}$       | $-2(y - \\hat{y})$                                   |\n",
    "| $\\frac{\\partial L}{\\partial W^{[1]}_{11}}$ | $-2(y - \\hat{y}) \\cdot W^{[2]}_{11} \\cdot x_1$      |\n",
    "| $\\frac{\\partial L}{\\partial W^{[1]}_{12}}$ | $-2(y - \\hat{y}) \\cdot W^{[2]}_{21} \\cdot x_1$      |\n",
    "| $\\frac{\\partial L}{\\partial W^{[1]}_{21}}$ | $-2(y - \\hat{y}) \\cdot W^{[2]}_{11} \\cdot x_2$      |\n",
    "| $\\frac{\\partial L}{\\partial W^{[1]}_{22}}$ | $-2(y - \\hat{y}) \\cdot W^{[2]}_{21} \\cdot x_2$      |\n",
    "| $\\frac{\\partial L}{\\partial b_{11}}$       | $-2(y - \\hat{y}) \\cdot W^{[2]}_{11}$                |\n",
    "| $\\frac{\\partial L}{\\partial b_{12}}$       | $-2(y - \\hat{y}) \\cdot W^{[2]}_{21}$                |\n",
    "\n",
    "---\n",
    "### ✅ Gradient Descent Formula\n",
    "\n",
    "For any parameter $\\theta$:\n",
    "\n",
    "$$\n",
    "\\theta := \\theta - \\alpha \\cdot \\frac{\\partial L}{\\partial \\theta}\n",
    "$$\n",
    "\n",
    "Where:\n",
    "\n",
    "- $\\alpha$: learning rate (let's take it as 0.001)\n",
    "- $\\frac{\\partial L}{\\partial \\theta}$: gradient of loss with respect to that parameter\n",
    "\n",
    "---\n",
    "### ✅ Parameter Update Formulas, by substituting Gradient value in Gradient Descent formula (In Same Order as Code)\n",
    "\n",
    "| Python Code Line             | Parameters             | Update Formula                                                                 |\n",
    "|------------------------------|------------------------|---------------------------------------------------------------------------------|\n",
    "| `parameters['W2'][0][0]`     | $W^{[2]}_{11}$         | $ W^{[2]}_{11} - \\alpha \\cdot [-2(y - \\hat{y}) \\cdot O_{11}]$    |\n",
    "| `parameters['W2'][1][0]`     | $W^{[2]}_{21}$         | $ W^{[2]}_{21} - \\alpha \\cdot [-2(y - \\hat{y}) \\cdot O_{12}]$    |\n",
    "| `parameters['b2'][0][0]`     | $b_{21}$               | $ b_{21} - \\alpha \\cdot [-2(y - \\hat{y})]$                             |\n",
    "| `parameters['W1'][0][0]`     | $W^{[1]}_{11}$         | $ W^{[1]}_{11} - \\alpha \\cdot [-2(y - \\hat{y}) \\cdot W^{[2]}_{11} \\cdot x_1]$ |\n",
    "| `parameters['W1'][0][1]`     | $W^{[1]}_{12}$         | $ W^{[1]}_{12} - \\alpha \\cdot [-2(y - \\hat{y}) \\cdot W^{[2]}_{11} \\cdot x_2]$ |\n",
    "| `parameters['b1'][0][0]`     | $b_{11}$               | $ b_{11} - \\alpha \\cdot [-2(y - \\hat{y}) \\cdot W^{[2]}_{11}]$          |\n",
    "| `parameters['W1'][1][0]`     | $W^{[1]}_{21}$         | $ W^{[1]}_{21} - \\alpha \\cdot [-2(y - \\hat{y}) \\cdot W^{[2]}_{21} \\cdot x_1]$ |\n",
    "| `parameters['W1'][1][1]`     | $W^{[1]}_{22}$         | $ W^{[1]}_{22} - \\alpha \\cdot [-2(y - \\hat{y}) \\cdot W^{[2]}_{21} \\cdot x_2]$ |\n",
    "| `parameters['b1'][1][0]`     | $b_{12}$               | $ b_{12} - \\alpha \\cdot [-2(y - \\hat{y}) \\cdot W^{[2]}_{21}]$          |\n",
    "\n"
   ]
  },
  {
   "cell_type": "code",
   "execution_count": 8,
   "id": "f25fe34f-e631-4f50-ab6d-395a7f74721f",
   "metadata": {},
   "outputs": [],
   "source": [
    "# Update parameter value by gradient descent algorithm for 1 sample:\n",
    "\n",
    "def update_parameters(params, y, layer_output, X):\n",
    "\n",
    "    y_hat = layer_output['l2']              # output from layer 2\n",
    "    A1 = layer_output['l1']                 # Output from layer 1\n",
    "\n",
    "    lr = 0.001\n",
    "    error = (y - y_hat).item()   # convert to scalar\n",
    "    \n",
    "    w211 = params['w2'][0][0].item()\n",
    "    w221 = params['w2'][1][0].item()\n",
    "\n",
    "    a11 = A1[0][0].item()\n",
    "    a12 = A1[1][0].item()\n",
    "\n",
    "    x1 = X[0][0].item()\n",
    "    x2 = X[1][0].item()\n",
    "\n",
    "    # Update output layer weights and bias\n",
    "    params['w2'][0][0] += lr * 2 * error * a11    # W[2]11\n",
    "    params['w2'][1][0] += lr * 2 * error * a12    # W[2]21\n",
    "    params['b2'][0][0] += lr * 2 * error          # b21\n",
    "\n",
    "    # Update first hidden layer weights and biases\n",
    "    params['w1'][0][0] += lr * 2 * error * w211 * x1   # W[1]11\n",
    "    params['w1'][0][1] += lr * 2 * error * w211 * x2   # W[1]12\n",
    "    params['b1'][0][0] += lr * 2 * error * w211        # b11\n",
    "\n",
    "    params['w1'][1][0] += lr * 2 * error * w221 * x1   # W[1]21\n",
    "    params['w1'][1][1] += lr * 2 * error * w221 * x2   # W[1]22\n",
    "    params['b1'][1][0] += lr * 2 * error * w221        # b12\n",
    "\n",
    "    return params"
   ]
  },
  {
   "cell_type": "markdown",
   "id": "e0462cdb-34fe-4341-b7e4-d6e00c91e3c5",
   "metadata": {},
   "source": [
    "---"
   ]
  },
  {
   "cell_type": "markdown",
   "id": "8658b539-d93f-4614-8d9d-b3081498da75",
   "metadata": {},
   "source": [
    "## Predicting output and updating parameter for 1st sample:"
   ]
  },
  {
   "cell_type": "code",
   "execution_count": 9,
   "id": "40afa8c9-e0e9-4220-89f0-cd0a2d0e883d",
   "metadata": {},
   "outputs": [
    {
     "name": "stdout",
     "output_type": "stream",
     "text": [
      "[[0.5]\n",
      " [1. ]]\n",
      "5.75\n",
      "{'w1': array([[0.1, 0.1],\n",
      "       [0.1, 0.1]]), 'b1': array([[0.],\n",
      "       [0.]]), 'w2': array([[0.1],\n",
      "       [0.1]]), 'b2': array([[0.]])}\n"
     ]
    }
   ],
   "source": [
    "# Creating x(features) and y(target) array for 1st input sample:\n",
    "\n",
    "x = df[['Feature1', 'Feature2']].values[0].reshape(2,1)      # Shape(no of features, no. of training example)\n",
    "y = df[['y']].values[0][0]\n",
    "\n",
    "print(x)\n",
    "print(y)\n",
    "print(params)"
   ]
  },
  {
   "cell_type": "code",
   "execution_count": 10,
   "id": "6a7ef802-97d7-4620-9ddf-c84fc7cb50de",
   "metadata": {},
   "outputs": [
    {
     "name": "stdout",
     "output_type": "stream",
     "text": [
      "{'l1': array([[0.15],\n",
      "       [0.15]]), 'l2': array([[0.03]])}\n"
     ]
    }
   ],
   "source": [
    "# Prediction for 1st input sample:\n",
    "\n",
    "y1_hat = forward_pass(x, params, layer_dim)\n",
    "\n",
    "print(y1_hat)"
   ]
  },
  {
   "cell_type": "code",
   "execution_count": 11,
   "id": "e980900d-da60-4440-b0ea-5d3373807e9f",
   "metadata": {},
   "outputs": [
    {
     "name": "stdout",
     "output_type": "stream",
     "text": [
      "32.718399999999995\n"
     ]
    }
   ],
   "source": [
    "# Loss of 1st sample:\n",
    "\n",
    "print(loss(y , y1_hat['l2']).item())"
   ]
  },
  {
   "cell_type": "code",
   "execution_count": 12,
   "id": "ecc19432-d007-4173-934c-d6a721927b8f",
   "metadata": {},
   "outputs": [
    {
     "name": "stdout",
     "output_type": "stream",
     "text": [
      "{'w1': array([[0.100572, 0.101144],\n",
      "       [0.100572, 0.101144]]), 'b1': array([[0.001144],\n",
      "       [0.001144]]), 'w2': array([[0.101716],\n",
      "       [0.101716]]), 'b2': array([[0.01144]])}\n"
     ]
    }
   ],
   "source": [
    "# Updating parmaters for 1st input sample:\n",
    "\n",
    "update_parameters(params, y, y1_hat, x)\n",
    "\n",
    "print(params)"
   ]
  },
  {
   "cell_type": "code",
   "execution_count": 13,
   "id": "1513b576-c5a0-4356-9902-581cde04c056",
   "metadata": {},
   "outputs": [
    {
     "name": "stdout",
     "output_type": "stream",
     "text": [
      "Predicted o/p after paramter update:\n",
      " {'l1': array([[0.152002],\n",
      "       [0.15286 ]]), 'l2': array([[0.04244934]])}\n",
      "Loss after paramter update:\n",
      " 32.57613450002943\n"
     ]
    }
   ],
   "source": [
    "# Checking loss after parameter update for 1st sample:\n",
    "\n",
    "y1_new = forward_pass(x, params, layer_dim)\n",
    "print('Predicted o/p after paramter update:\\n', y1_new)\n",
    "print('Loss after paramter update:\\n', loss(y, y1_new['l2']).item())"
   ]
  },
  {
   "cell_type": "markdown",
   "id": "53e62425-e386-4738-a39f-175ebd0c7e8a",
   "metadata": {},
   "source": [
    "## Predicting output and updating parameter for 2nd sample:"
   ]
  },
  {
   "cell_type": "code",
   "execution_count": 14,
   "id": "bb63ff86-ea62-433f-a158-11ce931b62e0",
   "metadata": {},
   "outputs": [
    {
     "name": "stdout",
     "output_type": "stream",
     "text": [
      "X:\n",
      " [[1.5]\n",
      " [2. ]]\n",
      "Y:\n",
      " 9.25\n",
      "Initial Paramters:\n",
      " {'w1': array([[0.100572, 0.101144],\n",
      "       [0.100572, 0.101144]]), 'b1': array([[0.001144],\n",
      "       [0.001144]]), 'w2': array([[0.101716],\n",
      "       [0.101716]]), 'b2': array([[0.01144]])}\n",
      "Output of layers:\n",
      " {'l1': array([[0.353146],\n",
      "       [0.355148]]), 'l2': array([[0.08348483]])}\n",
      "Loss:  84.02500031593422\n",
      "Updated paramters:\n",
      " {'w1': array([[0.10336914, 0.10487353],\n",
      "       [0.10336914, 0.10487353]]), 'b1': array([[0.00300876],\n",
      "       [0.00300876]]), 'w2': array([[0.10819024],\n",
      "       [0.10822694]]), 'b2': array([[0.02977303]])}\n",
      "Predicted o/p after paramter update:\n",
      " {'l1': array([[0.36480077],\n",
      "       [0.3700661 ]]), 'l2': array([[0.10929203]])}\n",
      "Loss after paramter update:\n",
      " 83.55254214429553\n"
     ]
    }
   ],
   "source": [
    "x = df[['Feature1', 'Feature2']].values[1].reshape(2,1)      \n",
    "y = df[['y']].values[1][0]\n",
    "\n",
    "print('X:\\n', x)\n",
    "print('Y:\\n', y)\n",
    "print('Initial Paramters:\\n', params)\n",
    "\n",
    "# output prediction of layers\n",
    "y2_hat = forward_pass(x, params, layer_dim)\n",
    "print('Output of layers:\\n', y2_hat)\n",
    "\n",
    "# Loss\n",
    "print('Loss: ', loss(y, y2_hat['l2']).item())\n",
    "\n",
    "# Paramters update\n",
    "update_parameters(params, y, y2_hat, x)\n",
    "print('Updated paramters:\\n', params)\n",
    "\n",
    "# Checking loss after parameter update:\n",
    "y2_new = forward_pass(x, params, layer_dim)\n",
    "print('Predicted o/p after paramter update:\\n', y2_new)\n",
    "print('Loss after paramter update:\\n', loss(y, y2_new['l2']).item())"
   ]
  },
  {
   "cell_type": "markdown",
   "id": "d71c2f34-206d-4c1b-adf2-ce89af234f9c",
   "metadata": {},
   "source": [
    "## Predicting output and updating parameter for 3rd sample:"
   ]
  },
  {
   "cell_type": "code",
   "execution_count": 15,
   "id": "bc18d94a-1d12-4d7c-a84e-bf37df141a57",
   "metadata": {},
   "outputs": [
    {
     "name": "stdout",
     "output_type": "stream",
     "text": [
      "X:\n",
      " [[3.]\n",
      " [1.]]\n",
      "Y:\n",
      " 9.5\n",
      "Initial Paramters:\n",
      " {'w1': array([[0.10336914, 0.10487353],\n",
      "       [0.10336914, 0.10487353]]), 'b1': array([[0.00300876],\n",
      "       [0.00300876]]), 'w2': array([[0.10819024],\n",
      "       [0.10822694]]), 'b2': array([[0.02977303]])}\n",
      "Output of layers:\n",
      " {'l1': array([[0.41648534],\n",
      "       [0.42250286]]), 'l2': array([[0.12055887]])}\n",
      "Loss:  87.97391592985298\n",
      "Updated paramters:\n",
      " {'w1': array([[0.10945773, 0.10690305],\n",
      "       [0.10945979, 0.10690374]]), 'b1': array([[0.00503829],\n",
      "       [0.00503898]]), 'w2': array([[0.11600304],\n",
      "       [0.11615262]]), 'b2': array([[0.04853191]])}\n",
      "Predicted o/p after paramter update:\n",
      " {'l1': array([[0.44287127],\n",
      "       [0.43265188]]), 'l2': array([[0.15015997]])}\n",
      "Loss after paramter update:\n",
      " 87.4195085227457\n"
     ]
    }
   ],
   "source": [
    "x = df[['Feature1', 'Feature2']].values[2].reshape(2,1)      \n",
    "y = df[['y']].values[2][0]\n",
    "\n",
    "print('X:\\n', x)\n",
    "print('Y:\\n', y)\n",
    "print('Initial Paramters:\\n', params)\n",
    "\n",
    "# output prediction of layers\n",
    "y3_hat = forward_pass(x, params, layer_dim)\n",
    "print('Output of layers:\\n', y3_hat)\n",
    "\n",
    "# Loss\n",
    "print('Loss: ', loss(y, y3_hat['l2']).item())\n",
    "\n",
    "# Paramters update\n",
    "update_parameters(params, y, y3_hat, x)\n",
    "print('Updated paramters:\\n', params)\n",
    "\n",
    "# Checking loss after parameter update:\n",
    "y3_new = forward_pass(x, params, layer_dim)\n",
    "print('Predicted o/p after paramter update:\\n', y3_new)\n",
    "print('Loss after paramter update:\\n', loss(y, y3_new['l2']).item())"
   ]
  },
  {
   "cell_type": "markdown",
   "id": "a4bac9e5-ddcc-4340-b28a-04977f618942",
   "metadata": {},
   "source": [
    "---"
   ]
  },
  {
   "cell_type": "code",
   "execution_count": 16,
   "id": "260a9151-27bb-4bb2-8799-1ceb58949cdc",
   "metadata": {},
   "outputs": [
    {
     "name": "stdout",
     "output_type": "stream",
     "text": [
      "Epoch  0 :\n",
      "Parameters: {'w1': array([[0.14175789, 0.132368  ],\n",
      "       [0.14168484, 0.13232879]]), 'b1': array([[0.01891096],\n",
      "       [0.01888898]]), 'w2': array([[0.16835665],\n",
      "       [0.1673425 ]]), 'b2': array([[0.1534483]])}\n",
      "Sample loss: [32.065336303339684, 82.78257360671338, 86.61765584837131, 137.906121227915, 16.027971503281233, 159.85499715889136]\n",
      "Epoch Loss:  85.87577594141867\n",
      "------------------------------------------------------------------------------------------------------------------------\n",
      "Epoch  1 :\n",
      "Parameters: {'w1': array([[0.1869137 , 0.1680447 ],\n",
      "       [0.18623189, 0.16756766]]), 'b1': array([[0.03833816],\n",
      "       [0.03807976]]), 'w2': array([[0.23644479],\n",
      "       [0.23139497]]), 'b2': array([[0.25597381]])}\n",
      "Sample loss: [30.483658570703867, 79.44841876965553, 82.86227320800639, 132.32531002101257, 15.001163935183307, 152.49508999389968]\n",
      "Epoch Loss:  82.10265241641022\n",
      "------------------------------------------------------------------------------------------------------------------------\n",
      "Epoch  2 :\n",
      "Parameters: {'w1': array([[0.24768964, 0.21617281],\n",
      "       [0.24517503, 0.21430946]]), 'b1': array([[0.06453997],\n",
      "       [0.06353154]]), 'w2': array([[0.32477015],\n",
      "       [0.3119232 ]]), 'b2': array([[0.35524167]])}\n",
      "Sample loss: [28.641787394020213, 75.11049219691013, 77.83576159737501, 124.54445989920436, 13.859401548518322, 141.85444431342384]\n",
      "Epoch Loss:  76.97439115824199\n",
      "------------------------------------------------------------------------------------------------------------------------\n",
      "Epoch  3 :\n",
      "Parameters: {'w1': array([[0.32628943, 0.27863819],\n",
      "       [0.31998011, 0.27384124]]), 'b1': array([[0.09856465],\n",
      "       [0.0959652 ]]), 'w2': array([[0.43684987],\n",
      "       [0.41165402]]), 'b2': array([[0.44979209]])}\n",
      "Sample loss: [26.353554609917165, 69.12276017209433, 70.75342948401281, 113.28591284680608, 12.522331349809058, 126.19932259412741]\n",
      "Epoch Loss:  69.70621850946115\n",
      "------------------------------------------------------------------------------------------------------------------------\n",
      "Epoch  4 :\n",
      "Parameters: {'w1': array([[0.4225673 , 0.35562798],\n",
      "       [0.40995472, 0.34588042]]), 'b1': array([[0.14057985],\n",
      "       [0.13528693]]), 'w2': array([[0.57290578],\n",
      "       [0.53052439]]), 'b2': array([[0.53736467]])}\n",
      "Sample loss: [23.39186152157153, 60.71992088517154, 60.74548374314239, 97.22388366625454, 10.911315938970967, 104.04190196436173]\n",
      "Epoch Loss:  59.50572795324545\n",
      "------------------------------------------------------------------------------------------------------------------------\n",
      "Epoch  5 :\n",
      "Parameters: {'w1': array([[0.53144278, 0.44363152],\n",
      "       [0.51008288, 0.42689724]]), 'b1': array([[0.18880853],\n",
      "       [0.17969477]]), 'w2': array([[0.72643885],\n",
      "       [0.66290849]]), 'b2': array([[0.6149135]])}\n",
      "Sample loss: [19.5946068584526, 49.426616072692845, 47.44430189392714, 76.00698801777533, 9.014400326363168, 75.84405868078197]\n",
      "Epoch Loss:  46.2218286416655\n",
      "------------------------------------------------------------------------------------------------------------------------\n",
      "Epoch  6 :\n",
      "Parameters: {'w1': array([[0.6413413 , 0.53409355],\n",
      "       [0.60985196, 0.50908489]]), 'b1': array([[0.23878192],\n",
      "       [0.22510359]]), 'w2': array([[0.88208501],\n",
      "       [0.79596783]]), 'b2': array([[0.67923109]])}\n",
      "Sample loss: [15.094745983758475, 35.88878996048146, 32.03162049655463, 51.848164680338286, 6.976816066580644, 45.98593220347771]\n",
      "Epoch Loss:  31.30434489853187\n",
      "------------------------------------------------------------------------------------------------------------------------\n",
      "Epoch  7 :\n",
      "Parameters: {'w1': array([[0.73716898, 0.61541808],\n",
      "       [0.69602542, 0.58225392]]), 'b1': array([[0.28433553],\n",
      "       [0.26609254]]), 'w2': array([[1.01948604],\n",
      "       [0.91294292]]), 'b2': array([[0.72833008]])}\n",
      "Sample loss: [10.513104964690347, 22.443665406483195, 17.659365178578412, 29.751677324520372, 5.101378653075093, 21.66147724423243]\n",
      "Epoch Loss:  17.855111461929972\n",
      "------------------------------------------------------------------------------------------------------------------------\n",
      "Epoch  8 :\n",
      "Parameters: {'w1': array([[0.80801567, 0.67877522],\n",
      "       [0.75933992, 0.6388919 ]]), 'b1': array([[0.32065575],\n",
      "       [0.29856206]]), 'w2': array([[1.12365678],\n",
      "       [1.00164298]]), 'b2': array([[0.76274632]])}\n",
      "Sample loss: [6.713416771089999, 11.993041705146538, 7.5749625039413795, 14.277894451319552, 3.6639266656111613, 7.338603259100949]\n",
      "Epoch Loss:  8.593640892701597\n",
      "------------------------------------------------------------------------------------------------------------------------\n",
      "Epoch  9 :\n",
      "Parameters: {'w1': array([[0.85243263, 0.72244665],\n",
      "       [0.79889332, 0.67778682]]), 'b1': array([[0.34665713],\n",
      "       [0.32171942]]), 'w2': array([[1.19233485],\n",
      "       [1.06036085]]), 'b2': array([[0.78538693]])}\n",
      "Sample loss: [4.164879624240523, 5.715709285198826, 2.431501502835395, 5.984752767241234, 2.7273570282009665, 1.516767810377844]\n",
      "Epoch Loss:  3.7568280030157983\n",
      "------------------------------------------------------------------------------------------------------------------------\n"
     ]
    }
   ],
   "source": [
    "# Epoch Implementation:\n",
    "\n",
    "for j in range(10):\n",
    "    \n",
    "    sample_loss = []\n",
    "\n",
    "    for i in range(df.shape[0]):\n",
    "\n",
    "        x = df[['Feature1', 'Feature2']].values[i].reshape(2,1)\n",
    "        y = df[['y']].values[i][0]\n",
    "        \n",
    "        y_hat = forward_pass(x, params, layer_dim)\n",
    "        \n",
    "        sample_loss.append(loss(y, y_hat['l2']).item())\n",
    "        \n",
    "        update_parameters(params, y, y_hat, x)\n",
    "\n",
    "    print('Epoch ', str(j), ':')\n",
    "    print('Parameters:', params)\n",
    "    print('Sample loss:', sample_loss)\n",
    "    print('Epoch Loss: ', np.mean(sample_loss))\n",
    "    print('------------------------------------------------------------------------------------------------------------------------')"
   ]
  },
  {
   "cell_type": "code",
   "execution_count": null,
   "id": "755328d7-bc30-4532-8e5a-473819a1dd59",
   "metadata": {},
   "outputs": [],
   "source": []
  }
 ],
 "metadata": {
  "kernelspec": {
   "display_name": "Python 3 (ipykernel)",
   "language": "python",
   "name": "python3"
  },
  "language_info": {
   "codemirror_mode": {
    "name": "ipython",
    "version": 3
   },
   "file_extension": ".py",
   "mimetype": "text/x-python",
   "name": "python",
   "nbconvert_exporter": "python",
   "pygments_lexer": "ipython3",
   "version": "3.12.7"
  }
 },
 "nbformat": 4,
 "nbformat_minor": 5
}
