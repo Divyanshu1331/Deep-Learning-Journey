{
  "nbformat": 4,
  "nbformat_minor": 0,
  "metadata": {
    "colab": {
      "provenance": [],
      "gpuType": "T4"
    },
    "kernelspec": {
      "name": "python3",
      "display_name": "Python 3"
    },
    "language_info": {
      "name": "python"
    },
    "accelerator": "GPU"
  },
  "cells": [
    {
      "cell_type": "code",
      "execution_count": 1,
      "metadata": {
        "id": "uwZvXSNNZbKj"
      },
      "outputs": [],
      "source": [
        "import pandas as pd\n",
        "import matplotlib.pyplot as plt\n",
        "\n",
        "import torch\n",
        "from torch.utils.data import Dataset, DataLoader\n",
        "import torch.nn as nn"
      ]
    },
    {
      "cell_type": "code",
      "source": [
        "# Seting random seed for reproducibility\n",
        "torch.manual_seed(42)"
      ],
      "metadata": {
        "colab": {
          "base_uri": "https://localhost:8080/"
        },
        "collapsed": true,
        "id": "v50W4_QB60S8",
        "outputId": "d399aa4f-1406-47c4-fff1-72b3d4476eab"
      },
      "execution_count": 2,
      "outputs": [
        {
          "output_type": "execute_result",
          "data": {
            "text/plain": [
              "<torch._C.Generator at 0x7bae62087d50>"
            ]
          },
          "metadata": {},
          "execution_count": 2
        }
      ]
    },
    {
      "cell_type": "code",
      "source": [
        "# Checking if GPU is available\n",
        "device = torch.device('cuda' if torch.cuda.is_available() else 'cpu')\n",
        "print('Available device: ', device)"
      ],
      "metadata": {
        "colab": {
          "base_uri": "https://localhost:8080/"
        },
        "id": "2UXbxgZK7CnY",
        "outputId": "f6a32854-1bd3-4ac8-8a80-7baa3e02b1f9"
      },
      "execution_count": 3,
      "outputs": [
        {
          "output_type": "stream",
          "name": "stdout",
          "text": [
            "Available device:  cuda\n"
          ]
        }
      ]
    },
    {
      "cell_type": "markdown",
      "source": [
        "# 1) Loading Fashion MNIST dataset\n",
        "\n",
        "#### ABOUT THE FASHION_MNIST DATASET:\n",
        "\n",
        "The Fashion-MNIST is a dataset of Zalando's article images. The Fashion-MNIST dataset is a popular dataset used for benchmarking machine learning models, particularly in computer vision. It is designed as a drop-in replacement for the original MNIST dataset but contains images of clothing items instead of handwritten digits.\n",
        "\n",
        "#### **Overview of the Fashion-MNIST Dataset:**\n",
        "- **Size:** 70,000 grayscale images  \n",
        "- **Training set:** 60,000 images  \n",
        "- **Test set:** 10,000 images  \n",
        "- **Image dimensions:** 28x28 pixels  \n",
        "- **Number of classes:** 10 (each representing a type of clothing)  \n",
        "\n",
        "#### **Classes (Labels) in Fashion-MNIST**\n",
        "Each image belongs to one of the following 10 classes:\n",
        "\n",
        "| Label | Class Name     |\n",
        "|-------|--------------|\n",
        "| 0     | T-shirt/top  |\n",
        "| 1     | Trouser      |\n",
        "| 2     | Pullover     |\n",
        "| 3     | Dress        |\n",
        "| 4     | Coat         |\n",
        "| 5     | Sandal       |\n",
        "| 6     | Shirt        |\n",
        "| 7     | Sneaker      |\n",
        "| 8     | Bag          |\n",
        "| 9     | Ankle boot   |\n",
        "\n",
        "#### **Key Features:**\n",
        "- The dataset is more challenging than MNIST because the images have more complex patterns.  \n",
        "- It is intended to be used as a benchmark for machine learning and deep learning models.  \n",
        "- Each pixel in the images has values ranging from **0 to 255** (grayscale intensity).  \n",
        "- Unlike color images (RGB), these images have only **one channel**.  \n",
        "- The images are already preprocessed, so they are in **NumPy array format**.  \n"
      ],
      "metadata": {
        "id": "OQlgf6WMNYgV"
      }
    },
    {
      "cell_type": "code",
      "source": [
        "from tensorflow.keras.datasets import fashion_mnist\n",
        "(x_train, y_train), (x_test, y_test) = fashion_mnist.load_data()"
      ],
      "metadata": {
        "colab": {
          "base_uri": "https://localhost:8080/"
        },
        "id": "OsocKQdW7fJj",
        "outputId": "549fc088-eadd-45f6-e31b-b99c9419dad7"
      },
      "execution_count": 4,
      "outputs": [
        {
          "output_type": "stream",
          "name": "stdout",
          "text": [
            "Downloading data from https://storage.googleapis.com/tensorflow/tf-keras-datasets/train-labels-idx1-ubyte.gz\n",
            "\u001b[1m29515/29515\u001b[0m \u001b[32m━━━━━━━━━━━━━━━━━━━━\u001b[0m\u001b[37m\u001b[0m \u001b[1m0s\u001b[0m 0us/step\n",
            "Downloading data from https://storage.googleapis.com/tensorflow/tf-keras-datasets/train-images-idx3-ubyte.gz\n",
            "\u001b[1m26421880/26421880\u001b[0m \u001b[32m━━━━━━━━━━━━━━━━━━━━\u001b[0m\u001b[37m\u001b[0m \u001b[1m0s\u001b[0m 0us/step\n",
            "Downloading data from https://storage.googleapis.com/tensorflow/tf-keras-datasets/t10k-labels-idx1-ubyte.gz\n",
            "\u001b[1m5148/5148\u001b[0m \u001b[32m━━━━━━━━━━━━━━━━━━━━\u001b[0m\u001b[37m\u001b[0m \u001b[1m0s\u001b[0m 0us/step\n",
            "Downloading data from https://storage.googleapis.com/tensorflow/tf-keras-datasets/t10k-images-idx3-ubyte.gz\n",
            "\u001b[1m4422102/4422102\u001b[0m \u001b[32m━━━━━━━━━━━━━━━━━━━━\u001b[0m\u001b[37m\u001b[0m \u001b[1m0s\u001b[0m 0us/step\n"
          ]
        }
      ]
    },
    {
      "cell_type": "code",
      "source": [
        "print(x_train.shape, y_train.shape)\n",
        "print(x_test.shape, y_test.shape)"
      ],
      "metadata": {
        "colab": {
          "base_uri": "https://localhost:8080/"
        },
        "id": "S1x7vilENjzG",
        "outputId": "9c934916-aac2-4917-e441-a879e404e04f"
      },
      "execution_count": 5,
      "outputs": [
        {
          "output_type": "stream",
          "name": "stdout",
          "text": [
            "(60000, 28, 28) (60000,)\n",
            "(10000, 28, 28) (10000,)\n"
          ]
        }
      ]
    },
    {
      "cell_type": "code",
      "source": [
        "fig, axes = plt.subplots(1, 2, figsize = (10, 5))\n",
        "\n",
        "# 1st image\n",
        "axes[0].imshow(x_train[31])\n",
        "axes[0].set_title('Label: '+ str(y_train[31]))\n",
        "\n",
        "# 2nd image in grayscale\n",
        "axes[1].imshow(x_train[13], cmap = 'gray')\n",
        "axes[1].set_title('Label: '+ str(y_train[13]))\n",
        "\n",
        "plt.show()"
      ],
      "metadata": {
        "colab": {
          "base_uri": "https://localhost:8080/",
          "height": 435
        },
        "id": "KUQC3MXiO9iH",
        "outputId": "6091317e-fd5c-4f67-82a7-c6f3f1b121a8"
      },
      "execution_count": 6,
      "outputs": [
        {
          "output_type": "display_data",
          "data": {
            "text/plain": [
              "<Figure size 1000x500 with 2 Axes>"
            ],
            "image/png": "[encoded data removed]"
          },
          "metadata": {}
        }
      ]
    },
    {
      "cell_type": "markdown",
      "source": [
        "# 2) Creating Dataset class"
      ],
      "metadata": {
        "id": "lUV6leEAwO1k"
      }
    },
    {
      "cell_type": "code",
      "source": [
        "class MyDataset(Dataset):\n",
        "\n",
        "  def __init__(self, features, label, transform = None):\n",
        "\n",
        "    # Loading features and label from the dataset\n",
        "    self.features = features\n",
        "    self.label = label\n",
        "\n",
        "    self.transform = transform      # Defining transformation, if a transformation function is passed by user while making the object of this class\n",
        "\n",
        "  def __len__(self):\n",
        "    return len(self.features)\n",
        "\n",
        "  def __getitem__(self, idx):\n",
        "\n",
        "    # Getting features and label of a particular row\n",
        "    x = self.features[idx]\n",
        "    y = self.label[idx]\n",
        "\n",
        "    if self.transform:\n",
        "      x = self.transform(x)                               # We get x as tensor after applying the transformation\n",
        "\n",
        "    x = x.reshape(1, 28, 28).float()                      # Reshape to (channels, height, width) and convert to float\n",
        "\n",
        "    y = torch.tensor(y, dtype = torch.long)               # Converting y to tensor too and setting dtype to long for CrossEntropyLoss\n",
        "\n",
        "    return x, y"
      ],
      "metadata": {
        "id": "afkEefCazELQ"
      },
      "execution_count": 7,
      "outputs": []
    },
    {
      "cell_type": "markdown",
      "source": [
        "# 3) Creating transformation function"
      ],
      "metadata": {
        "id": "7hzf5qm41nN9"
      }
    },
    {
      "cell_type": "code",
      "source": [
        "def transformation(features):\n",
        "\n",
        "  features = features/255.0                   # Scaling the data\n",
        "  features = torch.tensor(features)           # Converting to tensor\n",
        "  return features"
      ],
      "metadata": {
        "id": "HdZGuDFHQ2Y7"
      },
      "execution_count": 8,
      "outputs": []
    },
    {
      "cell_type": "markdown",
      "source": [
        "# 4) Creating Dataset & DataLoader object"
      ],
      "metadata": {
        "id": "UPbmMxiw18Fv"
      }
    },
    {
      "cell_type": "code",
      "source": [
        "train_dataset = MyDataset(x_train, y_train, transform = transformation)\n",
        "test_dataset = MyDataset(x_test, y_test, transform = transformation)"
      ],
      "metadata": {
        "id": "W0FScxYY1dqC"
      },
      "execution_count": 9,
      "outputs": []
    },
    {
      "cell_type": "code",
      "source": [
        "train_loader = DataLoader(train_dataset, batch_size = 32, shuffle = True, pin_memory = True)\n",
        "test_loader = DataLoader(test_dataset, batch_size = 32, shuffle = False, pin_memory = True)"
      ],
      "metadata": {
        "id": "Tl0RSy9g2adI"
      },
      "execution_count": 10,
      "outputs": []
    },
    {
      "cell_type": "markdown",
      "source": [
        "# 5) Building CNN Architecture"
      ],
      "metadata": {
        "id": "ywvandqo3Cuw"
      }
    },
    {
      "cell_type": "code",
      "source": [
        "class CNNmodel(nn.Module):\n",
        "\n",
        "  def __init__(self, num_in_channels):\n",
        "    super(CNNmodel, self).__init__()\n",
        "\n",
        "    # Creating convolution layers\n",
        "    self.convlayers = nn.Sequential(\n",
        "\n",
        "        nn.Conv2d(in_channels = num_in_channels, out_channels = 32, kernel_size = 3, padding = 'same'),    # in_channels: Number of channels in input (i.e grayscale=1, RGB=3),\n",
        "                                                                                             # out_channels: number of filters/kernels to be applied in the convolutional layer.\n",
        "        nn.ReLU(),\n",
        "        nn.BatchNorm2d(32),\n",
        "        nn.MaxPool2d(kernel_size = 2, stride = 2),\n",
        "\n",
        "        nn.Conv2d(in_channels = 32, out_channels = 64, kernel_size = 3, padding = 'same'),    # Here the in_channels is 32, cause the input is a feature map (28,28,32)\n",
        "        nn.ReLU(),\n",
        "        nn.BatchNorm2d(64),\n",
        "        nn.MaxPool2d(kernel_size = 2, stride = 2)\n",
        "    )\n",
        "\n",
        "\n",
        "    # Creating FC layers\n",
        "    self.FClayers = nn.Sequential(\n",
        "        nn.Flatten(),\n",
        "\n",
        "        nn.Linear(in_features = 64*7*7, out_features = 128),      # 'in_features' is number of inputs comming to the layer\n",
        "        nn.ReLU(),\n",
        "        nn.Dropout(p = 0.3),\n",
        "\n",
        "        nn.Linear(in_features = 128, out_features = 64),          # 'out_features' is number of neurons in this layer\n",
        "        nn.ReLU(),\n",
        "        nn.Dropout(p = 0.3),\n",
        "\n",
        "        nn.Linear(in_features = 64, out_features = 10)\n",
        "    )\n",
        "\n",
        "\n",
        "  def forward(self, x):\n",
        "\n",
        "    y_pred = self.convlayers(x)\n",
        "    y_pred = self.FClayers(y_pred)\n",
        "    return y_pred\n",
        "\n",
        "  def loss_function(self, y_pred, y):\n",
        "\n",
        "    loss_fn = nn.CrossEntropyLoss()\n",
        "    loss = loss_fn(y_pred, y)\n",
        "    return loss"
      ],
      "metadata": {
        "id": "kfj69e7g3CBJ"
      },
      "execution_count": 11,
      "outputs": []
    },
    {
      "cell_type": "markdown",
      "source": [
        "# 6) Training the model"
      ],
      "metadata": {
        "id": "kS7EQbIz2lQU"
      }
    },
    {
      "cell_type": "code",
      "source": [
        "# Making object of the model\n",
        "model = CNNmodel(num_in_channels = 1)                 # All images are grayscale in dataset, so channels = 1\n",
        "print(model)\n",
        "\n",
        "# Creating optimizer\n",
        "optimizer = torch.optim.Adam(model.parameters(), lr = 0.001)"
      ],
      "metadata": {
        "colab": {
          "base_uri": "https://localhost:8080/"
        },
        "id": "w4Wan2552Jce",
        "outputId": "39881aee-13f5-46e2-9390-8cd770290360"
      },
      "execution_count": 12,
      "outputs": [
        {
          "output_type": "stream",
          "name": "stdout",
          "text": [
            "CNNmodel(\n",
            "  (convlayers): Sequential(\n",
            "    (0): Conv2d(1, 32, kernel_size=(3, 3), stride=(1, 1), padding=same)\n",
            "    (1): ReLU()\n",
            "    (2): BatchNorm2d(32, eps=1e-05, momentum=0.1, affine=True, track_running_stats=True)\n",
            "    (3): MaxPool2d(kernel_size=2, stride=2, padding=0, dilation=1, ceil_mode=False)\n",
            "    (4): Conv2d(32, 64, kernel_size=(3, 3), stride=(1, 1), padding=same)\n",
            "    (5): ReLU()\n",
            "    (6): BatchNorm2d(64, eps=1e-05, momentum=0.1, affine=True, track_running_stats=True)\n",
            "    (7): MaxPool2d(kernel_size=2, stride=2, padding=0, dilation=1, ceil_mode=False)\n",
            "  )\n",
            "  (FClayers): Sequential(\n",
            "    (0): Flatten(start_dim=1, end_dim=-1)\n",
            "    (1): Linear(in_features=3136, out_features=128, bias=True)\n",
            "    (2): ReLU()\n",
            "    (3): Dropout(p=0.3, inplace=False)\n",
            "    (4): Linear(in_features=128, out_features=64, bias=True)\n",
            "    (5): ReLU()\n",
            "    (6): Dropout(p=0.3, inplace=False)\n",
            "    (7): Linear(in_features=64, out_features=10, bias=True)\n",
            "  )\n",
            ")\n"
          ]
        }
      ]
    },
    {
      "cell_type": "code",
      "source": [
        "# Moving the model to GPU\n",
        "model = model.to(device)"
      ],
      "metadata": {
        "id": "iNV9MIKi381I"
      },
      "execution_count": 13,
      "outputs": []
    },
    {
      "cell_type": "code",
      "source": [
        "# Training the model\n",
        "\n",
        "for epoch in range(25):\n",
        "\n",
        "  total_epoch_loss = 0.0                                                    # Initialize total_epoch_loss for each epoch\n",
        "\n",
        "  for batch_features, batch_label in train_loader:\n",
        "\n",
        "    # move data to gpu\n",
        "    batch_features, batch_label = batch_features.to(device), batch_label.to(device)\n",
        "\n",
        "    # Forward pass\n",
        "    y_pred = model.forward(batch_features)\n",
        "\n",
        "    # loss calculation\n",
        "    loss = model.loss_function(y_pred, batch_label)\n",
        "\n",
        "    # Backward pass\n",
        "    loss.backward()\n",
        "\n",
        "    # Update parameters\n",
        "    optimizer.step()\n",
        "\n",
        "    # Reset the gradients\n",
        "    optimizer.zero_grad()\n",
        "\n",
        "    total_epoch_loss = total_epoch_loss + loss.item()\n",
        "\n",
        "  avg_loss = total_epoch_loss/len(train_loader)\n",
        "  print(f'Epoch: {epoch + 1} , Loss: {avg_loss}')"
      ],
      "metadata": {
        "colab": {
          "base_uri": "https://localhost:8080/"
        },
        "id": "dGUJDqm323j5",
        "outputId": "ce53994a-45c7-4287-9236-44a55a370786"
      },
      "execution_count": 14,
      "outputs": [
        {
          "output_type": "stream",
          "name": "stdout",
          "text": [
            "Epoch: 1 , Loss: 0.4230326317369938\n",
            "Epoch: 2 , Loss: 0.2894171301474174\n",
            "Epoch: 3 , Loss: 0.2484630409821868\n",
            "Epoch: 4 , Loss: 0.22439276268184186\n",
            "Epoch: 5 , Loss: 0.2064360776702563\n",
            "Epoch: 6 , Loss: 0.18917190721084673\n",
            "Epoch: 7 , Loss: 0.1751848121235768\n",
            "Epoch: 8 , Loss: 0.16188538354256501\n",
            "Epoch: 9 , Loss: 0.15410368787224094\n",
            "Epoch: 10 , Loss: 0.1413416060609122\n",
            "Epoch: 11 , Loss: 0.1317558969175443\n",
            "Epoch: 12 , Loss: 0.12381397704531749\n",
            "Epoch: 13 , Loss: 0.11550566770940399\n",
            "Epoch: 14 , Loss: 0.109162228036051\n",
            "Epoch: 15 , Loss: 0.11089382017736013\n",
            "Epoch: 16 , Loss: 0.10231695378395574\n",
            "Epoch: 17 , Loss: 0.09472894479517514\n",
            "Epoch: 18 , Loss: 0.0944117819094332\n",
            "Epoch: 19 , Loss: 0.08832814564182967\n",
            "Epoch: 20 , Loss: 0.08284111544643528\n",
            "Epoch: 21 , Loss: 0.07818995015406788\n",
            "Epoch: 22 , Loss: 0.08167998822850447\n",
            "Epoch: 23 , Loss: 0.07586038278145134\n",
            "Epoch: 24 , Loss: 0.07245505283665843\n",
            "Epoch: 25 , Loss: 0.06966361249735734\n"
          ]
        }
      ]
    },
    {
      "cell_type": "markdown",
      "source": [
        "# 7) Model Evaluation"
      ],
      "metadata": {
        "id": "nNmAwLS3AbCS"
      }
    },
    {
      "cell_type": "code",
      "source": [
        "# Setting model to evaluation mode\n",
        "model.eval()"
      ],
      "metadata": {
        "colab": {
          "base_uri": "https://localhost:8080/"
        },
        "id": "c8CxfnZt4v6q",
        "outputId": "df578d39-ea67-47fe-8100-64a56ed6a498"
      },
      "execution_count": 15,
      "outputs": [
        {
          "output_type": "execute_result",
          "data": {
            "text/plain": [
              "CNNmodel(\n",
              "  (convlayers): Sequential(\n",
              "    (0): Conv2d(1, 32, kernel_size=(3, 3), stride=(1, 1), padding=same)\n",
              "    (1): ReLU()\n",
              "    (2): BatchNorm2d(32, eps=1e-05, momentum=0.1, affine=True, track_running_stats=True)\n",
              "    (3): MaxPool2d(kernel_size=2, stride=2, padding=0, dilation=1, ceil_mode=False)\n",
              "    (4): Conv2d(32, 64, kernel_size=(3, 3), stride=(1, 1), padding=same)\n",
              "    (5): ReLU()\n",
              "    (6): BatchNorm2d(64, eps=1e-05, momentum=0.1, affine=True, track_running_stats=True)\n",
              "    (7): MaxPool2d(kernel_size=2, stride=2, padding=0, dilation=1, ceil_mode=False)\n",
              "  )\n",
              "  (FClayers): Sequential(\n",
              "    (0): Flatten(start_dim=1, end_dim=-1)\n",
              "    (1): Linear(in_features=3136, out_features=128, bias=True)\n",
              "    (2): ReLU()\n",
              "    (3): Dropout(p=0.3, inplace=False)\n",
              "    (4): Linear(in_features=128, out_features=64, bias=True)\n",
              "    (5): ReLU()\n",
              "    (6): Dropout(p=0.3, inplace=False)\n",
              "    (7): Linear(in_features=64, out_features=10, bias=True)\n",
              "  )\n",
              ")"
            ]
          },
          "metadata": {},
          "execution_count": 15
        }
      ]
    },
    {
      "cell_type": "code",
      "source": [
        "# Evaluation of model on test data\n",
        "\n",
        "correct_pred = 0\n",
        "total_samples = 0\n",
        "\n",
        "with torch.no_grad():\n",
        "\n",
        "  for batch_features, batch_label in test_loader:\n",
        "\n",
        "    # Move data on GPU\n",
        "    batch_features, batch_label = batch_features.to(device), batch_label.to(device)\n",
        "\n",
        "    # Forward pass\n",
        "    y_test_pred = model.forward(batch_features)\n",
        "\n",
        "    # Get predicted class index\n",
        "    _, predicted = torch.max(y_test_pred, 1)\n",
        "\n",
        "    # Check if correctly predicted\n",
        "    correct_pred += (predicted == batch_label).sum().item()\n",
        "\n",
        "    # Total samples\n",
        "    total_samples += batch_label.shape[0]\n",
        "\n",
        "\n",
        "# Calculating Accuracy\n",
        "acc = correct_pred/total_samples\n",
        "print(f'Accuracy on test data: {acc*100}')"
      ],
      "metadata": {
        "colab": {
          "base_uri": "https://localhost:8080/"
        },
        "id": "hbOUWIZEAiB7",
        "outputId": "7065c7f3-1856-4ba8-999d-4dd2684d3179"
      },
      "execution_count": 16,
      "outputs": [
        {
          "output_type": "stream",
          "name": "stdout",
          "text": [
            "Accuracy on test data: 91.17\n"
          ]
        }
      ]
    },
    {
      "cell_type": "code",
      "source": [],
      "metadata": {
        "id": "MbDNeoqZBtAk"
      },
      "execution_count": 16,
      "outputs": []
    }
  ]
}