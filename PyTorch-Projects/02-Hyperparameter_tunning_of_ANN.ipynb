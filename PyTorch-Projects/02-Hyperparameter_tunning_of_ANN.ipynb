{
  "cells": [
    {
      "cell_type": "code",
      "execution_count": null,
      "metadata": {
        "id": "nkaYuTKGlq0Q"
      },
      "outputs": [],
      "source": [
        "import pandas as pd\n",
        "import numpy as np\n",
        "from sklearn.model_selection import train_test_split\n",
        "import torch\n",
        "from torch.utils.data import Dataset, DataLoader\n",
        "import torch.nn as nn"
      ]
    },
    {
      "cell_type": "markdown",
      "metadata": {
        "id": "Y9y5ZSIVDmPG"
      },
      "source": [
        "# 1) Loading Adult Income Dataset (Census Income) dataset"
      ]
    },
    {
      "cell_type": "code",
      "execution_count": null,
      "metadata": {
        "colab": {
          "base_uri": "https://localhost:8080/",
          "height": 330
        },
        "id": "uhfHlWBBDgXY",
        "outputId": "f79721e4-2664-4637-ad34-748f69870989"
      },
      "outputs": [
        {
          "name": "stdout",
          "output_type": "stream",
          "text": [
            "(32561, 15)\n"
          ]
        },
        {
          "data": {
            "application/vnd.google.colaboratory.intrinsic+json": {
              "summary": "{\n  \"name\": \"adult\",\n  \"rows\": 32561,\n  \"fields\": [\n    {\n      \"column\": \"age\",\n      \"properties\": {\n        \"dtype\": \"number\",\n        \"std\": 13,\n        \"min\": 17,\n        \"max\": 90,\n        \"num_unique_values\": 73,\n        \"samples\": [\n          28,\n          73,\n          35\n        ],\n        \"semantic_type\": \"\",\n        \"description\": \"\"\n      }\n    },\n    {\n      \"column\": \"workclass\",\n      \"properties\": {\n        \"dtype\": \"category\",\n        \"num_unique_values\": 9,\n        \"samples\": [\n          \"Without-pay\",\n          \"Self-emp-not-inc\",\n          \"?\"\n        ],\n        \"semantic_type\": \"\",\n        \"description\": \"\"\n      }\n    },\n    {\n      \"column\": \"fnlwgt\",\n      \"properties\": {\n        \"dtype\": \"number\",\n        \"std\": 105549,\n        \"min\": 12285,\n        \"max\": 1484705,\n        \"num_unique_values\": 21648,\n        \"samples\": [\n          128485,\n          469907,\n          235951\n        ],\n        \"semantic_type\": \"\",\n        \"description\": \"\"\n      }\n    },\n    {\n      \"column\": \"education\",\n      \"properties\": {\n        \"dtype\": \"category\",\n        \"num_unique_values\": 16,\n        \"samples\": [\n          \"Bachelors\",\n          \"HS-grad\",\n          \"Some-college\"\n        ],\n        \"semantic_type\": \"\",\n        \"description\": \"\"\n      }\n    },\n    {\n      \"column\": \"education_num\",\n      \"properties\": {\n        \"dtype\": \"number\",\n        \"std\": 2,\n        \"min\": 1,\n        \"max\": 16,\n        \"num_unique_values\": 16,\n        \"samples\": [\n          13,\n          9,\n          10\n        ],\n        \"semantic_type\": \"\",\n        \"description\": \"\"\n      }\n    },\n    {\n      \"column\": \"marital_status\",\n      \"properties\": {\n        \"dtype\": \"category\",\n        \"num_unique_values\": 7,\n        \"samples\": [\n          \"Never-married\",\n          \"Married-civ-spouse\",\n          \"Married-AF-spouse\"\n        ],\n        \"semantic_type\": \"\",\n        \"description\": \"\"\n      }\n    },\n    {\n      \"column\": \"occupation\",\n      \"properties\": {\n        \"dtype\": \"category\",\n        \"num_unique_values\": 15,\n        \"samples\": [\n          \"Machine-op-inspct\",\n          \"?\",\n          \"Adm-clerical\"\n        ],\n        \"semantic_type\": \"\",\n        \"description\": \"\"\n      }\n    },\n    {\n      \"column\": \"relationship\",\n      \"properties\": {\n        \"dtype\": \"category\",\n        \"num_unique_values\": 6,\n        \"samples\": [\n          \"Not-in-family\",\n          \"Husband\",\n          \"Other-relative\"\n        ],\n        \"semantic_type\": \"\",\n        \"description\": \"\"\n      }\n    },\n    {\n      \"column\": \"race\",\n      \"properties\": {\n        \"dtype\": \"category\",\n        \"num_unique_values\": 5,\n        \"samples\": [\n          \"Black\",\n          \"Other\",\n          \"Asian-Pac-Islander\"\n        ],\n        \"semantic_type\": \"\",\n        \"description\": \"\"\n      }\n    },\n    {\n      \"column\": \"sex\",\n      \"properties\": {\n        \"dtype\": \"category\",\n        \"num_unique_values\": 2,\n        \"samples\": [\n          \"Female\",\n          \"Male\"\n        ],\n        \"semantic_type\": \"\",\n        \"description\": \"\"\n      }\n    },\n    {\n      \"column\": \"capital_gain\",\n      \"properties\": {\n        \"dtype\": \"number\",\n        \"std\": 7385,\n        \"min\": 0,\n        \"max\": 99999,\n        \"num_unique_values\": 119,\n        \"samples\": [\n          3781,\n          15831\n        ],\n        \"semantic_type\": \"\",\n        \"description\": \"\"\n      }\n    },\n    {\n      \"column\": \"capital_loss\",\n      \"properties\": {\n        \"dtype\": \"number\",\n        \"std\": 402,\n        \"min\": 0,\n        \"max\": 4356,\n        \"num_unique_values\": 92,\n        \"samples\": [\n          419,\n          2051\n        ],\n        \"semantic_type\": \"\",\n        \"description\": \"\"\n      }\n    },\n    {\n      \"column\": \"hours_per_week\",\n      \"properties\": {\n        \"dtype\": \"number\",\n        \"std\": 12,\n        \"min\": 1,\n        \"max\": 99,\n        \"num_unique_values\": 94,\n        \"samples\": [\n          6,\n          22\n        ],\n        \"semantic_type\": \"\",\n        \"description\": \"\"\n      }\n    },\n    {\n      \"column\": \"native_country\",\n      \"properties\": {\n        \"dtype\": \"category\",\n        \"num_unique_values\": 42,\n        \"samples\": [\n          \"El-Salvador\",\n          \"Philippines\"\n        ],\n        \"semantic_type\": \"\",\n        \"description\": \"\"\n      }\n    },\n    {\n      \"column\": \"income\",\n      \"properties\": {\n        \"dtype\": \"category\",\n        \"num_unique_values\": 2,\n        \"samples\": [\n          \">50K\",\n          \"<=50K\"\n        ],\n        \"semantic_type\": \"\",\n        \"description\": \"\"\n      }\n    }\n  ]\n}",
              "type": "dataframe",
              "variable_name": "adult"
            },
            "text/html": [
              "\n",
              "  <div id=\"df-1e43dbaf-2be9-4c51-aefa-c149edd28afc\" class=\"colab-df-container\">\n",
              "    <div>\n",
              "<style scoped>\n",
              "    .dataframe tbody tr th:only-of-type {\n",
              "        vertical-align: middle;\n",
              "    }\n",
              "\n",
              "    .dataframe tbody tr th {\n",
              "        vertical-align: top;\n",
              "    }\n",
              "\n",
              "    .dataframe thead th {\n",
              "        text-align: right;\n",
              "    }\n",
              "</style>\n",
              "<table border=\"1\" class=\"dataframe\">\n",
              "  <thead>\n",
              "    <tr style=\"text-align: right;\">\n",
              "      <th></th>\n",
              "      <th>age</th>\n",
              "      <th>workclass</th>\n",
              "      <th>fnlwgt</th>\n",
              "      <th>education</th>\n",
              "      <th>education_num</th>\n",
              "      <th>marital_status</th>\n",
              "      <th>occupation</th>\n",
              "      <th>relationship</th>\n",
              "      <th>race</th>\n",
              "      <th>sex</th>\n",
              "      <th>capital_gain</th>\n",
              "      <th>capital_loss</th>\n",
              "      <th>hours_per_week</th>\n",
              "      <th>native_country</th>\n",
              "      <th>income</th>\n",
              "    </tr>\n",
              "  </thead>\n",
              "  <tbody>\n",
              "    <tr>\n",
              "      <th>0</th>\n",
              "      <td>39</td>\n",
              "      <td>State-gov</td>\n",
              "      <td>77516</td>\n",
              "      <td>Bachelors</td>\n",
              "      <td>13</td>\n",
              "      <td>Never-married</td>\n",
              "      <td>Adm-clerical</td>\n",
              "      <td>Not-in-family</td>\n",
              "      <td>White</td>\n",
              "      <td>Male</td>\n",
              "      <td>2174</td>\n",
              "      <td>0</td>\n",
              "      <td>40</td>\n",
              "      <td>United-States</td>\n",
              "      <td>&lt;=50K</td>\n",
              "    </tr>\n",
              "    <tr>\n",
              "      <th>1</th>\n",
              "      <td>50</td>\n",
              "      <td>Self-emp-not-inc</td>\n",
              "      <td>83311</td>\n",
              "      <td>Bachelors</td>\n",
              "      <td>13</td>\n",
              "      <td>Married-civ-spouse</td>\n",
              "      <td>Exec-managerial</td>\n",
              "      <td>Husband</td>\n",
              "      <td>White</td>\n",
              "      <td>Male</td>\n",
              "      <td>0</td>\n",
              "      <td>0</td>\n",
              "      <td>13</td>\n",
              "      <td>United-States</td>\n",
              "      <td>&lt;=50K</td>\n",
              "    </tr>\n",
              "    <tr>\n",
              "      <th>2</th>\n",
              "      <td>38</td>\n",
              "      <td>Private</td>\n",
              "      <td>215646</td>\n",
              "      <td>HS-grad</td>\n",
              "      <td>9</td>\n",
              "      <td>Divorced</td>\n",
              "      <td>Handlers-cleaners</td>\n",
              "      <td>Not-in-family</td>\n",
              "      <td>White</td>\n",
              "      <td>Male</td>\n",
              "      <td>0</td>\n",
              "      <td>0</td>\n",
              "      <td>40</td>\n",
              "      <td>United-States</td>\n",
              "      <td>&lt;=50K</td>\n",
              "    </tr>\n",
              "    <tr>\n",
              "      <th>3</th>\n",
              "      <td>53</td>\n",
              "      <td>Private</td>\n",
              "      <td>234721</td>\n",
              "      <td>11th</td>\n",
              "      <td>7</td>\n",
              "      <td>Married-civ-spouse</td>\n",
              "      <td>Handlers-cleaners</td>\n",
              "      <td>Husband</td>\n",
              "      <td>Black</td>\n",
              "      <td>Male</td>\n",
              "      <td>0</td>\n",
              "      <td>0</td>\n",
              "      <td>40</td>\n",
              "      <td>United-States</td>\n",
              "      <td>&lt;=50K</td>\n",
              "    </tr>\n",
              "    <tr>\n",
              "      <th>4</th>\n",
              "      <td>28</td>\n",
              "      <td>Private</td>\n",
              "      <td>338409</td>\n",
              "      <td>Bachelors</td>\n",
              "      <td>13</td>\n",
              "      <td>Married-civ-spouse</td>\n",
              "      <td>Prof-specialty</td>\n",
              "      <td>Wife</td>\n",
              "      <td>Black</td>\n",
              "      <td>Female</td>\n",
              "      <td>0</td>\n",
              "      <td>0</td>\n",
              "      <td>40</td>\n",
              "      <td>Cuba</td>\n",
              "      <td>&lt;=50K</td>\n",
              "    </tr>\n",
              "  </tbody>\n",
              "</table>\n",
              "</div>\n",
              "    <div class=\"colab-df-buttons\">\n",
              "\n",
              "  <div class=\"colab-df-container\">\n",
              "    <button class=\"colab-df-convert\" onclick=\"convertToInteractive('df-1e43dbaf-2be9-4c51-aefa-c149edd28afc')\"\n",
              "            title=\"Convert this dataframe to an interactive table.\"\n",
              "            style=\"display:none;\">\n",
              "\n",
              "  <svg xmlns=\"http://www.w3.org/2000/svg\" height=\"24px\" viewBox=\"0 -960 960 960\">\n",
              "    <path d=\"M120-120v-720h720v720H120Zm60-500h600v-160H180v160Zm220 220h160v-160H400v160Zm0 220h160v-160H400v160ZM180-400h160v-160H180v160Zm440 0h160v-160H620v160ZM180-180h160v-160H180v160Zm440 0h160v-160H620v160Z\"/>\n",
              "  </svg>\n",
              "    </button>\n",
              "\n",
              "  <style>\n",
              "    .colab-df-container {\n",
              "      display:flex;\n",
              "      gap: 12px;\n",
              "    }\n",
              "\n",
              "    .colab-df-convert {\n",
              "      background-color: #E8F0FE;\n",
              "      border: none;\n",
              "      border-radius: 50%;\n",
              "      cursor: pointer;\n",
              "      display: none;\n",
              "      fill: #1967D2;\n",
              "      height: 32px;\n",
              "      padding: 0 0 0 0;\n",
              "      width: 32px;\n",
              "    }\n",
              "\n",
              "    .colab-df-convert:hover {\n",
              "      background-color: #E2EBFA;\n",
              "      box-shadow: 0px 1px 2px rgba(60, 64, 67, 0.3), 0px 1px 3px 1px rgba(60, 64, 67, 0.15);\n",
              "      fill: #174EA6;\n",
              "    }\n",
              "\n",
              "    .colab-df-buttons div {\n",
              "      margin-bottom: 4px;\n",
              "    }\n",
              "\n",
              "    [theme=dark] .colab-df-convert {\n",
              "      background-color: #3B4455;\n",
              "      fill: #D2E3FC;\n",
              "    }\n",
              "\n",
              "    [theme=dark] .colab-df-convert:hover {\n",
              "      background-color: #434B5C;\n",
              "      box-shadow: 0px 1px 3px 1px rgba(0, 0, 0, 0.15);\n",
              "      filter: drop-shadow(0px 1px 2px rgba(0, 0, 0, 0.3));\n",
              "      fill: #FFFFFF;\n",
              "    }\n",
              "  </style>\n",
              "\n",
              "    <script>\n",
              "      const buttonEl =\n",
              "        document.querySelector('#df-1e43dbaf-2be9-4c51-aefa-c149edd28afc button.colab-df-convert');\n",
              "      buttonEl.style.display =\n",
              "        google.colab.kernel.accessAllowed ? 'block' : 'none';\n",
              "\n",
              "      async function convertToInteractive(key) {\n",
              "        const element = document.querySelector('#df-1e43dbaf-2be9-4c51-aefa-c149edd28afc');\n",
              "        const dataTable =\n",
              "          await google.colab.kernel.invokeFunction('convertToInteractive',\n",
              "                                                    [key], {});\n",
              "        if (!dataTable) return;\n",
              "\n",
              "        const docLinkHtml = 'Like what you see? Visit the ' +\n",
              "          '<a target=\"_blank\" href=https://colab.research.google.com/notebooks/data_table.ipynb>data table notebook</a>'\n",
              "          + ' to learn more about interactive tables.';\n",
              "        element.innerHTML = '';\n",
              "        dataTable['output_type'] = 'display_data';\n",
              "        await google.colab.output.renderOutput(dataTable, element);\n",
              "        const docLink = document.createElement('div');\n",
              "        docLink.innerHTML = docLinkHtml;\n",
              "        element.appendChild(docLink);\n",
              "      }\n",
              "    </script>\n",
              "  </div>\n",
              "\n",
              "\n",
              "    <div id=\"df-c46b4407-afe6-4fbb-96e3-2b4c9e12f251\">\n",
              "      <button class=\"colab-df-quickchart\" onclick=\"quickchart('df-c46b4407-afe6-4fbb-96e3-2b4c9e12f251')\"\n",
              "                title=\"Suggest charts\"\n",
              "                style=\"display:none;\">\n",
              "\n",
              "<svg xmlns=\"http://www.w3.org/2000/svg\" height=\"24px\"viewBox=\"0 0 24 24\"\n",
              "     width=\"24px\">\n",
              "    <g>\n",
              "        <path d=\"M19 3H5c-1.1 0-2 .9-2 2v14c0 1.1.9 2 2 2h14c1.1 0 2-.9 2-2V5c0-1.1-.9-2-2-2zM9 17H7v-7h2v7zm4 0h-2V7h2v10zm4 0h-2v-4h2v4z\"/>\n",
              "    </g>\n",
              "</svg>\n",
              "      </button>\n",
              "\n",
              "<style>\n",
              "  .colab-df-quickchart {\n",
              "      --bg-color: #E8F0FE;\n",
              "      --fill-color: #1967D2;\n",
              "      --hover-bg-color: #E2EBFA;\n",
              "      --hover-fill-color: #174EA6;\n",
              "      --disabled-fill-color: #AAA;\n",
              "      --disabled-bg-color: #DDD;\n",
              "  }\n",
              "\n",
              "  [theme=dark] .colab-df-quickchart {\n",
              "      --bg-color: #3B4455;\n",
              "      --fill-color: #D2E3FC;\n",
              "      --hover-bg-color: #434B5C;\n",
              "      --hover-fill-color: #FFFFFF;\n",
              "      --disabled-bg-color: #3B4455;\n",
              "      --disabled-fill-color: #666;\n",
              "  }\n",
              "\n",
              "  .colab-df-quickchart {\n",
              "    background-color: var(--bg-color);\n",
              "    border: none;\n",
              "    border-radius: 50%;\n",
              "    cursor: pointer;\n",
              "    display: none;\n",
              "    fill: var(--fill-color);\n",
              "    height: 32px;\n",
              "    padding: 0;\n",
              "    width: 32px;\n",
              "  }\n",
              "\n",
              "  .colab-df-quickchart:hover {\n",
              "    background-color: var(--hover-bg-color);\n",
              "    box-shadow: 0 1px 2px rgba(60, 64, 67, 0.3), 0 1px 3px 1px rgba(60, 64, 67, 0.15);\n",
              "    fill: var(--button-hover-fill-color);\n",
              "  }\n",
              "\n",
              "  .colab-df-quickchart-complete:disabled,\n",
              "  .colab-df-quickchart-complete:disabled:hover {\n",
              "    background-color: var(--disabled-bg-color);\n",
              "    fill: var(--disabled-fill-color);\n",
              "    box-shadow: none;\n",
              "  }\n",
              "\n",
              "  .colab-df-spinner {\n",
              "    border: 2px solid var(--fill-color);\n",
              "    border-color: transparent;\n",
              "    border-bottom-color: var(--fill-color);\n",
              "    animation:\n",
              "      spin 1s steps(1) infinite;\n",
              "  }\n",
              "\n",
              "  @keyframes spin {\n",
              "    0% {\n",
              "      border-color: transparent;\n",
              "      border-bottom-color: var(--fill-color);\n",
              "      border-left-color: var(--fill-color);\n",
              "    }\n",
              "    20% {\n",
              "      border-color: transparent;\n",
              "      border-left-color: var(--fill-color);\n",
              "      border-top-color: var(--fill-color);\n",
              "    }\n",
              "    30% {\n",
              "      border-color: transparent;\n",
              "      border-left-color: var(--fill-color);\n",
              "      border-top-color: var(--fill-color);\n",
              "      border-right-color: var(--fill-color);\n",
              "    }\n",
              "    40% {\n",
              "      border-color: transparent;\n",
              "      border-right-color: var(--fill-color);\n",
              "      border-top-color: var(--fill-color);\n",
              "    }\n",
              "    60% {\n",
              "      border-color: transparent;\n",
              "      border-right-color: var(--fill-color);\n",
              "    }\n",
              "    80% {\n",
              "      border-color: transparent;\n",
              "      border-right-color: var(--fill-color);\n",
              "      border-bottom-color: var(--fill-color);\n",
              "    }\n",
              "    90% {\n",
              "      border-color: transparent;\n",
              "      border-bottom-color: var(--fill-color);\n",
              "    }\n",
              "  }\n",
              "</style>\n",
              "\n",
              "      <script>\n",
              "        async function quickchart(key) {\n",
              "          const quickchartButtonEl =\n",
              "            document.querySelector('#' + key + ' button');\n",
              "          quickchartButtonEl.disabled = true;  // To prevent multiple clicks.\n",
              "          quickchartButtonEl.classList.add('colab-df-spinner');\n",
              "          try {\n",
              "            const charts = await google.colab.kernel.invokeFunction(\n",
              "                'suggestCharts', [key], {});\n",
              "          } catch (error) {\n",
              "            console.error('Error during call to suggestCharts:', error);\n",
              "          }\n",
              "          quickchartButtonEl.classList.remove('colab-df-spinner');\n",
              "          quickchartButtonEl.classList.add('colab-df-quickchart-complete');\n",
              "        }\n",
              "        (() => {\n",
              "          let quickchartButtonEl =\n",
              "            document.querySelector('#df-c46b4407-afe6-4fbb-96e3-2b4c9e12f251 button');\n",
              "          quickchartButtonEl.style.display =\n",
              "            google.colab.kernel.accessAllowed ? 'block' : 'none';\n",
              "        })();\n",
              "      </script>\n",
              "    </div>\n",
              "\n",
              "    </div>\n",
              "  </div>\n"
            ],
            "text/plain": [
              "   age         workclass  fnlwgt  education  education_num  \\\n",
              "0   39         State-gov   77516  Bachelors             13   \n",
              "1   50  Self-emp-not-inc   83311  Bachelors             13   \n",
              "2   38           Private  215646    HS-grad              9   \n",
              "3   53           Private  234721       11th              7   \n",
              "4   28           Private  338409  Bachelors             13   \n",
              "\n",
              "       marital_status         occupation   relationship   race     sex  \\\n",
              "0       Never-married       Adm-clerical  Not-in-family  White    Male   \n",
              "1  Married-civ-spouse    Exec-managerial        Husband  White    Male   \n",
              "2            Divorced  Handlers-cleaners  Not-in-family  White    Male   \n",
              "3  Married-civ-spouse  Handlers-cleaners        Husband  Black    Male   \n",
              "4  Married-civ-spouse     Prof-specialty           Wife  Black  Female   \n",
              "\n",
              "   capital_gain  capital_loss  hours_per_week native_country income  \n",
              "0          2174             0              40  United-States  <=50K  \n",
              "1             0             0              13  United-States  <=50K  \n",
              "2             0             0              40  United-States  <=50K  \n",
              "3             0             0              40  United-States  <=50K  \n",
              "4             0             0              40           Cuba  <=50K  "
            ]
          },
          "execution_count": 2,
          "metadata": {},
          "output_type": "execute_result"
        }
      ],
      "source": [
        "# Link of the dataset\n",
        "url = \"https://archive.ics.uci.edu/ml/machine-learning-databases/adult/adult.data\"\n",
        "\n",
        "cols = [\n",
        "    \"age\", \"workclass\", \"fnlwgt\", \"education\", \"education_num\",\n",
        "    \"marital_status\", \"occupation\", \"relationship\", \"race\", \"sex\",\n",
        "    \"capital_gain\", \"capital_loss\", \"hours_per_week\", \"native_country\", \"income\"\n",
        "]\n",
        "\n",
        "# Loading the dataset from link into pandas dataframe\n",
        "adult = pd.read_csv(url, header = None, names = cols, na_values = \" ?\", skipinitialspace = True)\n",
        "\n",
        "print(adult.shape)\n",
        "adult.head()"
      ]
    },
    {
      "cell_type": "code",
      "execution_count": null,
      "metadata": {
        "colab": {
          "base_uri": "https://localhost:8080/",
          "height": 313
        },
        "id": "Zjusb9fBPPSu",
        "outputId": "67551dbc-853f-4c47-ff97-0fcc605d4faa"
      },
      "outputs": [
        {
          "data": {
            "application/vnd.google.colaboratory.intrinsic+json": {
              "summary": "{\n  \"name\": \"adult\",\n  \"rows\": 32561,\n  \"fields\": [\n    {\n      \"column\": \"age\",\n      \"properties\": {\n        \"dtype\": \"number\",\n        \"std\": 13,\n        \"min\": 17,\n        \"max\": 90,\n        \"num_unique_values\": 73,\n        \"samples\": [\n          28,\n          73,\n          35\n        ],\n        \"semantic_type\": \"\",\n        \"description\": \"\"\n      }\n    },\n    {\n      \"column\": \"workclass\",\n      \"properties\": {\n        \"dtype\": \"category\",\n        \"num_unique_values\": 9,\n        \"samples\": [\n          \"Without-pay\",\n          \"Self-emp-not-inc\",\n          \"?\"\n        ],\n        \"semantic_type\": \"\",\n        \"description\": \"\"\n      }\n    },\n    {\n      \"column\": \"fnlwgt\",\n      \"properties\": {\n        \"dtype\": \"number\",\n        \"std\": 105549,\n        \"min\": 12285,\n        \"max\": 1484705,\n        \"num_unique_values\": 21648,\n        \"samples\": [\n          128485,\n          469907,\n          235951\n        ],\n        \"semantic_type\": \"\",\n        \"description\": \"\"\n      }\n    },\n    {\n      \"column\": \"education\",\n      \"properties\": {\n        \"dtype\": \"category\",\n        \"num_unique_values\": 16,\n        \"samples\": [\n          \"Bachelors\",\n          \"HS-grad\",\n          \"Some-college\"\n        ],\n        \"semantic_type\": \"\",\n        \"description\": \"\"\n      }\n    },\n    {\n      \"column\": \"education_num\",\n      \"properties\": {\n        \"dtype\": \"number\",\n        \"std\": 2,\n        \"min\": 1,\n        \"max\": 16,\n        \"num_unique_values\": 16,\n        \"samples\": [\n          13,\n          9,\n          10\n        ],\n        \"semantic_type\": \"\",\n        \"description\": \"\"\n      }\n    },\n    {\n      \"column\": \"marital_status\",\n      \"properties\": {\n        \"dtype\": \"category\",\n        \"num_unique_values\": 7,\n        \"samples\": [\n          \"Never-married\",\n          \"Married-civ-spouse\",\n          \"Married-AF-spouse\"\n        ],\n        \"semantic_type\": \"\",\n        \"description\": \"\"\n      }\n    },\n    {\n      \"column\": \"occupation\",\n      \"properties\": {\n        \"dtype\": \"category\",\n        \"num_unique_values\": 15,\n        \"samples\": [\n          \"Machine-op-inspct\",\n          \"?\",\n          \"Adm-clerical\"\n        ],\n        \"semantic_type\": \"\",\n        \"description\": \"\"\n      }\n    },\n    {\n      \"column\": \"relationship\",\n      \"properties\": {\n        \"dtype\": \"category\",\n        \"num_unique_values\": 6,\n        \"samples\": [\n          \"Not-in-family\",\n          \"Husband\",\n          \"Other-relative\"\n        ],\n        \"semantic_type\": \"\",\n        \"description\": \"\"\n      }\n    },\n    {\n      \"column\": \"race\",\n      \"properties\": {\n        \"dtype\": \"category\",\n        \"num_unique_values\": 5,\n        \"samples\": [\n          \"Black\",\n          \"Other\",\n          \"Asian-Pac-Islander\"\n        ],\n        \"semantic_type\": \"\",\n        \"description\": \"\"\n      }\n    },\n    {\n      \"column\": \"sex\",\n      \"properties\": {\n        \"dtype\": \"category\",\n        \"num_unique_values\": 2,\n        \"samples\": [\n          \"Female\",\n          \"Male\"\n        ],\n        \"semantic_type\": \"\",\n        \"description\": \"\"\n      }\n    },\n    {\n      \"column\": \"capital_gain\",\n      \"properties\": {\n        \"dtype\": \"number\",\n        \"std\": 7385,\n        \"min\": 0,\n        \"max\": 99999,\n        \"num_unique_values\": 119,\n        \"samples\": [\n          3781,\n          15831\n        ],\n        \"semantic_type\": \"\",\n        \"description\": \"\"\n      }\n    },\n    {\n      \"column\": \"capital_loss\",\n      \"properties\": {\n        \"dtype\": \"number\",\n        \"std\": 402,\n        \"min\": 0,\n        \"max\": 4356,\n        \"num_unique_values\": 92,\n        \"samples\": [\n          419,\n          2051\n        ],\n        \"semantic_type\": \"\",\n        \"description\": \"\"\n      }\n    },\n    {\n      \"column\": \"hours_per_week\",\n      \"properties\": {\n        \"dtype\": \"number\",\n        \"std\": 12,\n        \"min\": 1,\n        \"max\": 99,\n        \"num_unique_values\": 94,\n        \"samples\": [\n          6,\n          22\n        ],\n        \"semantic_type\": \"\",\n        \"description\": \"\"\n      }\n    },\n    {\n      \"column\": \"native_country\",\n      \"properties\": {\n        \"dtype\": \"category\",\n        \"num_unique_values\": 42,\n        \"samples\": [\n          \"El-Salvador\",\n          \"Philippines\"\n        ],\n        \"semantic_type\": \"\",\n        \"description\": \"\"\n      }\n    },\n    {\n      \"column\": \"income\",\n      \"properties\": {\n        \"dtype\": \"number\",\n        \"std\": 0,\n        \"min\": 0,\n        \"max\": 1,\n        \"num_unique_values\": 2,\n        \"samples\": [\n          1,\n          0\n        ],\n        \"semantic_type\": \"\",\n        \"description\": \"\"\n      }\n    }\n  ]\n}",
              "type": "dataframe",
              "variable_name": "adult"
            },
            "text/html": [
              "\n",
              "  <div id=\"df-d127afd2-4cea-4767-a487-0b3c3900c593\" class=\"colab-df-container\">\n",
              "    <div>\n",
              "<style scoped>\n",
              "    .dataframe tbody tr th:only-of-type {\n",
              "        vertical-align: middle;\n",
              "    }\n",
              "\n",
              "    .dataframe tbody tr th {\n",
              "        vertical-align: top;\n",
              "    }\n",
              "\n",
              "    .dataframe thead th {\n",
              "        text-align: right;\n",
              "    }\n",
              "</style>\n",
              "<table border=\"1\" class=\"dataframe\">\n",
              "  <thead>\n",
              "    <tr style=\"text-align: right;\">\n",
              "      <th></th>\n",
              "      <th>age</th>\n",
              "      <th>workclass</th>\n",
              "      <th>fnlwgt</th>\n",
              "      <th>education</th>\n",
              "      <th>education_num</th>\n",
              "      <th>marital_status</th>\n",
              "      <th>occupation</th>\n",
              "      <th>relationship</th>\n",
              "      <th>race</th>\n",
              "      <th>sex</th>\n",
              "      <th>capital_gain</th>\n",
              "      <th>capital_loss</th>\n",
              "      <th>hours_per_week</th>\n",
              "      <th>native_country</th>\n",
              "      <th>income</th>\n",
              "    </tr>\n",
              "  </thead>\n",
              "  <tbody>\n",
              "    <tr>\n",
              "      <th>0</th>\n",
              "      <td>39</td>\n",
              "      <td>State-gov</td>\n",
              "      <td>77516</td>\n",
              "      <td>Bachelors</td>\n",
              "      <td>13</td>\n",
              "      <td>Never-married</td>\n",
              "      <td>Adm-clerical</td>\n",
              "      <td>Not-in-family</td>\n",
              "      <td>White</td>\n",
              "      <td>Male</td>\n",
              "      <td>2174</td>\n",
              "      <td>0</td>\n",
              "      <td>40</td>\n",
              "      <td>United-States</td>\n",
              "      <td>0</td>\n",
              "    </tr>\n",
              "    <tr>\n",
              "      <th>1</th>\n",
              "      <td>50</td>\n",
              "      <td>Self-emp-not-inc</td>\n",
              "      <td>83311</td>\n",
              "      <td>Bachelors</td>\n",
              "      <td>13</td>\n",
              "      <td>Married-civ-spouse</td>\n",
              "      <td>Exec-managerial</td>\n",
              "      <td>Husband</td>\n",
              "      <td>White</td>\n",
              "      <td>Male</td>\n",
              "      <td>0</td>\n",
              "      <td>0</td>\n",
              "      <td>13</td>\n",
              "      <td>United-States</td>\n",
              "      <td>0</td>\n",
              "    </tr>\n",
              "    <tr>\n",
              "      <th>2</th>\n",
              "      <td>38</td>\n",
              "      <td>Private</td>\n",
              "      <td>215646</td>\n",
              "      <td>HS-grad</td>\n",
              "      <td>9</td>\n",
              "      <td>Divorced</td>\n",
              "      <td>Handlers-cleaners</td>\n",
              "      <td>Not-in-family</td>\n",
              "      <td>White</td>\n",
              "      <td>Male</td>\n",
              "      <td>0</td>\n",
              "      <td>0</td>\n",
              "      <td>40</td>\n",
              "      <td>United-States</td>\n",
              "      <td>0</td>\n",
              "    </tr>\n",
              "    <tr>\n",
              "      <th>3</th>\n",
              "      <td>53</td>\n",
              "      <td>Private</td>\n",
              "      <td>234721</td>\n",
              "      <td>11th</td>\n",
              "      <td>7</td>\n",
              "      <td>Married-civ-spouse</td>\n",
              "      <td>Handlers-cleaners</td>\n",
              "      <td>Husband</td>\n",
              "      <td>Black</td>\n",
              "      <td>Male</td>\n",
              "      <td>0</td>\n",
              "      <td>0</td>\n",
              "      <td>40</td>\n",
              "      <td>United-States</td>\n",
              "      <td>0</td>\n",
              "    </tr>\n",
              "    <tr>\n",
              "      <th>4</th>\n",
              "      <td>28</td>\n",
              "      <td>Private</td>\n",
              "      <td>338409</td>\n",
              "      <td>Bachelors</td>\n",
              "      <td>13</td>\n",
              "      <td>Married-civ-spouse</td>\n",
              "      <td>Prof-specialty</td>\n",
              "      <td>Wife</td>\n",
              "      <td>Black</td>\n",
              "      <td>Female</td>\n",
              "      <td>0</td>\n",
              "      <td>0</td>\n",
              "      <td>40</td>\n",
              "      <td>Cuba</td>\n",
              "      <td>0</td>\n",
              "    </tr>\n",
              "  </tbody>\n",
              "</table>\n",
              "</div>\n",
              "    <div class=\"colab-df-buttons\">\n",
              "\n",
              "  <div class=\"colab-df-container\">\n",
              "    <button class=\"colab-df-convert\" onclick=\"convertToInteractive('df-d127afd2-4cea-4767-a487-0b3c3900c593')\"\n",
              "            title=\"Convert this dataframe to an interactive table.\"\n",
              "            style=\"display:none;\">\n",
              "\n",
              "  <svg xmlns=\"http://www.w3.org/2000/svg\" height=\"24px\" viewBox=\"0 -960 960 960\">\n",
              "    <path d=\"M120-120v-720h720v720H120Zm60-500h600v-160H180v160Zm220 220h160v-160H400v160Zm0 220h160v-160H400v160ZM180-400h160v-160H180v160Zm440 0h160v-160H620v160ZM180-180h160v-160H180v160Zm440 0h160v-160H620v160Z\"/>\n",
              "  </svg>\n",
              "    </button>\n",
              "\n",
              "  <style>\n",
              "    .colab-df-container {\n",
              "      display:flex;\n",
              "      gap: 12px;\n",
              "    }\n",
              "\n",
              "    .colab-df-convert {\n",
              "      background-color: #E8F0FE;\n",
              "      border: none;\n",
              "      border-radius: 50%;\n",
              "      cursor: pointer;\n",
              "      display: none;\n",
              "      fill: #1967D2;\n",
              "      height: 32px;\n",
              "      padding: 0 0 0 0;\n",
              "      width: 32px;\n",
              "    }\n",
              "\n",
              "    .colab-df-convert:hover {\n",
              "      background-color: #E2EBFA;\n",
              "      box-shadow: 0px 1px 2px rgba(60, 64, 67, 0.3), 0px 1px 3px 1px rgba(60, 64, 67, 0.15);\n",
              "      fill: #174EA6;\n",
              "    }\n",
              "\n",
              "    .colab-df-buttons div {\n",
              "      margin-bottom: 4px;\n",
              "    }\n",
              "\n",
              "    [theme=dark] .colab-df-convert {\n",
              "      background-color: #3B4455;\n",
              "      fill: #D2E3FC;\n",
              "    }\n",
              "\n",
              "    [theme=dark] .colab-df-convert:hover {\n",
              "      background-color: #434B5C;\n",
              "      box-shadow: 0px 1px 3px 1px rgba(0, 0, 0, 0.15);\n",
              "      filter: drop-shadow(0px 1px 2px rgba(0, 0, 0, 0.3));\n",
              "      fill: #FFFFFF;\n",
              "    }\n",
              "  </style>\n",
              "\n",
              "    <script>\n",
              "      const buttonEl =\n",
              "        document.querySelector('#df-d127afd2-4cea-4767-a487-0b3c3900c593 button.colab-df-convert');\n",
              "      buttonEl.style.display =\n",
              "        google.colab.kernel.accessAllowed ? 'block' : 'none';\n",
              "\n",
              "      async function convertToInteractive(key) {\n",
              "        const element = document.querySelector('#df-d127afd2-4cea-4767-a487-0b3c3900c593');\n",
              "        const dataTable =\n",
              "          await google.colab.kernel.invokeFunction('convertToInteractive',\n",
              "                                                    [key], {});\n",
              "        if (!dataTable) return;\n",
              "\n",
              "        const docLinkHtml = 'Like what you see? Visit the ' +\n",
              "          '<a target=\"_blank\" href=https://colab.research.google.com/notebooks/data_table.ipynb>data table notebook</a>'\n",
              "          + ' to learn more about interactive tables.';\n",
              "        element.innerHTML = '';\n",
              "        dataTable['output_type'] = 'display_data';\n",
              "        await google.colab.output.renderOutput(dataTable, element);\n",
              "        const docLink = document.createElement('div');\n",
              "        docLink.innerHTML = docLinkHtml;\n",
              "        element.appendChild(docLink);\n",
              "      }\n",
              "    </script>\n",
              "  </div>\n",
              "\n",
              "\n",
              "    <div id=\"df-f1b73f09-7a0e-4cab-a853-0be915d5aa99\">\n",
              "      <button class=\"colab-df-quickchart\" onclick=\"quickchart('df-f1b73f09-7a0e-4cab-a853-0be915d5aa99')\"\n",
              "                title=\"Suggest charts\"\n",
              "                style=\"display:none;\">\n",
              "\n",
              "<svg xmlns=\"http://www.w3.org/2000/svg\" height=\"24px\"viewBox=\"0 0 24 24\"\n",
              "     width=\"24px\">\n",
              "    <g>\n",
              "        <path d=\"M19 3H5c-1.1 0-2 .9-2 2v14c0 1.1.9 2 2 2h14c1.1 0 2-.9 2-2V5c0-1.1-.9-2-2-2zM9 17H7v-7h2v7zm4 0h-2V7h2v10zm4 0h-2v-4h2v4z\"/>\n",
              "    </g>\n",
              "</svg>\n",
              "      </button>\n",
              "\n",
              "<style>\n",
              "  .colab-df-quickchart {\n",
              "      --bg-color: #E8F0FE;\n",
              "      --fill-color: #1967D2;\n",
              "      --hover-bg-color: #E2EBFA;\n",
              "      --hover-fill-color: #174EA6;\n",
              "      --disabled-fill-color: #AAA;\n",
              "      --disabled-bg-color: #DDD;\n",
              "  }\n",
              "\n",
              "  [theme=dark] .colab-df-quickchart {\n",
              "      --bg-color: #3B4455;\n",
              "      --fill-color: #D2E3FC;\n",
              "      --hover-bg-color: #434B5C;\n",
              "      --hover-fill-color: #FFFFFF;\n",
              "      --disabled-bg-color: #3B4455;\n",
              "      --disabled-fill-color: #666;\n",
              "  }\n",
              "\n",
              "  .colab-df-quickchart {\n",
              "    background-color: var(--bg-color);\n",
              "    border: none;\n",
              "    border-radius: 50%;\n",
              "    cursor: pointer;\n",
              "    display: none;\n",
              "    fill: var(--fill-color);\n",
              "    height: 32px;\n",
              "    padding: 0;\n",
              "    width: 32px;\n",
              "  }\n",
              "\n",
              "  .colab-df-quickchart:hover {\n",
              "    background-color: var(--hover-bg-color);\n",
              "    box-shadow: 0 1px 2px rgba(60, 64, 67, 0.3), 0 1px 3px 1px rgba(60, 64, 67, 0.15);\n",
              "    fill: var(--button-hover-fill-color);\n",
              "  }\n",
              "\n",
              "  .colab-df-quickchart-complete:disabled,\n",
              "  .colab-df-quickchart-complete:disabled:hover {\n",
              "    background-color: var(--disabled-bg-color);\n",
              "    fill: var(--disabled-fill-color);\n",
              "    box-shadow: none;\n",
              "  }\n",
              "\n",
              "  .colab-df-spinner {\n",
              "    border: 2px solid var(--fill-color);\n",
              "    border-color: transparent;\n",
              "    border-bottom-color: var(--fill-color);\n",
              "    animation:\n",
              "      spin 1s steps(1) infinite;\n",
              "  }\n",
              "\n",
              "  @keyframes spin {\n",
              "    0% {\n",
              "      border-color: transparent;\n",
              "      border-bottom-color: var(--fill-color);\n",
              "      border-left-color: var(--fill-color);\n",
              "    }\n",
              "    20% {\n",
              "      border-color: transparent;\n",
              "      border-left-color: var(--fill-color);\n",
              "      border-top-color: var(--fill-color);\n",
              "    }\n",
              "    30% {\n",
              "      border-color: transparent;\n",
              "      border-left-color: var(--fill-color);\n",
              "      border-top-color: var(--fill-color);\n",
              "      border-right-color: var(--fill-color);\n",
              "    }\n",
              "    40% {\n",
              "      border-color: transparent;\n",
              "      border-right-color: var(--fill-color);\n",
              "      border-top-color: var(--fill-color);\n",
              "    }\n",
              "    60% {\n",
              "      border-color: transparent;\n",
              "      border-right-color: var(--fill-color);\n",
              "    }\n",
              "    80% {\n",
              "      border-color: transparent;\n",
              "      border-right-color: var(--fill-color);\n",
              "      border-bottom-color: var(--fill-color);\n",
              "    }\n",
              "    90% {\n",
              "      border-color: transparent;\n",
              "      border-bottom-color: var(--fill-color);\n",
              "    }\n",
              "  }\n",
              "</style>\n",
              "\n",
              "      <script>\n",
              "        async function quickchart(key) {\n",
              "          const quickchartButtonEl =\n",
              "            document.querySelector('#' + key + ' button');\n",
              "          quickchartButtonEl.disabled = true;  // To prevent multiple clicks.\n",
              "          quickchartButtonEl.classList.add('colab-df-spinner');\n",
              "          try {\n",
              "            const charts = await google.colab.kernel.invokeFunction(\n",
              "                'suggestCharts', [key], {});\n",
              "          } catch (error) {\n",
              "            console.error('Error during call to suggestCharts:', error);\n",
              "          }\n",
              "          quickchartButtonEl.classList.remove('colab-df-spinner');\n",
              "          quickchartButtonEl.classList.add('colab-df-quickchart-complete');\n",
              "        }\n",
              "        (() => {\n",
              "          let quickchartButtonEl =\n",
              "            document.querySelector('#df-f1b73f09-7a0e-4cab-a853-0be915d5aa99 button');\n",
              "          quickchartButtonEl.style.display =\n",
              "            google.colab.kernel.accessAllowed ? 'block' : 'none';\n",
              "        })();\n",
              "      </script>\n",
              "    </div>\n",
              "\n",
              "    </div>\n",
              "  </div>\n"
            ],
            "text/plain": [
              "   age         workclass  fnlwgt  education  education_num  \\\n",
              "0   39         State-gov   77516  Bachelors             13   \n",
              "1   50  Self-emp-not-inc   83311  Bachelors             13   \n",
              "2   38           Private  215646    HS-grad              9   \n",
              "3   53           Private  234721       11th              7   \n",
              "4   28           Private  338409  Bachelors             13   \n",
              "\n",
              "       marital_status         occupation   relationship   race     sex  \\\n",
              "0       Never-married       Adm-clerical  Not-in-family  White    Male   \n",
              "1  Married-civ-spouse    Exec-managerial        Husband  White    Male   \n",
              "2            Divorced  Handlers-cleaners  Not-in-family  White    Male   \n",
              "3  Married-civ-spouse  Handlers-cleaners        Husband  Black    Male   \n",
              "4  Married-civ-spouse     Prof-specialty           Wife  Black  Female   \n",
              "\n",
              "   capital_gain  capital_loss  hours_per_week native_country  income  \n",
              "0          2174             0              40  United-States       0  \n",
              "1             0             0              13  United-States       0  \n",
              "2             0             0              40  United-States       0  \n",
              "3             0             0              40  United-States       0  \n",
              "4             0             0              40           Cuba       0  "
            ]
          },
          "execution_count": 3,
          "metadata": {},
          "output_type": "execute_result"
        }
      ],
      "source": [
        "from sklearn.preprocessing import LabelEncoder\n",
        "\n",
        "label_encoder = LabelEncoder()\n",
        "adult['income'] = label_encoder.fit_transform(adult['income'])\n",
        "\n",
        "adult.head()"
      ]
    },
    {
      "cell_type": "markdown",
      "metadata": {
        "id": "NAtGvyutE2QH"
      },
      "source": [
        "# 2) Creating DataSet class\n",
        " ---------------------------------------------\n",
        " Note on `transform=None` in Dataset class:\n",
        " - `transform=None` → optional.\n",
        " - If a transform function is passed when creating the dataset, it is applied in __getitem__\n",
        "   every time a sample is accessed.\n",
        " - If nothing is passed, the dataset just returns the raw/unprocessed data.\n",
        " - Acts like a “hook” for on-the-fly preprocessing without forcing it.\n",
        "- This is the same pattern used in torchvision datasets like MNIST or CIFAR10.\n",
        " ---------------------------------------------\n"
      ]
    },
    {
      "cell_type": "code",
      "execution_count": null,
      "metadata": {
        "id": "si30EansEtjh"
      },
      "outputs": [],
      "source": [
        "class MyDataset(Dataset):\n",
        "\n",
        "  def __init__(self, data, label_col, transform = None):\n",
        "\n",
        "    # Loading features and label from dataset\n",
        "    self.x = data.drop(label_col, axis = 1)\n",
        "    self.y = data[label_col]\n",
        "\n",
        "    # Defining transformation, if a transformation function is passed by user while making the object of this class\n",
        "    self.transform = transform\n",
        "\n",
        "\n",
        "  def __len__(self):\n",
        "\n",
        "    return len(self.x)    # self.x (or self.y) returns total number of samples\n",
        "\n",
        "  def __getitem__(self, ind):\n",
        "\n",
        "    # Get feature and label of the particular index\n",
        "    x = self.x.iloc[ind]\n",
        "    y = self.y.iloc[ind]\n",
        "\n",
        "    if self.transform is not None:\n",
        "      x = self.transform(x)                          # We get x as tensor after applying the transformation\n",
        "\n",
        "    y = torch.tensor(y, dtype = torch.float32)       # Converting y to tensor too\n",
        "\n",
        "    return x, y"
      ]
    },
    {
      "cell_type": "markdown",
      "metadata": {
        "id": "Fx3moapoRn7k"
      },
      "source": [
        "# 3) Creating a transformation function\n",
        "\n",
        "---"
      ]
    },
    {
      "cell_type": "markdown",
      "metadata": {
        "id": "oyryVUgILYsE"
      },
      "source": [
        "### 3.1) Encoding the Categorical Columns\n",
        "\n",
        "We create a dictionary called `encoder` with the following structure:\n",
        "\n",
        "- **Key** → Column name (e.g., `\"workclass\"`, `\"education\"`, etc.)  \n",
        "- **Value** → Another dictionary that maps each category in that column to its corresponding label-encoded integer.\n",
        "\n",
        "#### Example:\n",
        "```\n",
        "encoder = {\n",
        "    \"workclass\": {\n",
        "        \"State-gov\": 0,\n",
        "        \"Private\": 1,\n",
        "        \"Self-emp\": 2\n",
        "    },\n",
        "    \"education\": {\n",
        "        \"Bachelors\": 0,\n",
        "        \"Masters\": 1,\n",
        "        \"PhD\": 2\n",
        "    }\n",
        "}\n",
        "```"
      ]
    },
    {
      "cell_type": "code",
      "execution_count": null,
      "metadata": {
        "colab": {
          "base_uri": "https://localhost:8080/"
        },
        "id": "qw9KgVnr9zGx",
        "outputId": "f98edcb5-f3a2-48eb-cfa0-5d393be15447"
      },
      "outputs": [
        {
          "name": "stdout",
          "output_type": "stream",
          "text": [
            "workclass {'State-gov': 0, 'Self-emp-not-inc': 1, 'Private': 2, 'Federal-gov': 3, 'Local-gov': 4, '?': 5, 'Self-emp-inc': 6, 'Without-pay': 7, 'Never-worked': 8}\n",
            "education {'Bachelors': 0, 'HS-grad': 1, '11th': 2, 'Masters': 3, '9th': 4, 'Some-college': 5, 'Assoc-acdm': 6, 'Assoc-voc': 7, '7th-8th': 8, 'Doctorate': 9, 'Prof-school': 10, '5th-6th': 11, '10th': 12, '1st-4th': 13, 'Preschool': 14, '12th': 15}\n",
            "marital_status {'Never-married': 0, 'Married-civ-spouse': 1, 'Divorced': 2, 'Married-spouse-absent': 3, 'Separated': 4, 'Married-AF-spouse': 5, 'Widowed': 6}\n",
            "occupation {'Adm-clerical': 0, 'Exec-managerial': 1, 'Handlers-cleaners': 2, 'Prof-specialty': 3, 'Other-service': 4, 'Sales': 5, 'Craft-repair': 6, 'Transport-moving': 7, 'Farming-fishing': 8, 'Machine-op-inspct': 9, 'Tech-support': 10, '?': 11, 'Protective-serv': 12, 'Armed-Forces': 13, 'Priv-house-serv': 14}\n",
            "relationship {'Not-in-family': 0, 'Husband': 1, 'Wife': 2, 'Own-child': 3, 'Unmarried': 4, 'Other-relative': 5}\n",
            "race {'White': 0, 'Black': 1, 'Asian-Pac-Islander': 2, 'Amer-Indian-Eskimo': 3, 'Other': 4}\n",
            "sex {'Male': 0, 'Female': 1}\n",
            "native_country {'United-States': 0, 'Cuba': 1, 'Jamaica': 2, 'India': 3, '?': 4, 'Mexico': 5, 'South': 6, 'Puerto-Rico': 7, 'Honduras': 8, 'England': 9, 'Canada': 10, 'Germany': 11, 'Iran': 12, 'Philippines': 13, 'Italy': 14, 'Poland': 15, 'Columbia': 16, 'Cambodia': 17, 'Thailand': 18, 'Ecuador': 19, 'Laos': 20, 'Taiwan': 21, 'Haiti': 22, 'Portugal': 23, 'Dominican-Republic': 24, 'El-Salvador': 25, 'France': 26, 'Guatemala': 27, 'China': 28, 'Japan': 29, 'Yugoslavia': 30, 'Peru': 31, 'Outlying-US(Guam-USVI-etc)': 32, 'Scotland': 33, 'Trinadad&Tobago': 34, 'Greece': 35, 'Nicaragua': 36, 'Vietnam': 37, 'Hong': 38, 'Ireland': 39, 'Hungary': 40, 'Holand-Netherlands': 41}\n",
            "4 1\n"
          ]
        }
      ],
      "source": [
        "# Categorical  columns in the dataset\n",
        "categorical_cols = [\"workclass\", \"education\", \"marital_status\", \"occupation\",\n",
        "                    \"relationship\", \"race\", \"sex\", \"native_country\"]\n",
        "\n",
        "\n",
        "# Encoding categorical values\n",
        "encoder = {}                            # Dictionary storing mapping per column\n",
        "\n",
        "for col in categorical_cols:\n",
        "\n",
        "    unique_val = adult[col].unique()  # get all unique categories for that column\n",
        "    mapping = {}                      # Dictionary for storing categories for 1 column\n",
        "\n",
        "    label = 0\n",
        "    for val in unique_val:\n",
        "        mapping[val] = label\n",
        "        label += 1\n",
        "\n",
        "    encoder[col] = mapping            # store mapping for this column\n",
        "\n",
        "\n",
        "for col in categorical_cols:          # Checking the encoder\n",
        "    print(col, encoder[col])\n",
        "\n",
        "print(encoder[\"workclass\"][\"Local-gov\"], encoder['sex']['Female'])"
      ]
    },
    {
      "cell_type": "markdown",
      "metadata": {
        "id": "rlIxC6h5OYdG"
      },
      "source": [
        "### 3.2) Scaling numerical class\n",
        "\n",
        "We create a dictionary called `stats` with the following structure:\n",
        "\n",
        "- **Key** → Column name (e.g., `\"age\"`, `\"fnlwgt\"`, `\"hours_per_week\"`, etc.)  \n",
        "- **Value** → A tuple `(mean, std)` representing the mean and standard deviation of that column, calculated from the training dataset.\n",
        "\n",
        "---"
      ]
    },
    {
      "cell_type": "code",
      "execution_count": null,
      "metadata": {
        "colab": {
          "base_uri": "https://localhost:8080/"
        },
        "id": "5P80l6VoOYCH",
        "outputId": "93779ee9-4c51-4205-8d00-c0778e79d0d3"
      },
      "outputs": [
        {
          "name": "stdout",
          "output_type": "stream",
          "text": [
            "{'age': (np.float64(38.58164675532078), 13.640432553581146), 'fnlwgt': (np.float64(189778.36651208502), 105549.97769702233), 'education_num': (np.float64(10.0806793403151), 2.5727203320673406), 'capital_gain': (np.float64(1077.6488437087312), 7385.292084839299), 'capital_loss': (np.float64(87.303829734959), 402.960218649059), 'hours_per_week': (np.float64(40.437455852092995), 12.34742868173081)}\n"
          ]
        }
      ],
      "source": [
        "# Numerical columns in the dataset\n",
        "numerical_cols = [\"age\", \"fnlwgt\", \"education_num\", \"capital_gain\",\n",
        "                  \"capital_loss\", \"hours_per_week\"]\n",
        "\n",
        "# Calculating mean and standard deviation for each row\n",
        "stats = {}\n",
        "\n",
        "for col in numerical_cols:\n",
        "  mean = adult[col].mean()        # Calculating mean for this column\n",
        "  std = adult[col].std()          # Calculating standard deviation for this column\n",
        "\n",
        "  stats[col] = (mean, std)        # Storing mean, and std as a tuple\n",
        "\n",
        "print(stats)"
      ]
    },
    {
      "cell_type": "markdown",
      "metadata": {
        "id": "3S2D2knCSpsX"
      },
      "source": [
        "### 3.3) Writing the transformation function"
      ]
    },
    {
      "cell_type": "code",
      "execution_count": null,
      "metadata": {
        "id": "tXI4ug0jSpZp"
      },
      "outputs": [],
      "source": [
        "def transformation(row):\n",
        "\n",
        "  new_vals = {}                                  # Storing transformed values of the sample(row) in this dictonary\n",
        "\n",
        "  for col, val in row.items():                   # .items() → (column_name, value)\n",
        "\n",
        "    if col in categorical_cols:\n",
        "      new_vals[col] = encoder[col][val]          # Replacing categorical value with encoded integer\n",
        "\n",
        "    elif col in numerical_cols:\n",
        "      mean, std = stats[col]\n",
        "      new_vals[col] = (val - mean)/std           # Scaling numerical value\n",
        "\n",
        "    else:                                        # Untouched columns if any- doing no transformation to those columns\n",
        "      new_vals[col] = val\n",
        "\n",
        "\n",
        "  # Convert to PyTorch tensor\n",
        "  return torch.tensor(list(new_vals.values()), dtype=torch.float32)"
      ]
    },
    {
      "cell_type": "markdown",
      "metadata": {
        "id": "wweoYgK-J0Ir"
      },
      "source": [
        "### 3.4) Checking the transformation function is working properly"
      ]
    },
    {
      "cell_type": "code",
      "execution_count": null,
      "metadata": {
        "colab": {
          "base_uri": "https://localhost:8080/"
        },
        "id": "GdaqT5WY0bQM",
        "outputId": "ef076cad-655a-4f58-a024-14eb76b907c6"
      },
      "outputs": [
        {
          "name": "stdout",
          "output_type": "stream",
          "text": [
            "<class 'pandas.core.series.Series'>\n",
            "<class 'torch.Tensor'>\n"
          ]
        },
        {
          "data": {
            "text/plain": [
              "tensor([ 0.0307,  0.0000, -1.0636,  0.0000,  1.1347,  0.0000,  0.0000,  0.0000,\n",
              "         0.0000,  0.0000,  0.1485, -0.2167, -0.0354,  0.0000,  0.0000])"
            ]
          },
          "execution_count": 8,
          "metadata": {},
          "output_type": "execute_result"
        }
      ],
      "source": [
        "# Giving a row from the data, as it was given in Dataset class\n",
        "row1 = adult.iloc[0]\n",
        "print(type(row1))\n",
        "\n",
        "# Applying the transformations\n",
        "row_new = transformation(row1)\n",
        "\n",
        "print(type(row_new))\n",
        "row_new"
      ]
    },
    {
      "cell_type": "markdown",
      "metadata": {
        "id": "sc9-76DOxs20"
      },
      "source": [
        "# 4) Splting the dataset into training and testing data"
      ]
    },
    {
      "cell_type": "code",
      "execution_count": null,
      "metadata": {
        "id": "cgVp8TXuxsTI"
      },
      "outputs": [],
      "source": [
        "train_df, test_df = train_test_split(adult, test_size = 0.2, random_state = 42)"
      ]
    },
    {
      "cell_type": "markdown",
      "metadata": {
        "id": "zk0Eb4l0xDuY"
      },
      "source": [
        "# 5) Creating Dataset & DataLoader Object"
      ]
    },
    {
      "cell_type": "code",
      "execution_count": null,
      "metadata": {
        "id": "vnTxgQD7xCNY"
      },
      "outputs": [],
      "source": [
        "# Dataset object\n",
        "train_data = MyDataset(train_df, \"income\", transform = transformation)\n",
        "test_data = MyDataset(test_df, \"income\", transform = transformation)\n",
        "\n",
        "# DataLoader object\n",
        "train_loader = DataLoader(train_data, batch_size=32, shuffle=True)\n",
        "test_loader = DataLoader(test_data, batch_size=32, shuffle=False)"
      ]
    },
    {
      "cell_type": "markdown",
      "metadata": {
        "id": "52do7Ow2rZCc"
      },
      "source": [
        "# 6) Huperparameter Tunning using Optima"
      ]
    },
    {
      "cell_type": "code",
      "execution_count": null,
      "metadata": {
        "colab": {
          "base_uri": "https://localhost:8080/"
        },
        "id": "dJ41ORYlx1L4",
        "outputId": "5e8f106b-8764-4cbd-f829-6cb87cff221d"
      },
      "outputs": [
        {
          "name": "stdout",
          "output_type": "stream",
          "text": [
            "Collecting optuna\n",
            "  Downloading optuna-4.5.0-py3-none-any.whl.metadata (17 kB)\n",
            "Requirement already satisfied: alembic>=1.5.0 in /usr/local/lib/python3.12/dist-packages (from optuna) (1.16.5)\n",
            "Collecting colorlog (from optuna)\n",
            "  Downloading colorlog-6.9.0-py3-none-any.whl.metadata (10 kB)\n",
            "Requirement already satisfied: numpy in /usr/local/lib/python3.12/dist-packages (from optuna) (2.0.2)\n",
            "Requirement already satisfied: packaging>=20.0 in /usr/local/lib/python3.12/dist-packages (from optuna) (25.0)\n",
            "Requirement already satisfied: sqlalchemy>=1.4.2 in /usr/local/lib/python3.12/dist-packages (from optuna) (2.0.43)\n",
            "Requirement already satisfied: tqdm in /usr/local/lib/python3.12/dist-packages (from optuna) (4.67.1)\n",
            "Requirement already satisfied: PyYAML in /usr/local/lib/python3.12/dist-packages (from optuna) (6.0.2)\n",
            "Requirement already satisfied: Mako in /usr/local/lib/python3.12/dist-packages (from alembic>=1.5.0->optuna) (1.3.10)\n",
            "Requirement already satisfied: typing-extensions>=4.12 in /usr/local/lib/python3.12/dist-packages (from alembic>=1.5.0->optuna) (4.15.0)\n",
            "Requirement already satisfied: greenlet>=1 in /usr/local/lib/python3.12/dist-packages (from sqlalchemy>=1.4.2->optuna) (3.2.4)\n",
            "Requirement already satisfied: MarkupSafe>=0.9.2 in /usr/local/lib/python3.12/dist-packages (from Mako->alembic>=1.5.0->optuna) (3.0.2)\n",
            "Downloading optuna-4.5.0-py3-none-any.whl (400 kB)\n",
            "\u001b[2K   \u001b[90m━━━━━━━━━━━━━━━━━━━━━━━━━━━━━━━━━━━━━━━━\u001b[0m \u001b[32m400.9/400.9 kB\u001b[0m \u001b[31m13.1 MB/s\u001b[0m eta \u001b[36m0:00:00\u001b[0m\n",
            "\u001b[?25hDownloading colorlog-6.9.0-py3-none-any.whl (11 kB)\n",
            "Installing collected packages: colorlog, optuna\n",
            "Successfully installed colorlog-6.9.0 optuna-4.5.0\n"
          ]
        }
      ],
      "source": [
        "!pip install optuna"
      ]
    },
    {
      "cell_type": "code",
      "execution_count": null,
      "metadata": {
        "id": "fRoAyqpXx6Eu"
      },
      "outputs": [],
      "source": [
        "import optuna"
      ]
    },
    {
      "cell_type": "markdown",
      "metadata": {
        "id": "UruCDQc9sqss"
      },
      "source": [
        "### 6.1) Creating the model\n",
        "\n",
        "Now here we are going to create a dynamic model, means the hyperparameters here will be:\n",
        "- Number of neurons in a layer\n",
        "- Number of hidden layers in the model\n",
        "\n",
        "So the Optima will give us a model with number of neurons per layer, and number of hidden layers, that performs best on this dataset."
      ]
    },
    {
      "cell_type": "code",
      "execution_count": null,
      "metadata": {
        "id": "vd6_ih_LsqGR"
      },
      "outputs": [],
      "source": [
        "class DynamicModel(nn.Module):\n",
        "\n",
        "  def __init__(self, input_dim, output_dim, num_hidden_layer, neuron_per_layer):\n",
        "    super(DynamicModel, self).__init__()\n",
        "\n",
        "    # Storing the layer architecture\n",
        "    layer = []\n",
        "\n",
        "    for i in range(num_hidden_layer):\n",
        "\n",
        "      layer.append(nn.Linear(input_dim, neuron_per_layer))\n",
        "      layer.append(nn.ReLU())\n",
        "\n",
        "      input_dim = neuron_per_layer\n",
        "\n",
        "    layer.append(nn.Linear(input_dim, output_dim))\n",
        "    layer.append(nn.Sigmoid())  # Add Sigmoid activation for binary classification\n",
        "\n",
        "\n",
        "    # Defining the model architecture\n",
        "    self.model = nn.Sequential(*layer)\n",
        "\n",
        "  def forward(self, x):\n",
        "    return self.model(x)"
      ]
    },
    {
      "cell_type": "markdown",
      "metadata": {
        "id": "z9CFH2aHswSR"
      },
      "source": [
        "### 6.2) Creating the objective function"
      ]
    },
    {
      "cell_type": "code",
      "execution_count": null,
      "metadata": {
        "id": "7xby_eUHrYi2"
      },
      "outputs": [],
      "source": [
        "def objective_fn(trial):\n",
        "\n",
        "  # Define search space\n",
        "  num_hidden_layer = trial.suggest_int('num_hidden_layer', 2, 5)\n",
        "  neuron_per_layer = trial.suggest_int('neuron_per_layer', 8, 128)\n",
        "\n",
        "  # Numerber of features and labels\n",
        "  input_dim = 14       # features\n",
        "  output_dim = 1       # labels (for binary classification)\n",
        "\n",
        "  # Model intitalization\n",
        "  model = DynamicModel(input_dim, output_dim, num_hidden_layer, neuron_per_layer)\n",
        "\n",
        "  # Defining Optimizer\n",
        "  optimizer = torch.optim.Adam(model.parameters(), lr = 0.001)\n",
        "\n",
        "  # Training\n",
        "  for epoch in range(25):\n",
        "\n",
        "    for batch_features, batch_label in train_loader:\n",
        "\n",
        "      # Forward pass\n",
        "      y_pred = model(batch_features)\n",
        "      # y_pred = y_pred.view(-1) # Remove this line to keep shape as [batch_size, 1]\n",
        "\n",
        "      # Loss calculation\n",
        "      loss_fn = nn.BCELoss()                                       # Define loss function\n",
        "      loss = loss_fn(y_pred, batch_label.float().unsqueeze(1))     # Use the loss function and add unsqueeze(1) to match shapes\n",
        "\n",
        "      # Backward pass\n",
        "      loss.backward()\n",
        "\n",
        "      # Update paramerter\n",
        "      optimizer.step()\n",
        "\n",
        "      # Reset the gradients\n",
        "      optimizer.zero_grad()\n",
        "\n",
        "  # Evaluation of the model on testing data\n",
        "  correct_pred = 0\n",
        "  total_samples = 0\n",
        "\n",
        "  model.eval()                                   # Set model to evaluation mode\n",
        "\n",
        "  with torch.no_grad():\n",
        "    for batch_features, batch_label in test_loader:\n",
        "\n",
        "      # Forward pass\n",
        "      y_test_pred = model(batch_features)\n",
        "\n",
        "      # Converting probability values to predicted class\n",
        "      y_pred_class = (y_test_pred > 0.7).float()\n",
        "\n",
        "      # Check if correctly predicted\n",
        "      correct_pred += (y_pred_class == batch_label.float().unsqueeze(1)).sum().item()\n",
        "      total_samples += batch_label.shape[0]\n",
        "\n",
        "\n",
        "  # Calculating accuracy score\n",
        "  acc_score = correct_pred/total_samples\n",
        "  return acc_score"
      ]
    },
    {
      "cell_type": "markdown",
      "metadata": {
        "id": "MXQM1Qla4QX_"
      },
      "source": [
        "### 6.3) Creating study"
      ]
    },
    {
      "cell_type": "code",
      "execution_count": null,
      "metadata": {
        "colab": {
          "base_uri": "https://localhost:8080/"
        },
        "id": "zYo8etJ14MlZ",
        "outputId": "d2175d20-fceb-495f-a30a-7578a56fe3e4"
      },
      "outputs": [
        {
          "name": "stderr",
          "output_type": "stream",
          "text": [
            "[I 2025-09-28 12:00:59,392] A new study created in memory with name: no-name-a83668f0-f738-4ec2-ab00-d239df49071b\n"
          ]
        }
      ],
      "source": [
        "study = optuna.create_study(direction = 'maximize')"
      ]
    },
    {
      "cell_type": "markdown",
      "metadata": {
        "id": "D2GcHJbE4tsl"
      },
      "source": [
        "### 6.4) Running trials"
      ]
    },
    {
      "cell_type": "code",
      "execution_count": null,
      "metadata": {
        "colab": {
          "background_save": true,
          "base_uri": "https://localhost:8080/"
        },
        "id": "T8YgBAyD41Pv",
        "outputId": "ea942905-d7df-43b9-b479-6b213774c14a"
      },
      "outputs": [
        {
          "name": "stderr",
          "output_type": "stream",
          "text": [
            "[I 2025-09-28 12:02:46,174] Trial 0 finished with value: 0.8441578381698143 and parameters: {'num_hidden_layer': 2, 'neuron_per_layer': 126}. Best is trial 0 with value: 0.8441578381698143.\n",
            "[I 2025-09-28 12:04:33,712] Trial 1 finished with value: 0.8433901427913404 and parameters: {'num_hidden_layer': 5, 'neuron_per_layer': 93}. Best is trial 0 with value: 0.8441578381698143.\n",
            "[I 2025-09-28 12:05:57,223] Trial 2 finished with value: 0.8349454936281283 and parameters: {'num_hidden_layer': 2, 'neuron_per_layer': 35}. Best is trial 0 with value: 0.8441578381698143.\n",
            "[I 2025-09-28 12:07:18,933] Trial 3 finished with value: 0.8400122831260556 and parameters: {'num_hidden_layer': 2, 'neuron_per_layer': 32}. Best is trial 0 with value: 0.8441578381698143.\n",
            "[I 2025-09-28 12:08:52,559] Trial 4 finished with value: 0.8377091969906341 and parameters: {'num_hidden_layer': 3, 'neuron_per_layer': 97}. Best is trial 0 with value: 0.8441578381698143.\n",
            "[I 2025-09-28 12:10:17,136] Trial 5 finished with value: 0.8429295255642562 and parameters: {'num_hidden_layer': 2, 'neuron_per_layer': 66}. Best is trial 0 with value: 0.8441578381698143.\n",
            "[I 2025-09-28 12:12:01,488] Trial 6 finished with value: 0.8383233532934131 and parameters: {'num_hidden_layer': 4, 'neuron_per_layer': 119}. Best is trial 0 with value: 0.8441578381698143.\n",
            "[I 2025-09-28 12:13:29,783] Trial 7 finished with value: 0.8441578381698143 and parameters: {'num_hidden_layer': 3, 'neuron_per_layer': 54}. Best is trial 0 with value: 0.8441578381698143.\n",
            "[I 2025-09-28 12:14:59,071] Trial 8 finished with value: 0.8355596499309074 and parameters: {'num_hidden_layer': 3, 'neuron_per_layer': 69}. Best is trial 0 with value: 0.8441578381698143.\n",
            "[I 2025-09-28 12:16:22,155] Trial 9 finished with value: 0.8377091969906341 and parameters: {'num_hidden_layer': 2, 'neuron_per_layer': 18}. Best is trial 0 with value: 0.8441578381698143.\n",
            "[I 2025-09-28 12:18:10,058] Trial 10 finished with value: 0.8406264394288346 and parameters: {'num_hidden_layer': 4, 'neuron_per_layer': 127}. Best is trial 0 with value: 0.8441578381698143.\n",
            "[I 2025-09-28 12:19:38,788] Trial 11 finished with value: 0.8455396898510671 and parameters: {'num_hidden_layer': 3, 'neuron_per_layer': 61}. Best is trial 11 with value: 0.8455396898510671.\n",
            "[I 2025-09-28 12:21:11,560] Trial 12 finished with value: 0.8378627360663289 and parameters: {'num_hidden_layer': 3, 'neuron_per_layer': 94}. Best is trial 11 with value: 0.8455396898510671.\n",
            "[I 2025-09-28 12:22:47,376] Trial 13 finished with value: 0.8352525717795178 and parameters: {'num_hidden_layer': 4, 'neuron_per_layer': 75}. Best is trial 11 with value: 0.8455396898510671.\n",
            "[I 2025-09-28 12:24:11,869] Trial 14 finished with value: 0.8406264394288346 and parameters: {'num_hidden_layer': 2, 'neuron_per_layer': 51}. Best is trial 11 with value: 0.8455396898510671.\n",
            "[I 2025-09-28 12:25:45,895] Trial 15 finished with value: 0.8300322432058959 and parameters: {'num_hidden_layer': 3, 'neuron_per_layer': 105}. Best is trial 11 with value: 0.8455396898510671.\n",
            "[I 2025-09-28 12:27:34,817] Trial 16 finished with value: 0.8363273453093812 and parameters: {'num_hidden_layer': 5, 'neuron_per_layer': 77}. Best is trial 11 with value: 0.8455396898510671.\n",
            "[I 2025-09-28 12:29:00,643] Trial 17 finished with value: 0.8386304314448026 and parameters: {'num_hidden_layer': 2, 'neuron_per_layer': 51}. Best is trial 11 with value: 0.8455396898510671.\n",
            "[I 2025-09-28 12:30:36,403] Trial 18 finished with value: 0.8412405957316137 and parameters: {'num_hidden_layer': 3, 'neuron_per_layer': 109}. Best is trial 11 with value: 0.8455396898510671.\n",
            "[I 2025-09-28 12:32:07,491] Trial 19 finished with value: 0.8292645478274221 and parameters: {'num_hidden_layer': 4, 'neuron_per_layer': 8}. Best is trial 11 with value: 0.8455396898510671.\n",
            "[I 2025-09-28 12:33:32,264] Trial 20 finished with value: 0.846307385229541 and parameters: {'num_hidden_layer': 2, 'neuron_per_layer': 82}. Best is trial 20 with value: 0.846307385229541.\n",
            "[I 2025-09-28 12:34:56,847] Trial 21 finished with value: 0.8393981268232765 and parameters: {'num_hidden_layer': 2, 'neuron_per_layer': 82}. Best is trial 20 with value: 0.846307385229541.\n",
            "[I 2025-09-28 12:36:21,146] Trial 22 finished with value: 0.8423153692614771 and parameters: {'num_hidden_layer': 2, 'neuron_per_layer': 62}. Best is trial 20 with value: 0.846307385229541.\n",
            "[I 2025-09-28 12:37:49,699] Trial 23 finished with value: 0.8464609243052357 and parameters: {'num_hidden_layer': 3, 'neuron_per_layer': 38}. Best is trial 23 with value: 0.8464609243052357.\n",
            "[I 2025-09-28 12:39:17,460] Trial 24 finished with value: 0.839705204974666 and parameters: {'num_hidden_layer': 3, 'neuron_per_layer': 38}. Best is trial 23 with value: 0.8464609243052357.\n",
            "[I 2025-09-28 12:40:44,923] Trial 25 finished with value: 0.8461538461538461 and parameters: {'num_hidden_layer': 3, 'neuron_per_layer': 44}. Best is trial 23 with value: 0.8464609243052357.\n",
            "[I 2025-09-28 12:42:17,349] Trial 26 finished with value: 0.8277291570704745 and parameters: {'num_hidden_layer': 4, 'neuron_per_layer': 25}. Best is trial 23 with value: 0.8464609243052357.\n",
            "[I 2025-09-28 12:43:45,425] Trial 27 finished with value: 0.8436972209427299 and parameters: {'num_hidden_layer': 3, 'neuron_per_layer': 46}. Best is trial 23 with value: 0.8464609243052357.\n",
            "[I 2025-09-28 12:45:14,143] Trial 28 finished with value: 0.8429295255642562 and parameters: {'num_hidden_layer': 3, 'neuron_per_layer': 43}. Best is trial 23 with value: 0.8464609243052357.\n",
            "[I 2025-09-28 12:46:47,499] Trial 29 finished with value: 0.8263473053892215 and parameters: {'num_hidden_layer': 4, 'neuron_per_layer': 24}. Best is trial 23 with value: 0.8464609243052357.\n",
            "[I 2025-09-28 12:48:12,100] Trial 30 finished with value: 0.8387839705204975 and parameters: {'num_hidden_layer': 2, 'neuron_per_layer': 88}. Best is trial 23 with value: 0.8464609243052357.\n",
            "[I 2025-09-28 12:49:41,127] Trial 31 finished with value: 0.8358667280822969 and parameters: {'num_hidden_layer': 3, 'neuron_per_layer': 62}. Best is trial 23 with value: 0.8464609243052357.\n",
            "[I 2025-09-28 12:51:09,542] Trial 32 finished with value: 0.8372485797635498 and parameters: {'num_hidden_layer': 3, 'neuron_per_layer': 56}. Best is trial 23 with value: 0.8464609243052357.\n",
            "[I 2025-09-28 12:52:47,144] Trial 33 finished with value: 0.8398587440503608 and parameters: {'num_hidden_layer': 5, 'neuron_per_layer': 40}. Best is trial 23 with value: 0.8464609243052357.\n",
            "[I 2025-09-28 12:54:13,688] Trial 34 finished with value: 0.833870720098265 and parameters: {'num_hidden_layer': 3, 'neuron_per_layer': 30}. Best is trial 23 with value: 0.8464609243052357.\n"
          ]
        }
      ],
      "source": [
        "study.optimize(objective_fn, n_trials = 35)"
      ]
    },
    {
      "cell_type": "markdown",
      "metadata": {
        "id": "LNs0qYYR-5hk"
      },
      "source": [
        "### 6.5) Printing the best value of Hyperparameters"
      ]
    },
    {
      "cell_type": "code",
      "execution_count": null,
      "metadata": {
        "colab": {
          "background_save": true
        },
        "id": "HCDzhY3B-5Lf",
        "outputId": "0baee63b-c275-43f6-bdc0-4524f674fa0b"
      },
      "outputs": [
        {
          "name": "stdout",
          "output_type": "stream",
          "text": [
            "Best Parameter values:  {'num_hidden_layer': 3, 'neuron_per_layer': 38}\n",
            "Got highest Accuracy:  0.8464609243052357\n"
          ]
        }
      ],
      "source": [
        "print('Best Parameter values: ', study.best_params)\n",
        "print('Got highest Accuracy: ', study.best_value)"
      ]
    },
    {
      "cell_type": "markdown",
      "metadata": {
        "id": "mU-dHyuC0M1o"
      },
      "source": [
        "# 7) Building ANN architecture using NN module\n",
        "\n",
        "Using the the suggested Hyperparamter values to improve the accuracy of the model."
      ]
    },
    {
      "cell_type": "code",
      "execution_count": 18,
      "metadata": {
        "id": "vXQTQdf7zoVX"
      },
      "outputs": [],
      "source": [
        "class AdultANN(nn.Module):\n",
        "\n",
        "  def __init__(self, num_features):\n",
        "    super(AdultANN, self).__init__()\n",
        "\n",
        "    # Defining the model architecture\n",
        "    self.model = nn.Sequential(\n",
        "        nn.Linear(num_features, 38),     # 1st layer\n",
        "        nn.ReLU(),\n",
        "\n",
        "        nn.Linear(38, 38),               # 2nd layer\n",
        "        nn.ReLU(),\n",
        "\n",
        "        nn.Linear(38, 38),               # 3rd layer\n",
        "        nn.ReLU(),\n",
        "\n",
        "        nn.Linear(38, 1),                # Output Layer\n",
        "        nn.Sigmoid()\n",
        "    )\n",
        "\n",
        "  def forward(self, x):                   # shape of x: [batch_size, num_features]\n",
        "\n",
        "    y_pred = self.model(x)\n",
        "    y_pred = y_pred.view(-1)              # [batch_size,1] → [batch_size] (matches BCELoss target shape).\n",
        "    return y_pred\n",
        "\n",
        "  def loss_function(self, y_pred, y):\n",
        "\n",
        "    loss_fun = nn.BCELoss()\n",
        "    loss_val = loss_fun(y_pred, y.float())\n",
        "    return loss_val"
      ]
    },
    {
      "cell_type": "markdown",
      "metadata": {
        "id": "aX4HLx5ECpGg"
      },
      "source": [
        "# 8) Training the model on the dataset"
      ]
    },
    {
      "cell_type": "code",
      "execution_count": 19,
      "metadata": {
        "id": "r5obVd9mCRlx",
        "colab": {
          "base_uri": "https://localhost:8080/"
        },
        "outputId": "83176708-9e53-4343-8509-269d8ece99e0"
      },
      "outputs": [
        {
          "output_type": "stream",
          "name": "stdout",
          "text": [
            "AdultANN(\n",
            "  (model): Sequential(\n",
            "    (0): Linear(in_features=14, out_features=38, bias=True)\n",
            "    (1): ReLU()\n",
            "    (2): Linear(in_features=38, out_features=38, bias=True)\n",
            "    (3): ReLU()\n",
            "    (4): Linear(in_features=38, out_features=38, bias=True)\n",
            "    (5): ReLU()\n",
            "    (6): Linear(in_features=38, out_features=1, bias=True)\n",
            "    (7): Sigmoid()\n",
            "  )\n",
            ")\n"
          ]
        }
      ],
      "source": [
        "# Initializing the model (Creating the model)\n",
        "model = AdultANN(14)                              # num_features = 14 (number of features, or number of input columns)\n",
        "print(model)\n",
        "\n",
        "# Creating Optimizer\n",
        "optimizer = torch.optim.Adam(model.parameters(), lr = 0.001)"
      ]
    },
    {
      "cell_type": "code",
      "execution_count": 20,
      "metadata": {
        "id": "fPzWfuWMDfur",
        "colab": {
          "base_uri": "https://localhost:8080/"
        },
        "outputId": "f313e04b-6210-42b5-ac5f-2538b77d0186"
      },
      "outputs": [
        {
          "output_type": "stream",
          "name": "stdout",
          "text": [
            "Epoch 1: Loss: 0.2999964952468872\n",
            "Epoch 2: Loss: 0.6258305311203003\n",
            "Epoch 3: Loss: 0.4431155323982239\n",
            "Epoch 4: Loss: 0.21151037514209747\n",
            "Epoch 5: Loss: 0.3418499231338501\n",
            "Epoch 6: Loss: 0.37474045157432556\n",
            "Epoch 7: Loss: 0.17911377549171448\n",
            "Epoch 8: Loss: 0.36534583568573\n",
            "Epoch 9: Loss: 0.28658342361450195\n",
            "Epoch 10: Loss: 0.3002600073814392\n",
            "Epoch 11: Loss: 0.20946280658245087\n",
            "Epoch 12: Loss: 0.1959705352783203\n",
            "Epoch 13: Loss: 0.24632872641086578\n",
            "Epoch 14: Loss: 0.17658570408821106\n",
            "Epoch 15: Loss: 0.1866319477558136\n",
            "Epoch 16: Loss: 0.3263542652130127\n",
            "Epoch 17: Loss: 0.32598167657852173\n",
            "Epoch 18: Loss: 0.23729562759399414\n",
            "Epoch 19: Loss: 0.3177396059036255\n",
            "Epoch 20: Loss: 0.5814173221588135\n",
            "Epoch 21: Loss: 0.2012455016374588\n",
            "Epoch 22: Loss: 0.2698827087879181\n",
            "Epoch 23: Loss: 0.22723622620105743\n",
            "Epoch 24: Loss: 0.10412830114364624\n",
            "Epoch 25: Loss: 0.2155633568763733\n"
          ]
        }
      ],
      "source": [
        "# Training the model\n",
        "for epoch in range(25):\n",
        "\n",
        "  for batch_features, batch_label in train_loader:\n",
        "\n",
        "    # Forward pass\n",
        "    y_pred = model(batch_features)\n",
        "\n",
        "    # Loss calculation\n",
        "    loss = model.loss_function(y_pred, batch_label)\n",
        "\n",
        "    # Backward pass\n",
        "    loss.backward()\n",
        "\n",
        "    # Update the parameters\n",
        "    optimizer.step()\n",
        "\n",
        "    # Reset the gradients\n",
        "    optimizer.zero_grad()\n",
        "\n",
        "  print(f\"Epoch {epoch+1}: Loss: {loss.item()}\")"
      ]
    },
    {
      "cell_type": "markdown",
      "metadata": {
        "id": "pVuCrasgNtUs"
      },
      "source": [
        "# 9) Evaluating the model"
      ]
    },
    {
      "cell_type": "code",
      "execution_count": 21,
      "metadata": {
        "id": "AtRY84GuF7a8",
        "colab": {
          "base_uri": "https://localhost:8080/"
        },
        "outputId": "c00cd5de-98c0-4c8b-887a-e8377f75c138"
      },
      "outputs": [
        {
          "output_type": "execute_result",
          "data": {
            "text/plain": [
              "AdultANN(\n",
              "  (model): Sequential(\n",
              "    (0): Linear(in_features=14, out_features=38, bias=True)\n",
              "    (1): ReLU()\n",
              "    (2): Linear(in_features=38, out_features=38, bias=True)\n",
              "    (3): ReLU()\n",
              "    (4): Linear(in_features=38, out_features=38, bias=True)\n",
              "    (5): ReLU()\n",
              "    (6): Linear(in_features=38, out_features=1, bias=True)\n",
              "    (7): Sigmoid()\n",
              "  )\n",
              ")"
            ]
          },
          "metadata": {},
          "execution_count": 21
        }
      ],
      "source": [
        "# Seting model to eval mode\n",
        "model.eval()"
      ]
    },
    {
      "cell_type": "code",
      "execution_count": 22,
      "metadata": {
        "id": "ZL9MnnLLP_A_",
        "colab": {
          "base_uri": "https://localhost:8080/"
        },
        "outputId": "46e9d0d8-7304-4f20-bffe-7bc5fe92d5a4"
      },
      "outputs": [
        {
          "output_type": "stream",
          "name": "stdout",
          "text": [
            "Accuracy:  82.12805158912944\n"
          ]
        }
      ],
      "source": [
        "# Making prediction on test data\n",
        "\n",
        "total_samples = 0\n",
        "correct_pred = 0\n",
        "\n",
        "with torch.no_grad():\n",
        "\n",
        "  for batch_features, batch_label in test_loader:\n",
        "\n",
        "    # Forward pass\n",
        "    y_test_pred = model(batch_features)\n",
        "\n",
        "    # Converting probability values to predicted class\n",
        "    y_pred = (y_test_pred > 0.8).float()\n",
        "\n",
        "    # Check if correctly predicted\n",
        "    correct_pred += (y_pred == batch_label).sum().item()\n",
        "\n",
        "    # Total samples\n",
        "    total_samples += batch_label.shape[0]\n",
        "\n",
        "\n",
        "# Calculating accuracy\n",
        "acc = correct_pred/total_samples\n",
        "print('Accuracy: ', acc*100)"
      ]
    },
    {
      "cell_type": "code",
      "execution_count": 23,
      "metadata": {
        "id": "4c9ArnbzSC2c",
        "colab": {
          "base_uri": "https://localhost:8080/"
        },
        "outputId": "f37d1698-84ab-4974-b3ab-f1d95b5b561d"
      },
      "outputs": [
        {
          "output_type": "stream",
          "name": "stdout",
          "text": [
            "Accuracy:  82.22128378378379\n"
          ]
        }
      ],
      "source": [
        "# Evaluating to training data\n",
        "\n",
        "total_samples = 0\n",
        "correct_pred = 0\n",
        "\n",
        "with torch.no_grad():\n",
        "\n",
        "  for batch_features, batch_label in train_loader:\n",
        "\n",
        "    # Forward pass\n",
        "    y_train_pred = model(batch_features)\n",
        "\n",
        "    # Converting probability values to predicted class\n",
        "    y_pred = (y_train_pred > 0.8).float()\n",
        "\n",
        "    # Check if correctly predicted\n",
        "    correct_pred += (y_pred == batch_label).sum().item()\n",
        "\n",
        "    # Total samples\n",
        "    total_samples += batch_label.shape[0]\n",
        "\n",
        "\n",
        "# Calculating accuracy\n",
        "acc = correct_pred/total_samples\n",
        "print('Accuracy: ', acc*100)"
      ]
    },
    {
      "cell_type": "markdown",
      "source": [
        "## Model Performance Improvement with Optuna\n",
        "\n",
        "Initially, the Artificial Neural Network (ANN) model achieved:  \n",
        "- **Training Accuracy:** 80.61%  \n",
        "- **Testing Accuracy:** 80.95%  \n",
        "\n",
        "After applying **Optuna hyperparameter tuning** to optimize the number of hidden layers and neurons per layer, the best parameters obtained were:  \n",
        "- `num_hidden_layer = 3`  \n",
        "- `neuron_per_layer = 38`  \n",
        "\n",
        "With this optimized architecture, the ANN model achieved:  \n",
        "- **Training Accuracy:** 82.22%  \n",
        "- **Testing Accuracy:** 82.13%  \n",
        "\n",
        "✅ This shows a clear improvement in performance compared to the initial model, demonstrating the effectiveness of hyperparameter optimization using Optuna.\n"
      ],
      "metadata": {
        "id": "9ijIaM6ibZiY"
      }
    }
  ],
  "metadata": {
    "accelerator": "GPU",
    "colab": {
      "gpuType": "T4",
      "provenance": []
    },
    "kernelspec": {
      "display_name": "Python 3",
      "name": "python3"
    },
    "language_info": {
      "name": "python"
    }
  },
  "nbformat": 4,
  "nbformat_minor": 0
}