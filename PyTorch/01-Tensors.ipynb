{
  "nbformat": 4,
  "nbformat_minor": 0,
  "metadata": {
    "colab": {
      "provenance": [],
      "gpuType": "T4"
    },
    "kernelspec": {
      "name": "python3",
      "display_name": "Python 3"
    },
    "language_info": {
      "name": "python"
    },
    "accelerator": "GPU"
  },
  "cells": [
    {
      "cell_type": "code",
      "execution_count": 1,
      "metadata": {
        "colab": {
          "base_uri": "https://localhost:8080/"
        },
        "id": "S7O8oh4vLEHx",
        "outputId": "00bf1657-bd81-4fc6-b749-69092c4c73cd"
      },
      "outputs": [
        {
          "output_type": "stream",
          "name": "stdout",
          "text": [
            "2.8.0+cu126\n"
          ]
        }
      ],
      "source": [
        "import torch\n",
        "print(torch.__version__)"
      ]
    },
    {
      "cell_type": "markdown",
      "source": [
        "# 1) Creating Tensors"
      ],
      "metadata": {
        "id": "uVTYK85lLa2W"
      }
    },
    {
      "cell_type": "code",
      "source": [
        "# Using empty\n",
        "\n",
        "a = torch.empty(2, 3)                   # .empty(shape) returns a tensor without initializing its values- means it will give random garbage values that were already\n",
        "print(a)                                # exisiting in allocated memory block"
      ],
      "metadata": {
        "colab": {
          "base_uri": "https://localhost:8080/"
        },
        "id": "w5uckkxDLX0r",
        "outputId": "e53bf1df-ce4f-4dca-98e5-3cf732ba6a62"
      },
      "execution_count": 2,
      "outputs": [
        {
          "output_type": "stream",
          "name": "stdout",
          "text": [
            "tensor([[1.4580e-19, 1.8179e+31, 1.8524e+28],\n",
            "        [2.1715e-18, 1.6968e-07, 2.6833e-09]])\n"
          ]
        }
      ]
    },
    {
      "cell_type": "code",
      "source": [
        "type(a)"
      ],
      "metadata": {
        "colab": {
          "base_uri": "https://localhost:8080/"
        },
        "id": "ziPPak2TLsOK",
        "outputId": "0f0bb06a-c599-49c0-c4cf-ee8e94f345cc"
      },
      "execution_count": 3,
      "outputs": [
        {
          "output_type": "execute_result",
          "data": {
            "text/plain": [
              "torch.Tensor"
            ]
          },
          "metadata": {},
          "execution_count": 3
        }
      ]
    },
    {
      "cell_type": "code",
      "source": [
        "# Using zeros\n",
        "\n",
        "torch.zeros(2, 3)"
      ],
      "metadata": {
        "colab": {
          "base_uri": "https://localhost:8080/"
        },
        "id": "ZorahKgxLvAJ",
        "outputId": "a85f106f-527f-41a7-e0d7-e4e4a8fae0b1"
      },
      "execution_count": 4,
      "outputs": [
        {
          "output_type": "execute_result",
          "data": {
            "text/plain": [
              "tensor([[0., 0., 0.],\n",
              "        [0., 0., 0.]])"
            ]
          },
          "metadata": {},
          "execution_count": 4
        }
      ]
    },
    {
      "cell_type": "code",
      "source": [
        "# Using ones\n",
        "\n",
        "torch.ones(3, 2)"
      ],
      "metadata": {
        "colab": {
          "base_uri": "https://localhost:8080/"
        },
        "id": "4Xoq-4bfL6oT",
        "outputId": "334c362d-9190-4a4c-bedc-eaaf76018f5a"
      },
      "execution_count": 5,
      "outputs": [
        {
          "output_type": "execute_result",
          "data": {
            "text/plain": [
              "tensor([[1., 1.],\n",
              "        [1., 1.],\n",
              "        [1., 1.]])"
            ]
          },
          "metadata": {},
          "execution_count": 5
        }
      ]
    },
    {
      "cell_type": "code",
      "source": [
        "# Using rand\n",
        "\n",
        "print(torch.rand(2, 2))         # .rand(shape) gives random values in the tensor of given size\n",
        "print(torch.rand(2, 2))"
      ],
      "metadata": {
        "colab": {
          "base_uri": "https://localhost:8080/"
        },
        "id": "5U0zQ0X3MHup",
        "outputId": "e5ed5fa0-bd7c-49b3-a7e6-8f0a1def00e0"
      },
      "execution_count": 6,
      "outputs": [
        {
          "output_type": "stream",
          "name": "stdout",
          "text": [
            "tensor([[0.9432, 0.4734],\n",
            "        [0.1272, 0.5074]])\n",
            "tensor([[0.2726, 0.3392],\n",
            "        [0.6050, 0.5955]])\n"
          ]
        }
      ]
    },
    {
      "cell_type": "code",
      "source": [
        "# Reproducing same random values using seed\n",
        "\n",
        "torch.manual_seed(13)\n",
        "\n",
        "print(torch.rand(2, 2))\n",
        "\n",
        "print(torch.rand(2, 2))\n",
        "\n",
        "torch.manual_seed(13)            # Whenever we want .rand(shape) to produce same random values we have to write .manual_seed() again (With the specified numaber, here 13)\n",
        "print(torch.rand(2, 2))"
      ],
      "metadata": {
        "colab": {
          "base_uri": "https://localhost:8080/"
        },
        "id": "Us5l_5RdMtWq",
        "outputId": "4bc9389b-204f-4297-aec8-4d62b6719c0c"
      },
      "execution_count": 7,
      "outputs": [
        {
          "output_type": "stream",
          "name": "stdout",
          "text": [
            "tensor([[0.0918, 0.4794],\n",
            "        [0.8106, 0.0151]])\n",
            "tensor([[0.0153, 0.6036],\n",
            "        [0.2318, 0.8633]])\n",
            "tensor([[0.0918, 0.4794],\n",
            "        [0.8106, 0.0151]])\n"
          ]
        }
      ]
    },
    {
      "cell_type": "code",
      "source": [
        "# Using tensor\n",
        "\n",
        "torch.tensor([[1,2,3],[4,5,6]])     # .tensor() gives custom tensors by user"
      ],
      "metadata": {
        "id": "TBfB7G9gM5k6",
        "colab": {
          "base_uri": "https://localhost:8080/"
        },
        "outputId": "406646df-1d9a-4045-9f90-1b6137d99409"
      },
      "execution_count": 8,
      "outputs": [
        {
          "output_type": "execute_result",
          "data": {
            "text/plain": [
              "tensor([[1, 2, 3],\n",
              "        [4, 5, 6]])"
            ]
          },
          "metadata": {},
          "execution_count": 8
        }
      ]
    },
    {
      "cell_type": "code",
      "source": [
        "# Using .randint()\n",
        "\n",
        "torch.randint(size = (2,3), low = 0, high = 10)            # creates a tensor filled with random integers between [low, high)."
      ],
      "metadata": {
        "colab": {
          "base_uri": "https://localhost:8080/"
        },
        "id": "ib-YKjGpVyRj",
        "outputId": "151d1c84-2d54-4776-eff0-92fbb4f1d8b4"
      },
      "execution_count": 9,
      "outputs": [
        {
          "output_type": "execute_result",
          "data": {
            "text/plain": [
              "tensor([[8, 6, 6],\n",
              "        [9, 4, 8]])"
            ]
          },
          "metadata": {},
          "execution_count": 9
        }
      ]
    },
    {
      "cell_type": "code",
      "source": [
        "# other ways\n",
        "\n",
        "# arange\n",
        "print(\"using arange ->\", torch.arange(0,10,2))\n",
        "\n",
        "# using linspace\n",
        "print(\"using linspace ->\", torch.linspace(0,10,10))\n",
        "\n",
        "# using eye\n",
        "print(\"using eye ->\", torch.eye(5))\n",
        "\n",
        "# using full\n",
        "print(\"using full ->\", torch.full((3, 3), 5))"
      ],
      "metadata": {
        "colab": {
          "base_uri": "https://localhost:8080/"
        },
        "id": "0qKGWz9ML9uP",
        "outputId": "5ec1424b-8775-47ba-c309-451f8c6b9143"
      },
      "execution_count": 10,
      "outputs": [
        {
          "output_type": "stream",
          "name": "stdout",
          "text": [
            "using arange -> tensor([0, 2, 4, 6, 8])\n",
            "using linspace -> tensor([ 0.0000,  1.1111,  2.2222,  3.3333,  4.4444,  5.5556,  6.6667,  7.7778,\n",
            "         8.8889, 10.0000])\n",
            "using eye -> tensor([[1., 0., 0., 0., 0.],\n",
            "        [0., 1., 0., 0., 0.],\n",
            "        [0., 0., 1., 0., 0.],\n",
            "        [0., 0., 0., 1., 0.],\n",
            "        [0., 0., 0., 0., 1.]])\n",
            "using full -> tensor([[5, 5, 5],\n",
            "        [5, 5, 5],\n",
            "        [5, 5, 5]])\n"
          ]
        }
      ]
    },
    {
      "cell_type": "markdown",
      "source": [
        "# 2) Tensor properties"
      ],
      "metadata": {
        "id": "-lBFRwnOPkgI"
      }
    },
    {
      "cell_type": "markdown",
      "source": [
        "### 2.1) Tensor data-types"
      ],
      "metadata": {
        "id": "rM3Autxee3yb"
      }
    },
    {
      "cell_type": "code",
      "source": [
        "# Finding data type of a tensor\n",
        "\n",
        "a.dtype"
      ],
      "metadata": {
        "colab": {
          "base_uri": "https://localhost:8080/"
        },
        "id": "gkWN4TzMQCJY",
        "outputId": "50bcc48a-1b5a-4231-b295-34d5123e3ea6"
      },
      "execution_count": 11,
      "outputs": [
        {
          "output_type": "execute_result",
          "data": {
            "text/plain": [
              "torch.float32"
            ]
          },
          "metadata": {},
          "execution_count": 11
        }
      ]
    },
    {
      "cell_type": "code",
      "source": [
        "# Assigning the data type, while creating a tensor\n",
        "\n",
        "torch.tensor([[1,2], [5,6]], dtype = torch.float64)"
      ],
      "metadata": {
        "colab": {
          "base_uri": "https://localhost:8080/"
        },
        "id": "YHG7R19KQLhZ",
        "outputId": "69ef1f86-fa11-4364-c4f3-efa84d84a6b7"
      },
      "execution_count": 12,
      "outputs": [
        {
          "output_type": "execute_result",
          "data": {
            "text/plain": [
              "tensor([[1., 2.],\n",
              "        [5., 6.]], dtype=torch.float64)"
            ]
          },
          "metadata": {},
          "execution_count": 12
        }
      ]
    },
    {
      "cell_type": "code",
      "source": [
        "# Changing data type of an existing tensor\n",
        "\n",
        "a.to(torch.int32)"
      ],
      "metadata": {
        "colab": {
          "base_uri": "https://localhost:8080/"
        },
        "id": "p9eNo14aQulz",
        "outputId": "7592831f-97c0-405c-d19a-3f5387d043d8"
      },
      "execution_count": 13,
      "outputs": [
        {
          "output_type": "execute_result",
          "data": {
            "text/plain": [
              "tensor([[          0, -2147483648, -2147483648],\n",
              "        [          0,           0,           0]], dtype=torch.int32)"
            ]
          },
          "metadata": {},
          "execution_count": 13
        }
      ]
    },
    {
      "cell_type": "markdown",
      "source": [
        "#### Different types of **Data Types** available for tensors:\n",
        "\n",
        "| **Data Type**             | **Dtype**         | **Description**                                                                                                                                                                |\n",
        "|---------------------------|-------------------|--------------------------------------------------------------------------------------------------------------------------------------------------------------------------------|\n",
        "| **32-bit Floating Point** | `torch.float32`   | Standard floating-point type used for most deep learning tasks. Provides a balance between precision and memory usage.                                                         |\n",
        "| **64-bit Floating Point** | `torch.float64`   | Double-precision floating point. Useful for high-precision numerical tasks but uses more memory.                                                                               |\n",
        "| **16-bit Floating Point** | `torch.float16`   | Half-precision floating point. Commonly used in mixed-precision training to reduce memory and computational overhead on modern GPUs.                                            |\n",
        "| **BFloat16**              | `torch.bfloat16`  | Brain floating-point format with reduced precision compared to `float16`. Used in mixed-precision training, especially on TPUs.                                                |\n",
        "| **8-bit Floating Point**  | `torch.float8`    | Ultra-low-precision floating point. Used for experimental applications and extreme memory-constrained environments (less common).                                               |\n",
        "| **8-bit Integer**         | `torch.int8`      | 8-bit signed integer. Used for quantized models to save memory and computation in inference.                                                                                   |\n",
        "| **16-bit Integer**        | `torch.int16`     | 16-bit signed integer. Useful for special numerical tasks requiring intermediate precision.                                                                                    |\n",
        "| **32-bit Integer**        | `torch.int32`     | Standard signed integer type. Commonly used for indexing and general-purpose numerical tasks.                                                                                  |\n",
        "| **64-bit Integer**        | `torch.int64`     | Long integer type. Often used for large indexing arrays or for tasks involving large numbers.                                                                                  |\n",
        "| **8-bit Unsigned Integer**| `torch.uint8`     | 8-bit unsigned integer. Commonly used for image data (e.g., pixel values between 0 and 255).                                                                                    |\n",
        "| **Boolean**               | `torch.bool`      | Boolean type, stores `True` or `False` values. Often used for masks in logical operations.                                                                                      |\n",
        "| **Complex 64**            | `torch.complex64` | Complex number type with 32-bit real and 32-bit imaginary parts. Used for scientific and signal processing tasks.                                                               |\n",
        "| **Complex 128**           | `torch.complex128`| Complex number type with 64-bit real and 64-bit imaginary parts. Offers higher precision but uses more memory.                                                                 |\n",
        "| **Quantized Integer**     | `torch.qint8`     | Quantized signed 8-bit integer. Used in quantized models for efficient inference.                                                                                              |\n",
        "| **Quantized Unsigned Integer** | `torch.quint8` | Quantized unsigned 8-bit integer. Often used for quantized tensors in image-related tasks.                                                                                     |\n"
      ],
      "metadata": {
        "id": "X6EKZcyDRw7C"
      }
    },
    {
      "cell_type": "markdown",
      "source": [
        "### 2.2) Tensor shape"
      ],
      "metadata": {
        "id": "1V_ttg79e8F5"
      }
    },
    {
      "cell_type": "code",
      "source": [
        "a.shape"
      ],
      "metadata": {
        "colab": {
          "base_uri": "https://localhost:8080/"
        },
        "id": "Hsh-HgjPRNLI",
        "outputId": "94665522-0b58-4f24-d8b3-5ebd5d5a48d9"
      },
      "execution_count": 14,
      "outputs": [
        {
          "output_type": "execute_result",
          "data": {
            "text/plain": [
              "torch.Size([2, 3])"
            ]
          },
          "metadata": {},
          "execution_count": 14
        }
      ]
    },
    {
      "cell_type": "code",
      "source": [
        "# _like(input) function creates a new tensor having the same shape, dtype, and device as the given tensor input. It’s a shortcut when you want a tensor with the same \"forma\"t\n",
        "#  as another one.\n",
        "\n",
        "torch.empty_like(a)"
      ],
      "metadata": {
        "colab": {
          "base_uri": "https://localhost:8080/"
        },
        "id": "ThMStMK0SSB9",
        "outputId": "78518e4f-f6bd-47bb-c67e-d50ec1c6ae00"
      },
      "execution_count": 15,
      "outputs": [
        {
          "output_type": "execute_result",
          "data": {
            "text/plain": [
              "tensor([[-2.4444e-25,  4.3262e-41, -2.4444e-25],\n",
              "        [ 4.3262e-41,  4.4842e-44,  0.0000e+00]])"
            ]
          },
          "metadata": {},
          "execution_count": 15
        }
      ]
    },
    {
      "cell_type": "code",
      "source": [
        "torch.zeros_like(a)"
      ],
      "metadata": {
        "colab": {
          "base_uri": "https://localhost:8080/"
        },
        "id": "7iLv7647SnLM",
        "outputId": "385967b8-3cdb-4ece-9bf2-bf65311a424d"
      },
      "execution_count": 16,
      "outputs": [
        {
          "output_type": "execute_result",
          "data": {
            "text/plain": [
              "tensor([[0., 0., 0.],\n",
              "        [0., 0., 0.]])"
            ]
          },
          "metadata": {},
          "execution_count": 16
        }
      ]
    },
    {
      "cell_type": "code",
      "source": [
        "torch.ones_like(a)"
      ],
      "metadata": {
        "colab": {
          "base_uri": "https://localhost:8080/"
        },
        "id": "sl5Yk2n6UPc-",
        "outputId": "aff3a3a6-d448-4a68-a20d-6803efe5399b"
      },
      "execution_count": 17,
      "outputs": [
        {
          "output_type": "execute_result",
          "data": {
            "text/plain": [
              "tensor([[1., 1., 1.],\n",
              "        [1., 1., 1.]])"
            ]
          },
          "metadata": {},
          "execution_count": 17
        }
      ]
    },
    {
      "cell_type": "code",
      "source": [
        "torch.rand_like(a)"
      ],
      "metadata": {
        "colab": {
          "base_uri": "https://localhost:8080/"
        },
        "id": "XIb54nB4UZ6O",
        "outputId": "a5b616ed-49f2-41db-c670-973429e9619f"
      },
      "execution_count": 18,
      "outputs": [
        {
          "output_type": "execute_result",
          "data": {
            "text/plain": [
              "tensor([[0.0830, 0.4253, 0.9149],\n",
              "        [0.4799, 0.5348, 0.2695]])"
            ]
          },
          "metadata": {},
          "execution_count": 18
        }
      ]
    },
    {
      "cell_type": "markdown",
      "source": [
        "### 2.3) Reshaping Tensors"
      ],
      "metadata": {
        "id": "YnvG6qKxIEu4"
      }
    },
    {
      "cell_type": "code",
      "source": [
        "a = torch.rand(4, 4)\n",
        "a"
      ],
      "metadata": {
        "colab": {
          "base_uri": "https://localhost:8080/"
        },
        "id": "N-KpmS_hIDl2",
        "outputId": "fd7ab5be-363d-4088-a9db-88b7e978c530"
      },
      "execution_count": 19,
      "outputs": [
        {
          "output_type": "execute_result",
          "data": {
            "text/plain": [
              "tensor([[0.2530, 0.3390, 0.8367, 0.1289],\n",
              "        [0.9693, 0.4495, 0.4031, 0.8202],\n",
              "        [0.9792, 0.3278, 0.4076, 0.7276],\n",
              "        [0.4506, 0.2334, 0.0411, 0.2441]])"
            ]
          },
          "metadata": {},
          "execution_count": 19
        }
      ]
    },
    {
      "cell_type": "code",
      "source": [
        "# Reshape\n",
        "\n",
        "b = a.reshape(2, 2, 2, 2)         # product of old shape dimensions = product of new shape dimensions; (4,4) = (2,2,2,2)\n",
        "b"
      ],
      "metadata": {
        "colab": {
          "base_uri": "https://localhost:8080/"
        },
        "id": "aYXGFA61Mp8z",
        "outputId": "7785f40e-be7f-4efa-d1a8-b684cf61ec2d"
      },
      "execution_count": 20,
      "outputs": [
        {
          "output_type": "execute_result",
          "data": {
            "text/plain": [
              "tensor([[[[0.2530, 0.3390],\n",
              "          [0.8367, 0.1289]],\n",
              "\n",
              "         [[0.9693, 0.4495],\n",
              "          [0.4031, 0.8202]]],\n",
              "\n",
              "\n",
              "        [[[0.9792, 0.3278],\n",
              "          [0.4076, 0.7276]],\n",
              "\n",
              "         [[0.4506, 0.2334],\n",
              "          [0.0411, 0.2441]]]])"
            ]
          },
          "metadata": {},
          "execution_count": 20
        }
      ]
    },
    {
      "cell_type": "code",
      "source": [
        "# Flatten\n",
        "\n",
        "a.flatten()                 # Converts multi-dimension into 1D array"
      ],
      "metadata": {
        "colab": {
          "base_uri": "https://localhost:8080/"
        },
        "id": "nKEFiZEcMpkb",
        "outputId": "34373e26-fc51-45a6-b2bd-7bf4ace15ba8"
      },
      "execution_count": 21,
      "outputs": [
        {
          "output_type": "execute_result",
          "data": {
            "text/plain": [
              "tensor([0.2530, 0.3390, 0.8367, 0.1289, 0.9693, 0.4495, 0.4031, 0.8202, 0.9792,\n",
              "        0.3278, 0.4076, 0.7276, 0.4506, 0.2334, 0.0411, 0.2441])"
            ]
          },
          "metadata": {},
          "execution_count": 21
        }
      ]
    },
    {
      "cell_type": "code",
      "source": [
        "# Permute: Reorders the dimensions (axes) of a tensor.\n",
        "\n",
        "a = torch.randint(size = (2, 3, 4), low = 0, high = 10)\n",
        "print(a.shape)\n",
        "\n",
        "b = a.permute(2, 0, 1)             # returns a view of the tensor with the dimensions rearranged in the order you specify.\n",
        "print(b.shape)\n"
      ],
      "metadata": {
        "colab": {
          "base_uri": "https://localhost:8080/"
        },
        "id": "zXMQoSibN56q",
        "outputId": "450ccc0e-6684-4ece-a477-035c2a8ddf3f"
      },
      "execution_count": 22,
      "outputs": [
        {
          "output_type": "stream",
          "name": "stdout",
          "text": [
            "torch.Size([2, 3, 4])\n",
            "torch.Size([4, 2, 3])\n"
          ]
        }
      ]
    },
    {
      "cell_type": "code",
      "source": [
        "# Unsqueeze: Adds a dimension of size 1 at the specified position, useful to prepare tensors for broadcasting or batch processing.\n",
        "\n",
        "a = torch.randint(size = (2, 3), low = 0, high = 10)\n",
        "print(a.shape)\n",
        "\n",
        "b = a.unsqueeze(0)                # Adds a dimesion at index 0\n",
        "print(b.shape)"
      ],
      "metadata": {
        "colab": {
          "base_uri": "https://localhost:8080/"
        },
        "id": "crxAKm_tPpDt",
        "outputId": "caedfdaf-fcb1-4aeb-a205-7854620ef5d1"
      },
      "execution_count": 23,
      "outputs": [
        {
          "output_type": "stream",
          "name": "stdout",
          "text": [
            "torch.Size([2, 3])\n",
            "torch.Size([1, 2, 3])\n"
          ]
        }
      ]
    },
    {
      "cell_type": "code",
      "source": [
        "# Squeeze: Removes dimensions of size 1 from a tensor, if a tensor does not have any dimension of size 1(ex: [2, 3, 4]), then .squeeze() will do nothing.\n",
        "\n",
        "a = torch.randint(size = (1, 2, 1, 3), low = 0, high = 10)\n",
        "print(a.shape)\n",
        "\n",
        "b = a.squeeze()\n",
        "print(b.shape)"
      ],
      "metadata": {
        "colab": {
          "base_uri": "https://localhost:8080/"
        },
        "id": "RMq0tL06Po8r",
        "outputId": "2b5795c2-f87d-4465-ede0-acc795e228be"
      },
      "execution_count": 24,
      "outputs": [
        {
          "output_type": "stream",
          "name": "stdout",
          "text": [
            "torch.Size([1, 2, 1, 3])\n",
            "torch.Size([2, 3])\n"
          ]
        }
      ]
    },
    {
      "cell_type": "markdown",
      "source": [
        "# 3) Mathematical operations"
      ],
      "metadata": {
        "id": "jVORFkvPVglt"
      }
    },
    {
      "cell_type": "markdown",
      "source": [
        "### 3.1) Scalar operation"
      ],
      "metadata": {
        "id": "amntOY1Mexvh"
      }
    },
    {
      "cell_type": "code",
      "source": [
        "x = torch.rand(2, 2)\n",
        "print(x)"
      ],
      "metadata": {
        "colab": {
          "base_uri": "https://localhost:8080/"
        },
        "id": "5phcJdDHUfbb",
        "outputId": "c3910e3c-ca96-4e6e-fe7e-ff827c40a278"
      },
      "execution_count": 25,
      "outputs": [
        {
          "output_type": "stream",
          "name": "stdout",
          "text": [
            "tensor([[0.8501, 0.9642],\n",
            "        [0.6270, 0.0568]])\n"
          ]
        }
      ]
    },
    {
      "cell_type": "code",
      "source": [
        "# addition\n",
        "print('Add: \\n', x + 2)\n",
        "\n",
        "# substraction\n",
        "print('Subtract: \\n', x - 2)\n",
        "\n",
        "# multiplication\n",
        "print('Multiply: \\n', x * 3)\n",
        "\n",
        "# division\n",
        "print('Divde: \\n', x / 3)\n",
        "\n",
        "# int division/ floor division\n",
        "res = (x * 100)//3\n",
        "print('Floor division: \\n', res)\n",
        "\n",
        "# mod\n",
        "mod = ((x * 100)//3)%2\n",
        "print('Modulus: \\n', mod)\n",
        "\n",
        "# power\n",
        "print('Power of 2: \\n', x**2)"
      ],
      "metadata": {
        "colab": {
          "base_uri": "https://localhost:8080/"
        },
        "id": "d4Kk71TyWSlC",
        "outputId": "82bc66ad-abd1-4f69-e902-d6c746f48646"
      },
      "execution_count": 26,
      "outputs": [
        {
          "output_type": "stream",
          "name": "stdout",
          "text": [
            "Add: \n",
            " tensor([[2.8501, 2.9642],\n",
            "        [2.6270, 2.0568]])\n",
            "Subtract: \n",
            " tensor([[-1.1499, -1.0358],\n",
            "        [-1.3730, -1.9432]])\n",
            "Multiply: \n",
            " tensor([[2.5504, 2.8927],\n",
            "        [1.8809, 0.1703]])\n",
            "Divde: \n",
            " tensor([[0.2834, 0.3214],\n",
            "        [0.2090, 0.0189]])\n",
            "Floor division: \n",
            " tensor([[28., 32.],\n",
            "        [20.,  1.]])\n",
            "Modulus: \n",
            " tensor([[0., 0.],\n",
            "        [0., 1.]])\n",
            "Power of 2: \n",
            " tensor([[0.7228, 0.9298],\n",
            "        [0.3931, 0.0032]])\n"
          ]
        }
      ]
    },
    {
      "cell_type": "markdown",
      "source": [
        "### 3.2) Element wise operation"
      ],
      "metadata": {
        "id": "h30E0_tEXw57"
      }
    },
    {
      "cell_type": "code",
      "source": [
        "a = torch.rand(2,2)\n",
        "b = torch.rand(2,2)\n",
        "print(a)\n",
        "print(b)"
      ],
      "metadata": {
        "colab": {
          "base_uri": "https://localhost:8080/"
        },
        "id": "Wy3FeKZnWiPy",
        "outputId": "9e978763-7cf2-414d-be3b-e54a64fccca1"
      },
      "execution_count": 27,
      "outputs": [
        {
          "output_type": "stream",
          "name": "stdout",
          "text": [
            "tensor([[0.0031, 0.2991],\n",
            "        [0.2265, 0.5508]])\n",
            "tensor([[0.3316, 0.1820],\n",
            "        [0.0930, 0.6206]])\n"
          ]
        }
      ]
    },
    {
      "cell_type": "code",
      "source": [
        "# addition\n",
        "print('Add: \\n', a + b)\n",
        "\n",
        "# substraction\n",
        "print('Subtract: \\n', a - b)\n",
        "\n",
        "# multiplication\n",
        "print('Multiply: \\n', a * b)\n",
        "\n",
        "# division\n",
        "print('Divde: \\n', a / b)\n",
        "\n",
        "# int division/ floor division\n",
        "res = (a * 100)//b\n",
        "print('Floor division: \\n', res)\n",
        "\n",
        "# mod\n",
        "mod = (a * 100) % b\n",
        "print('Modulus: \\n', mod)\n",
        "\n",
        "# power\n",
        "print('Power: \\n', a**b)"
      ],
      "metadata": {
        "colab": {
          "base_uri": "https://localhost:8080/"
        },
        "id": "12pOT-tEYAtf",
        "outputId": "ea713819-fe9e-47a9-9107-318efce86494"
      },
      "execution_count": 28,
      "outputs": [
        {
          "output_type": "stream",
          "name": "stdout",
          "text": [
            "Add: \n",
            " tensor([[0.3346, 0.4812],\n",
            "        [0.3196, 1.1714]])\n",
            "Subtract: \n",
            " tensor([[-0.3285,  0.1171],\n",
            "        [ 0.1335, -0.0699]])\n",
            "Multiply: \n",
            " tensor([[0.0010, 0.0545],\n",
            "        [0.0211, 0.3418]])\n",
            "Divde: \n",
            " tensor([[0.0093, 1.6434],\n",
            "        [2.4359, 0.8874]])\n",
            "Floor division: \n",
            " tensor([[  0., 164.],\n",
            "        [243.,  88.]])\n",
            "Modulus: \n",
            " tensor([[0.3082, 0.0623],\n",
            "        [0.0544, 0.4608]])\n",
            "Power: \n",
            " tensor([[0.1470, 0.8028],\n",
            "        [0.8710, 0.6906]])\n"
          ]
        }
      ]
    },
    {
      "cell_type": "code",
      "source": [
        "c = torch.tensor([[-1, 3, -5, 7]])\n",
        "c"
      ],
      "metadata": {
        "colab": {
          "base_uri": "https://localhost:8080/"
        },
        "id": "7Dwn1_ycYi2S",
        "outputId": "d258e411-e1ed-4fbe-cb79-28d959261ce7"
      },
      "execution_count": 29,
      "outputs": [
        {
          "output_type": "execute_result",
          "data": {
            "text/plain": [
              "tensor([[-1,  3, -5,  7]])"
            ]
          },
          "metadata": {},
          "execution_count": 29
        }
      ]
    },
    {
      "cell_type": "code",
      "source": [
        "# Absolute value of all elements\n",
        "\n",
        "torch.abs(c)"
      ],
      "metadata": {
        "colab": {
          "base_uri": "https://localhost:8080/"
        },
        "id": "os3Oio5jZQie",
        "outputId": "0dd48912-2b26-4ae2-a127-fc24ddc8bf69"
      },
      "execution_count": 30,
      "outputs": [
        {
          "output_type": "execute_result",
          "data": {
            "text/plain": [
              "tensor([[1, 3, 5, 7]])"
            ]
          },
          "metadata": {},
          "execution_count": 30
        }
      ]
    },
    {
      "cell_type": "code",
      "source": [
        "# Negative of all elements\n",
        "\n",
        "torch.neg(c)"
      ],
      "metadata": {
        "colab": {
          "base_uri": "https://localhost:8080/"
        },
        "id": "CVEgRAbaZauz",
        "outputId": "1b357ba3-b554-4ed6-847b-18fa6738fcaf"
      },
      "execution_count": 31,
      "outputs": [
        {
          "output_type": "execute_result",
          "data": {
            "text/plain": [
              "tensor([[ 1, -3,  5, -7]])"
            ]
          },
          "metadata": {},
          "execution_count": 31
        }
      ]
    },
    {
      "cell_type": "code",
      "source": [
        "# Rounding of all the elements\n",
        "\n",
        "d = torch.tensor([0.6, 3.9, 9.1, 6.5])\n",
        "print(d)\n",
        "\n",
        "torch.round(d)"
      ],
      "metadata": {
        "colab": {
          "base_uri": "https://localhost:8080/"
        },
        "id": "chIeWCVkZgEZ",
        "outputId": "d38bfc9f-c4e5-46da-fbf4-2dead4355042"
      },
      "execution_count": 32,
      "outputs": [
        {
          "output_type": "stream",
          "name": "stdout",
          "text": [
            "tensor([0.6000, 3.9000, 9.1000, 6.5000])\n"
          ]
        },
        {
          "output_type": "execute_result",
          "data": {
            "text/plain": [
              "tensor([1., 4., 9., 6.])"
            ]
          },
          "metadata": {},
          "execution_count": 32
        }
      ]
    },
    {
      "cell_type": "code",
      "source": [
        "# Taking Floor values(rounds down to the nearest integer) for all elements\n",
        "\n",
        "torch.floor(d)"
      ],
      "metadata": {
        "colab": {
          "base_uri": "https://localhost:8080/"
        },
        "id": "cAtJNtBOZzgW",
        "outputId": "1be2dac6-348a-434e-c572-ee99514f616c"
      },
      "execution_count": 33,
      "outputs": [
        {
          "output_type": "execute_result",
          "data": {
            "text/plain": [
              "tensor([0., 3., 9., 6.])"
            ]
          },
          "metadata": {},
          "execution_count": 33
        }
      ]
    },
    {
      "cell_type": "code",
      "source": [
        "# Taking the celing value(up to the nearest integer) for all elements\n",
        "\n",
        "torch.ceil(d)"
      ],
      "metadata": {
        "colab": {
          "base_uri": "https://localhost:8080/"
        },
        "id": "VmtsNxTUcKbv",
        "outputId": "5382c091-61fb-47a7-8403-32cda5ffdae3"
      },
      "execution_count": 34,
      "outputs": [
        {
          "output_type": "execute_result",
          "data": {
            "text/plain": [
              "tensor([ 1.,  4., 10.,  7.])"
            ]
          },
          "metadata": {},
          "execution_count": 34
        }
      ]
    },
    {
      "cell_type": "code",
      "source": [
        "# Clamping all elements; .clamp(input, min, max): restricts/clamps all elements of a tensor into a specified range[min, max]\n",
        "\n",
        "torch.clamp(d, min = 3, max = 9)     # Any value less than min → set to min, & Any value greater than max → set to max."
      ],
      "metadata": {
        "colab": {
          "base_uri": "https://localhost:8080/"
        },
        "id": "6UU31n1TdCH-",
        "outputId": "be2351ac-d830-446e-82a5-4be838ac3902"
      },
      "execution_count": 35,
      "outputs": [
        {
          "output_type": "execute_result",
          "data": {
            "text/plain": [
              "tensor([3.0000, 3.9000, 9.0000, 6.5000])"
            ]
          },
          "metadata": {},
          "execution_count": 35
        }
      ]
    },
    {
      "cell_type": "markdown",
      "source": [
        "### 3.3) Reduction operation\n",
        "Whole matrix is reduced in a single number"
      ],
      "metadata": {
        "id": "VckLW2fDeZIL"
      }
    },
    {
      "cell_type": "code",
      "source": [
        "x = torch.randint(size = (2, 3), low = 0, high = 10)\n",
        "x"
      ],
      "metadata": {
        "colab": {
          "base_uri": "https://localhost:8080/"
        },
        "id": "8SSv-_nfduQp",
        "outputId": "c5bf2dec-3e62-42ed-d4d0-7b9180b1d267"
      },
      "execution_count": 36,
      "outputs": [
        {
          "output_type": "execute_result",
          "data": {
            "text/plain": [
              "tensor([[6, 0, 5],\n",
              "        [9, 6, 3]])"
            ]
          },
          "metadata": {},
          "execution_count": 36
        }
      ]
    },
    {
      "cell_type": "code",
      "source": [
        "# Sum of entire matrix\n",
        "print(torch.sum(x))\n",
        "\n",
        "# Sum of all columns\n",
        "print(torch.sum(x, dim = 0))\n",
        "\n",
        "# Sum of all rows\n",
        "print(torch.sum(x, dim = 1))"
      ],
      "metadata": {
        "colab": {
          "base_uri": "https://localhost:8080/"
        },
        "id": "bascVB90Sewd",
        "outputId": "cd3eb08d-e883-461a-a591-144be8909a32"
      },
      "execution_count": 37,
      "outputs": [
        {
          "output_type": "stream",
          "name": "stdout",
          "text": [
            "tensor(29)\n",
            "tensor([15,  6,  8])\n",
            "tensor([11, 18])\n"
          ]
        }
      ]
    },
    {
      "cell_type": "code",
      "source": [
        "x = x.to(torch.float32)                       # For taking out mean data should be in float type\n",
        "\n",
        "# Mean of entire matrix\n",
        "print(torch.mean(x))\n",
        "\n",
        "# Mean of all columns\n",
        "print(torch.mean(x, dim = 0))\n",
        "\n",
        "# Mean of all rows\n",
        "print(torch.mean(x, dim = 1))"
      ],
      "metadata": {
        "colab": {
          "base_uri": "https://localhost:8080/"
        },
        "id": "FsFeBOO9Ws_V",
        "outputId": "96214034-a44e-42b1-f3b3-c356d6074831"
      },
      "execution_count": 38,
      "outputs": [
        {
          "output_type": "stream",
          "name": "stdout",
          "text": [
            "tensor(4.8333)\n",
            "tensor([7.5000, 3.0000, 4.0000])\n",
            "tensor([3.6667, 6.0000])\n"
          ]
        }
      ]
    },
    {
      "cell_type": "markdown",
      "source": [
        "### PyTorch Statistical Functions and Dtype Behavior\n",
        "\n",
        "| Function                              | Output Dtype (if input is int) | Notes                                                                 |\n",
        "|---------------------------------------|--------------------------------|-----------------------------------------------------------------------|\n",
        "| `torch.mean()`                        | Float (`float32` by default)   | Requires division → automatically promoted to float                   |\n",
        "| `torch.std()` / `torch.var()`         | Float                          | Requires division & square root                                       |\n",
        "| `torch.softmax()`                     | Float                          | Involves exponentials/division                                        |\n",
        "| `torch.nn.functional.normalize()`     | Float                          | Division by norm → float needed                                       |\n",
        "| **—**                                 | **—**                          | **—**                                                                 |\n",
        "| `torch.median()`                      | Same as input (int allowed)    | Just selects middle element → no promotion needed                     |\n",
        "| `torch.mode()`                        | Same as input (int allowed)    | Picks most frequent element                                           |\n",
        "| `torch.min()` / `torch.max()`         | Same as input (int allowed)    | Returns existing values → no promotion                                |\n",
        "| `torch.argmax()` / `torch.argmin()`   | Integer (indices)              | Returns index positions (always int, regardless of input dtype)       |\n"
      ],
      "metadata": {
        "id": "FuFn8YVLYgo2"
      }
    },
    {
      "cell_type": "code",
      "source": [
        "# Median\n",
        "torch.median(x)"
      ],
      "metadata": {
        "colab": {
          "base_uri": "https://localhost:8080/"
        },
        "id": "fqJ4xzO4YE3-",
        "outputId": "e4e1eff4-b3a6-4260-dae8-138710dc5c9a"
      },
      "execution_count": 39,
      "outputs": [
        {
          "output_type": "execute_result",
          "data": {
            "text/plain": [
              "tensor(5.)"
            ]
          },
          "metadata": {},
          "execution_count": 39
        }
      ]
    },
    {
      "cell_type": "code",
      "source": [
        "# Maximum element's value\n",
        "print(torch.max(x))\n",
        "\n",
        "# Minimum element's value\n",
        "print(torch.min(x))"
      ],
      "metadata": {
        "colab": {
          "base_uri": "https://localhost:8080/"
        },
        "id": "om5eUU5ZYvFT",
        "outputId": "361e487a-4451-4fe0-92ee-ebce774503f3"
      },
      "execution_count": 40,
      "outputs": [
        {
          "output_type": "stream",
          "name": "stdout",
          "text": [
            "tensor(9.)\n",
            "tensor(0.)\n"
          ]
        }
      ]
    },
    {
      "cell_type": "code",
      "source": [
        "# Product of all elements\n",
        "torch.prod(x)"
      ],
      "metadata": {
        "colab": {
          "base_uri": "https://localhost:8080/"
        },
        "id": "KaRC4PyUZDmo",
        "outputId": "673e066c-3ecd-4604-a09e-037c43e163b7"
      },
      "execution_count": 41,
      "outputs": [
        {
          "output_type": "execute_result",
          "data": {
            "text/plain": [
              "tensor(0.)"
            ]
          },
          "metadata": {},
          "execution_count": 41
        }
      ]
    },
    {
      "cell_type": "code",
      "source": [
        "# Standard deviation\n",
        "torch.std(x)"
      ],
      "metadata": {
        "colab": {
          "base_uri": "https://localhost:8080/"
        },
        "id": "OjhsOjOZZQHI",
        "outputId": "9a2759cb-d19c-4462-fb03-0b9c2a23e0ec"
      },
      "execution_count": 42,
      "outputs": [
        {
          "output_type": "execute_result",
          "data": {
            "text/plain": [
              "tensor(3.0605)"
            ]
          },
          "metadata": {},
          "execution_count": 42
        }
      ]
    },
    {
      "cell_type": "code",
      "source": [
        "# Varience\n",
        "torch.var(x)"
      ],
      "metadata": {
        "colab": {
          "base_uri": "https://localhost:8080/"
        },
        "id": "C405uIXQZWx2",
        "outputId": "866577b6-07ea-4796-a61d-e54dd7895211"
      },
      "execution_count": 43,
      "outputs": [
        {
          "output_type": "execute_result",
          "data": {
            "text/plain": [
              "tensor(9.3667)"
            ]
          },
          "metadata": {},
          "execution_count": 43
        }
      ]
    },
    {
      "cell_type": "code",
      "source": [
        "# argmax; tells location of leargest element\n",
        "torch.argmax(x)"
      ],
      "metadata": {
        "colab": {
          "base_uri": "https://localhost:8080/"
        },
        "id": "mF6N1A7iZrOF",
        "outputId": "70fda3d2-7333-45c2-9cf2-63e419d08529"
      },
      "execution_count": 44,
      "outputs": [
        {
          "output_type": "execute_result",
          "data": {
            "text/plain": [
              "tensor(3)"
            ]
          },
          "metadata": {},
          "execution_count": 44
        }
      ]
    },
    {
      "cell_type": "code",
      "source": [
        "# argmin; tells location of smallest element\n",
        "torch.argmin(x)"
      ],
      "metadata": {
        "colab": {
          "base_uri": "https://localhost:8080/"
        },
        "id": "Qixv-SegZztq",
        "outputId": "8968856d-5a7c-4d34-fd60-8a5806a07356"
      },
      "execution_count": 45,
      "outputs": [
        {
          "output_type": "execute_result",
          "data": {
            "text/plain": [
              "tensor(1)"
            ]
          },
          "metadata": {},
          "execution_count": 45
        }
      ]
    },
    {
      "cell_type": "markdown",
      "source": [
        "### 3.4) Matrix operation"
      ],
      "metadata": {
        "id": "k8QgsKumcdzm"
      }
    },
    {
      "cell_type": "code",
      "source": [
        "a = torch.randint(size = (2, 2), low = 0, high = 10)\n",
        "b = torch.randint(size = (2, 2), low = 0, high = 10)\n",
        "print(a)\n",
        "print(b)"
      ],
      "metadata": {
        "colab": {
          "base_uri": "https://localhost:8080/"
        },
        "id": "s6mu6JFzZ-nR",
        "outputId": "8fc0c85d-e400-4895-9ed6-acbe2320be5d"
      },
      "execution_count": 46,
      "outputs": [
        {
          "output_type": "stream",
          "name": "stdout",
          "text": [
            "tensor([[1, 3],\n",
            "        [7, 5]])\n",
            "tensor([[6, 5],\n",
            "        [6, 9]])\n"
          ]
        }
      ]
    },
    {
      "cell_type": "code",
      "source": [
        "# Matrix multiplication\n",
        "\n",
        "torch.matmul(a, b)"
      ],
      "metadata": {
        "colab": {
          "base_uri": "https://localhost:8080/"
        },
        "id": "YQfqBFvAdQJL",
        "outputId": "c26d86f1-dbfd-4c2c-c130-ff13d34faf2d"
      },
      "execution_count": 47,
      "outputs": [
        {
          "output_type": "execute_result",
          "data": {
            "text/plain": [
              "tensor([[24, 32],\n",
              "        [72, 80]])"
            ]
          },
          "metadata": {},
          "execution_count": 47
        }
      ]
    },
    {
      "cell_type": "code",
      "source": [
        "vector1 = torch.tensor([1, 2])\n",
        "vector2 = torch.tensor([3, 4])\n",
        "\n",
        "# dot product\n",
        "torch.dot(vector1, vector2)"
      ],
      "metadata": {
        "colab": {
          "base_uri": "https://localhost:8080/"
        },
        "id": "4iI5K9XceAgG",
        "outputId": "b9d60d8a-ce4d-45a6-8ad0-6efcc75f486b"
      },
      "execution_count": 48,
      "outputs": [
        {
          "output_type": "execute_result",
          "data": {
            "text/plain": [
              "tensor(11)"
            ]
          },
          "metadata": {},
          "execution_count": 48
        }
      ]
    },
    {
      "cell_type": "code",
      "source": [
        "# Transpose of matrix\n",
        "\n",
        "print(a)\n",
        "torch.transpose(a, 0, 1)    # .transpose(input, dim0, dim1); It swaps two dimensions of a tensor, input → the tensor, dim0 → first dimension index,\n",
        "                            # dim1 → second dimension index. a.T → works only for 2D tensors, same as torch.transpose(a, 0, 1) for higher-dimensional tensors,\n",
        "                            # it swaps whichever two axes you pass in."
      ],
      "metadata": {
        "colab": {
          "base_uri": "https://localhost:8080/"
        },
        "id": "8W6ySgIEeORP",
        "outputId": "c4a6b215-aaa3-4afb-9722-2277047c65e7"
      },
      "execution_count": 49,
      "outputs": [
        {
          "output_type": "stream",
          "name": "stdout",
          "text": [
            "tensor([[1, 3],\n",
            "        [7, 5]])\n"
          ]
        },
        {
          "output_type": "execute_result",
          "data": {
            "text/plain": [
              "tensor([[1, 7],\n",
              "        [3, 5]])"
            ]
          },
          "metadata": {},
          "execution_count": 49
        }
      ]
    },
    {
      "cell_type": "code",
      "source": [
        "# Determinant of matrix\n",
        "\n",
        "a = a.to(torch.float32)\n",
        "torch.det(a)                                  # .det() needs floating values"
      ],
      "metadata": {
        "colab": {
          "base_uri": "https://localhost:8080/"
        },
        "id": "Hk1XC084fdWI",
        "outputId": "acab774d-6119-4ff1-a237-9797d6e0357f"
      },
      "execution_count": 50,
      "outputs": [
        {
          "output_type": "execute_result",
          "data": {
            "text/plain": [
              "tensor(-16.)"
            ]
          },
          "metadata": {},
          "execution_count": 50
        }
      ]
    },
    {
      "cell_type": "code",
      "source": [
        "# Inverse of matrix\n",
        "\n",
        "torch.inverse(a)"
      ],
      "metadata": {
        "colab": {
          "base_uri": "https://localhost:8080/"
        },
        "id": "Rk98r0UFfpQx",
        "outputId": "da404c5a-48eb-42d9-ec1b-24fe2aba2639"
      },
      "execution_count": 51,
      "outputs": [
        {
          "output_type": "execute_result",
          "data": {
            "text/plain": [
              "tensor([[-0.3125,  0.1875],\n",
              "        [ 0.4375, -0.0625]])"
            ]
          },
          "metadata": {},
          "execution_count": 51
        }
      ]
    },
    {
      "cell_type": "markdown",
      "source": [
        "### 3.5) Comparision operation"
      ],
      "metadata": {
        "id": "lsHcE-BWg68l"
      }
    },
    {
      "cell_type": "code",
      "source": [
        "x = torch.randint(size = (2, 2), low = 0, high = 10)\n",
        "y = torch.randint(size = (2, 2), low = 0, high = 10)\n",
        "print(x)\n",
        "print(y)"
      ],
      "metadata": {
        "colab": {
          "base_uri": "https://localhost:8080/"
        },
        "id": "q-1Inft0gjSB",
        "outputId": "9736dab4-693c-40b0-a7be-877295576940"
      },
      "execution_count": 52,
      "outputs": [
        {
          "output_type": "stream",
          "name": "stdout",
          "text": [
            "tensor([[4, 1],\n",
            "        [2, 1]])\n",
            "tensor([[7, 1],\n",
            "        [5, 5]])\n"
          ]
        }
      ]
    },
    {
      "cell_type": "code",
      "source": [
        "# Comparision operation returns boolean tensor, representing element-wise comparison results.\n",
        "\n",
        "# greater than\n",
        "print(x > y)\n",
        "\n",
        "# less than\n",
        "print(x < y)\n",
        "\n",
        "# equal to\n",
        "print(x == y)\n",
        "\n",
        "# not equal to\n",
        "print(x != y)\n",
        "\n",
        "# greater than equal to\n",
        "print(x >= y)\n",
        "\n",
        "# less than equal to\n",
        "print(x <= y)"
      ],
      "metadata": {
        "colab": {
          "base_uri": "https://localhost:8080/"
        },
        "id": "uubCG9t9hJ2y",
        "outputId": "0e6ba9c3-118a-448b-9a97-88a3e048feeb"
      },
      "execution_count": 53,
      "outputs": [
        {
          "output_type": "stream",
          "name": "stdout",
          "text": [
            "tensor([[False, False],\n",
            "        [False, False]])\n",
            "tensor([[ True, False],\n",
            "        [ True,  True]])\n",
            "tensor([[False,  True],\n",
            "        [False, False]])\n",
            "tensor([[ True, False],\n",
            "        [ True,  True]])\n",
            "tensor([[False,  True],\n",
            "        [False, False]])\n",
            "tensor([[True, True],\n",
            "        [True, True]])\n"
          ]
        }
      ]
    },
    {
      "cell_type": "markdown",
      "source": [
        "### 3.6) Mathematical Functions"
      ],
      "metadata": {
        "id": "wsKUVqHTiEIn"
      }
    },
    {
      "cell_type": "code",
      "source": [
        "k = torch.randint(size = (2, 2), low = 0, high = 10)\n",
        "print(k)"
      ],
      "metadata": {
        "colab": {
          "base_uri": "https://localhost:8080/"
        },
        "id": "NEZSXR8mhfDP",
        "outputId": "6ac4c8a9-6148-435c-f3ac-0db48b3c7e8c"
      },
      "execution_count": 54,
      "outputs": [
        {
          "output_type": "stream",
          "name": "stdout",
          "text": [
            "tensor([[3, 9],\n",
            "        [9, 6]])\n"
          ]
        }
      ]
    },
    {
      "cell_type": "code",
      "source": [
        "# Log function\n",
        "torch.log(k)"
      ],
      "metadata": {
        "colab": {
          "base_uri": "https://localhost:8080/"
        },
        "id": "v_JzIWr_iO2q",
        "outputId": "2f20f235-9429-4832-fdbf-8a2cdc48fe3e"
      },
      "execution_count": 55,
      "outputs": [
        {
          "output_type": "execute_result",
          "data": {
            "text/plain": [
              "tensor([[1.0986, 2.1972],\n",
              "        [2.1972, 1.7918]])"
            ]
          },
          "metadata": {},
          "execution_count": 55
        }
      ]
    },
    {
      "cell_type": "code",
      "source": [
        "# Exponent function\n",
        "torch.exp(k)"
      ],
      "metadata": {
        "colab": {
          "base_uri": "https://localhost:8080/"
        },
        "id": "kRvreLYqiaK5",
        "outputId": "71a13a62-44cc-46d5-c106-e247688472d1"
      },
      "execution_count": 56,
      "outputs": [
        {
          "output_type": "execute_result",
          "data": {
            "text/plain": [
              "tensor([[  20.0855, 8103.0840],\n",
              "        [8103.0840,  403.4288]])"
            ]
          },
          "metadata": {},
          "execution_count": 56
        }
      ]
    },
    {
      "cell_type": "code",
      "source": [
        "# Square root function\n",
        "torch.sqrt(k)"
      ],
      "metadata": {
        "colab": {
          "base_uri": "https://localhost:8080/"
        },
        "id": "AV-eAzX0igqq",
        "outputId": "5feefd67-ec0c-4a1c-9d2f-a7e5416f803d"
      },
      "execution_count": 57,
      "outputs": [
        {
          "output_type": "execute_result",
          "data": {
            "text/plain": [
              "tensor([[1.7321, 3.0000],\n",
              "        [3.0000, 2.4495]])"
            ]
          },
          "metadata": {},
          "execution_count": 57
        }
      ]
    },
    {
      "cell_type": "code",
      "source": [
        "# Sigmiog function\n",
        "torch.sigmoid(k)"
      ],
      "metadata": {
        "colab": {
          "base_uri": "https://localhost:8080/"
        },
        "id": "HloqLmucik-f",
        "outputId": "5dccf97b-ac0c-47e2-9bbe-c39826c216e0"
      },
      "execution_count": 58,
      "outputs": [
        {
          "output_type": "execute_result",
          "data": {
            "text/plain": [
              "tensor([[0.9526, 0.9999],\n",
              "        [0.9999, 0.9975]])"
            ]
          },
          "metadata": {},
          "execution_count": 58
        }
      ]
    },
    {
      "cell_type": "code",
      "source": [
        "# Softmax function\n",
        "\n",
        "k = k.to(torch.float64)\n",
        "torch.softmax(k, dim = 0)                   # Softmax works on floating values"
      ],
      "metadata": {
        "colab": {
          "base_uri": "https://localhost:8080/"
        },
        "id": "ccPrMVDLiusZ",
        "outputId": "5b63c97c-e7b8-4e04-9634-aaec033ce71e"
      },
      "execution_count": 59,
      "outputs": [
        {
          "output_type": "execute_result",
          "data": {
            "text/plain": [
              "tensor([[0.0025, 0.9526],\n",
              "        [0.9975, 0.0474]], dtype=torch.float64)"
            ]
          },
          "metadata": {},
          "execution_count": 59
        }
      ]
    },
    {
      "cell_type": "code",
      "source": [
        "# Relu function\n",
        "\n",
        "torch.relu(k)"
      ],
      "metadata": {
        "colab": {
          "base_uri": "https://localhost:8080/"
        },
        "id": "0BxVPkYYi21d",
        "outputId": "4f9d69ff-5493-4068-aee0-8db83e6fa9cd"
      },
      "execution_count": 60,
      "outputs": [
        {
          "output_type": "execute_result",
          "data": {
            "text/plain": [
              "tensor([[3., 9.],\n",
              "        [9., 6.]], dtype=torch.float64)"
            ]
          },
          "metadata": {},
          "execution_count": 60
        }
      ]
    },
    {
      "cell_type": "markdown",
      "source": [
        "# 4) Inplace Operation\n",
        "\n",
        "\n",
        "- In PyTorch, an **in-place operation** directly modifies the contents of a tensor instead of creating a new one.\n",
        "- They are marked with a **trailing underscore `_`**, ex: .add_(), .mul_(), etc\n",
        "\n",
        "---\n",
        "\n",
        "### 🔹 Why use In-place Operations?\n",
        "- **Memory Efficient**:  \n",
        "  In-place operations avoid creating new tensors, which saves memory.  \n",
        "  For example, if you have a large dataset and perform an operation like addition, an out-of-place operation will allocate new memory for the result, but an in-place op will reuse the existing memory.  \n",
        "\n",
        "- **Faster Execution**:  \n",
        "  Since no extra memory allocation is needed, in-place ops can reduce overhead, especially on GPUs.\n",
        "\n",
        "---\n",
        "\n",
        "### ⚠️ Caution with Autograd\n",
        "- In-place operations can **interfere with autograd** (PyTorch’s gradient tracking).  \n",
        "- If you overwrite a tensor that is required later for backpropagation, PyTorch will raise an error:\n",
        "\n"
      ],
      "metadata": {
        "id": "ARVBB32gjfyk"
      }
    },
    {
      "cell_type": "code",
      "source": [
        "m = torch.randint(size = (2, 2), low = 0, high = 10)\n",
        "print(m)\n",
        "n = torch.randint(size = (2, 2), low = 0, high = 10)\n",
        "print(n)"
      ],
      "metadata": {
        "colab": {
          "base_uri": "https://localhost:8080/"
        },
        "id": "WQldW_-kjLXl",
        "outputId": "cad87405-6518-4e5a-c6ed-fdd8e4fa2522"
      },
      "execution_count": 61,
      "outputs": [
        {
          "output_type": "stream",
          "name": "stdout",
          "text": [
            "tensor([[0, 5],\n",
            "        [7, 4]])\n",
            "tensor([[6, 9],\n",
            "        [5, 9]])\n"
          ]
        }
      ]
    },
    {
      "cell_type": "code",
      "source": [
        "# In-place-addition\n",
        "\n",
        "m.add_(n)       # elements of m & n are added and then stored in m\n",
        "print(m)"
      ],
      "metadata": {
        "colab": {
          "base_uri": "https://localhost:8080/"
        },
        "id": "kcRizTa1l_Mh",
        "outputId": "b94e2c77-9f8a-4750-9aec-2dbb72f479ee"
      },
      "execution_count": 62,
      "outputs": [
        {
          "output_type": "stream",
          "name": "stdout",
          "text": [
            "tensor([[ 6, 14],\n",
            "        [12, 13]])\n"
          ]
        }
      ]
    },
    {
      "cell_type": "markdown",
      "source": [
        "# 5) Coping Tensors"
      ],
      "metadata": {
        "id": "AAMMcnflBr9F"
      }
    },
    {
      "cell_type": "markdown",
      "source": [
        "\n",
        "### ✅ `a = b`\n",
        "- **Reference assignment** (shallow copy).\n",
        "- `a` and `b` point to the **same underlying data**.\n",
        "- No new memory is allocated.\n",
        "- Changing one will also change the other.\n",
        "\n",
        "---\n",
        "\n",
        "### ✅ `a = b.clone()`\n",
        "- **Deep copy** (new tensor).\n",
        "- Creates a **completely independent tensor** with the same values as `b`.\n",
        "- Memory is separate.\n",
        "- Safe to modify `a` without affecting `b`.\n",
        "\n",
        "---\n",
        "\n",
        "### ✅ `a = b.detach()`\n",
        "- **View (shallow copy)** that **shares data** with `b`.\n",
        "- Detached from the **computation graph** (no gradient tracking).\n",
        "- Useful when you want the values but don’t want autograd to track them.\n",
        "- ⚠️ Changing data in `a` will also affect `b`.\n",
        "\n",
        "---\n",
        "\n",
        "### ✅ `a = b.detach().clone()`\n",
        "- Best of both worlds:\n",
        "  - Detaches from the computation graph.\n",
        "  - Creates a **new independent copy** of the data.\n",
        "- Safe option when you want both *no gradient tracking* and *separate memory*."
      ],
      "metadata": {
        "id": "JhKiY23hByB9"
      }
    },
    {
      "cell_type": "code",
      "source": [
        "# Coping tensors through Reference assingement\n",
        "\n",
        "a = torch.tensor([[1, 2, 3], [4, 5, 6]])\n",
        "\n",
        "b = a                                 # Now b also points to tensor 'a'\n",
        "print(a)\n",
        "print(b)\n",
        "\n",
        "a[0][0] = 9                           # Changes in a will automatically be seen through b\n",
        "print(a)\n",
        "print(b)\n",
        "\n",
        "print('There memory location is same: ', id(a) == id(b))"
      ],
      "metadata": {
        "colab": {
          "base_uri": "https://localhost:8080/"
        },
        "id": "9QIRhWPXmEMy",
        "outputId": "b8fa66f4-ae87-46d3-e993-a8c169b35e26"
      },
      "execution_count": 63,
      "outputs": [
        {
          "output_type": "stream",
          "name": "stdout",
          "text": [
            "tensor([[1, 2, 3],\n",
            "        [4, 5, 6]])\n",
            "tensor([[1, 2, 3],\n",
            "        [4, 5, 6]])\n",
            "tensor([[9, 2, 3],\n",
            "        [4, 5, 6]])\n",
            "tensor([[9, 2, 3],\n",
            "        [4, 5, 6]])\n",
            "There memory location is same:  True\n"
          ]
        }
      ]
    },
    {
      "cell_type": "code",
      "source": [
        "# Cpoing tensor through deep copy\n",
        "\n",
        "c = a.clone()\n",
        "print(a)\n",
        "print(c)\n",
        "\n",
        "a[0][0] = 13             # Changes in a will not be seen in c\n",
        "print(a)\n",
        "print(c)\n",
        "\n",
        "print('There memory location is same: ', id(a) == id(c))"
      ],
      "metadata": {
        "colab": {
          "base_uri": "https://localhost:8080/"
        },
        "id": "2JRNUfE-CnNY",
        "outputId": "58ca67ab-4911-4b55-f344-b5c7e12f0517"
      },
      "execution_count": 64,
      "outputs": [
        {
          "output_type": "stream",
          "name": "stdout",
          "text": [
            "tensor([[9, 2, 3],\n",
            "        [4, 5, 6]])\n",
            "tensor([[9, 2, 3],\n",
            "        [4, 5, 6]])\n",
            "tensor([[13,  2,  3],\n",
            "        [ 4,  5,  6]])\n",
            "tensor([[9, 2, 3],\n",
            "        [4, 5, 6]])\n",
            "There memory location is same:  False\n"
          ]
        }
      ]
    },
    {
      "cell_type": "markdown",
      "source": [
        "# 6) Creating tensors on GPU"
      ],
      "metadata": {
        "id": "Klkx0MI9EbD3"
      }
    },
    {
      "cell_type": "code",
      "source": [
        "# By default, tensors are created on CPU\n",
        "\n",
        "a = torch.randint(size = (2,3), low = 3, high = 10)\n",
        "a.device"
      ],
      "metadata": {
        "colab": {
          "base_uri": "https://localhost:8080/"
        },
        "id": "L6Ek7_yJDMv7",
        "outputId": "6798066b-b4b5-48e7-f8b8-5e66456a785f"
      },
      "execution_count": 65,
      "outputs": [
        {
          "output_type": "execute_result",
          "data": {
            "text/plain": [
              "device(type='cpu')"
            ]
          },
          "metadata": {},
          "execution_count": 65
        }
      ]
    },
    {
      "cell_type": "code",
      "source": [
        "# Creating a tensor on GPU\n",
        "\n",
        "torch.cuda.is_available()\n",
        "\n",
        "b = torch.rand((2, 3), device = 'cuda')\n",
        "print(b.device)"
      ],
      "metadata": {
        "colab": {
          "base_uri": "https://localhost:8080/"
        },
        "id": "tOKljmoLFC5p",
        "outputId": "02894849-ec4d-4c45-a070-7a57818b3fd4"
      },
      "execution_count": 66,
      "outputs": [
        {
          "output_type": "stream",
          "name": "stdout",
          "text": [
            "cuda:0\n"
          ]
        }
      ]
    },
    {
      "cell_type": "code",
      "source": [
        "# Moving existing tensor on GPU\n",
        "\n",
        "c = a.to('cuda')                  # Now any operation performed on 'b' or 'c' will be performed on GPU\n",
        "print(c.device)"
      ],
      "metadata": {
        "colab": {
          "base_uri": "https://localhost:8080/"
        },
        "id": "xjQ3Fbf3Fwar",
        "outputId": "3f53ec52-4dfb-4332-b141-10d97456b8cc"
      },
      "execution_count": 67,
      "outputs": [
        {
          "output_type": "stream",
          "name": "stdout",
          "text": [
            "cuda:0\n"
          ]
        }
      ]
    },
    {
      "cell_type": "markdown",
      "source": [
        "# 7) Numpy and PyTorch"
      ],
      "metadata": {
        "id": "_xE2xFTKRT7x"
      }
    },
    {
      "cell_type": "code",
      "source": [
        "import numpy as np\n",
        "\n",
        "a = np.array([1,2,3])\n",
        "print(type(a))"
      ],
      "metadata": {
        "colab": {
          "base_uri": "https://localhost:8080/"
        },
        "id": "sa-o_nchGe1K",
        "outputId": "3888d60f-59d1-4498-946b-4c99156b48e0"
      },
      "execution_count": 68,
      "outputs": [
        {
          "output_type": "stream",
          "name": "stdout",
          "text": [
            "<class 'numpy.ndarray'>\n"
          ]
        }
      ]
    },
    {
      "cell_type": "code",
      "source": [
        "# Convert Numpy-array into tensor\n",
        "\n",
        "b = torch.from_numpy(a)                       # Creates a tensor that shares memory with the NumPy array, changing one will change the other.\n",
        "print(b.type)\n",
        "\n",
        "c = torch.tensor(a)                           # Creates a copy of the NumPy array, changing one will not change the other.\n",
        "c.type"
      ],
      "metadata": {
        "colab": {
          "base_uri": "https://localhost:8080/"
        },
        "id": "tfgKJzP0RsEL",
        "outputId": "0e977754-694b-4e93-84ae-7e0f0e86cf18"
      },
      "execution_count": 69,
      "outputs": [
        {
          "output_type": "stream",
          "name": "stdout",
          "text": [
            "<built-in method type of Tensor object at 0x78988ff78500>\n"
          ]
        },
        {
          "output_type": "execute_result",
          "data": {
            "text/plain": [
              "<function Tensor.type>"
            ]
          },
          "metadata": {},
          "execution_count": 69
        }
      ]
    },
    {
      "cell_type": "code",
      "source": [
        "# Convert tensor to numpy-array\n",
        "\n",
        "x = torch.tensor([1, 2, 3])\n",
        "\n",
        "y = x.numpy()                               # Works only for CPU tensors, returns a NumPy array sharing memory with the tensor.\n",
        "print(type(y))"
      ],
      "metadata": {
        "colab": {
          "base_uri": "https://localhost:8080/"
        },
        "id": "Ky7CdQoDSMfd",
        "outputId": "0cd02645-290f-41ec-b389-1ede865947f1"
      },
      "execution_count": 70,
      "outputs": [
        {
          "output_type": "stream",
          "name": "stdout",
          "text": [
            "<class 'numpy.ndarray'>\n"
          ]
        }
      ]
    },
    {
      "cell_type": "code",
      "source": [],
      "metadata": {
        "id": "MNvW7FhkTXau"
      },
      "execution_count": 70,
      "outputs": []
    }
  ]
}