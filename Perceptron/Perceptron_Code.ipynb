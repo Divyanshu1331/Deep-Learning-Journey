{
 "cells": [
  {
   "cell_type": "code",
   "execution_count": 1,
   "id": "455d152c-a7f5-4cae-b756-c9c7b778e344",
   "metadata": {},
   "outputs": [],
   "source": [
    "from sklearn.datasets import load_iris\n",
    "import pandas as pd\n",
    "import numpy as np\n",
    "import matplotlib.pyplot as plt"
   ]
  },
  {
   "cell_type": "code",
   "execution_count": 2,
   "id": "5c59a97e-d286-4c2f-8ce7-42b399e55244",
   "metadata": {},
   "outputs": [],
   "source": [
    "iris = load_iris()\n",
    "\n",
    "# Convert iris into dataframe:\n",
    "df = pd.DataFrame(iris.data, columns = iris.feature_names)\n",
    "df['target'] = iris.target"
   ]
  },
  {
   "cell_type": "code",
   "execution_count": 3,
   "id": "790cecb6-f488-45ee-8a32-9d97315db63e",
   "metadata": {},
   "outputs": [
    {
     "data": {
      "text/html": [
       "<div>\n",
       "<style scoped>\n",
       "    .dataframe tbody tr th:only-of-type {\n",
       "        vertical-align: middle;\n",
       "    }\n",
       "\n",
       "    .dataframe tbody tr th {\n",
       "        vertical-align: top;\n",
       "    }\n",
       "\n",
       "    .dataframe thead th {\n",
       "        text-align: right;\n",
       "    }\n",
       "</style>\n",
       "<table border=\"1\" class=\"dataframe\">\n",
       "  <thead>\n",
       "    <tr style=\"text-align: right;\">\n",
       "      <th></th>\n",
       "      <th>sepal length (cm)</th>\n",
       "      <th>sepal width (cm)</th>\n",
       "      <th>petal length (cm)</th>\n",
       "      <th>petal width (cm)</th>\n",
       "      <th>target</th>\n",
       "    </tr>\n",
       "  </thead>\n",
       "  <tbody>\n",
       "    <tr>\n",
       "      <th>0</th>\n",
       "      <td>5.1</td>\n",
       "      <td>3.5</td>\n",
       "      <td>1.4</td>\n",
       "      <td>0.2</td>\n",
       "      <td>0</td>\n",
       "    </tr>\n",
       "    <tr>\n",
       "      <th>56</th>\n",
       "      <td>6.3</td>\n",
       "      <td>3.3</td>\n",
       "      <td>4.7</td>\n",
       "      <td>1.6</td>\n",
       "      <td>1</td>\n",
       "    </tr>\n",
       "    <tr>\n",
       "      <th>123</th>\n",
       "      <td>6.3</td>\n",
       "      <td>2.7</td>\n",
       "      <td>4.9</td>\n",
       "      <td>1.8</td>\n",
       "      <td>2</td>\n",
       "    </tr>\n",
       "  </tbody>\n",
       "</table>\n",
       "</div>"
      ],
      "text/plain": [
       "     sepal length (cm)  sepal width (cm)  petal length (cm)  petal width (cm)  \\\n",
       "0                  5.1               3.5                1.4               0.2   \n",
       "56                 6.3               3.3                4.7               1.6   \n",
       "123                6.3               2.7                4.9               1.8   \n",
       "\n",
       "     target  \n",
       "0         0  \n",
       "56        1  \n",
       "123       2  "
      ]
     },
     "execution_count": 3,
     "metadata": {},
     "output_type": "execute_result"
    }
   ],
   "source": [
    "df.iloc[[0, 56, 123]]"
   ]
  },
  {
   "cell_type": "code",
   "execution_count": 4,
   "id": "d36816b8-5814-4337-ba03-f2f8a6804f5f",
   "metadata": {},
   "outputs": [
    {
     "data": {
      "text/plain": [
       "target\n",
       "0    50\n",
       "1    50\n",
       "2    50\n",
       "Name: count, dtype: int64"
      ]
     },
     "execution_count": 4,
     "metadata": {},
     "output_type": "execute_result"
    }
   ],
   "source": [
    "df['target'].value_counts()"
   ]
  },
  {
   "cell_type": "markdown",
   "id": "cc1d0391-3a4d-406c-aa05-d54a8d25445d",
   "metadata": {},
   "source": [
    "### Here we have to create binary classification task so that we could use perceptron here. To create that we will Sertosa class as 0, & other classes as 1 cause sertosa and other classes are linearly seperable. In iris dataset there are 3 classes: \n",
    "1. Iris Setosa (class 0)\n",
    "\n",
    "2. Iris Versicolor (class 1)\n",
    "\n",
    "3. Iris Virginica (class 2)"
   ]
  },
  {
   "cell_type": "code",
   "execution_count": 5,
   "id": "6ed3cf0a-7779-443f-acc4-2458a3ec52d3",
   "metadata": {},
   "outputs": [
    {
     "data": {
      "text/html": [
       "<div>\n",
       "<style scoped>\n",
       "    .dataframe tbody tr th:only-of-type {\n",
       "        vertical-align: middle;\n",
       "    }\n",
       "\n",
       "    .dataframe tbody tr th {\n",
       "        vertical-align: top;\n",
       "    }\n",
       "\n",
       "    .dataframe thead th {\n",
       "        text-align: right;\n",
       "    }\n",
       "</style>\n",
       "<table border=\"1\" class=\"dataframe\">\n",
       "  <thead>\n",
       "    <tr style=\"text-align: right;\">\n",
       "      <th></th>\n",
       "      <th>sepal length (cm)</th>\n",
       "      <th>sepal width (cm)</th>\n",
       "      <th>petal length (cm)</th>\n",
       "      <th>petal width (cm)</th>\n",
       "      <th>target</th>\n",
       "    </tr>\n",
       "  </thead>\n",
       "  <tbody>\n",
       "    <tr>\n",
       "      <th>0</th>\n",
       "      <td>5.1</td>\n",
       "      <td>3.5</td>\n",
       "      <td>1.4</td>\n",
       "      <td>0.2</td>\n",
       "      <td>1</td>\n",
       "    </tr>\n",
       "    <tr>\n",
       "      <th>56</th>\n",
       "      <td>6.3</td>\n",
       "      <td>3.3</td>\n",
       "      <td>4.7</td>\n",
       "      <td>1.6</td>\n",
       "      <td>-1</td>\n",
       "    </tr>\n",
       "    <tr>\n",
       "      <th>123</th>\n",
       "      <td>6.3</td>\n",
       "      <td>2.7</td>\n",
       "      <td>4.9</td>\n",
       "      <td>1.8</td>\n",
       "      <td>-1</td>\n",
       "    </tr>\n",
       "  </tbody>\n",
       "</table>\n",
       "</div>"
      ],
      "text/plain": [
       "     sepal length (cm)  sepal width (cm)  petal length (cm)  petal width (cm)  \\\n",
       "0                  5.1               3.5                1.4               0.2   \n",
       "56                 6.3               3.3                4.7               1.6   \n",
       "123                6.3               2.7                4.9               1.8   \n",
       "\n",
       "     target  \n",
       "0         1  \n",
       "56       -1  \n",
       "123      -1  "
      ]
     },
     "execution_count": 5,
     "metadata": {},
     "output_type": "execute_result"
    }
   ],
   "source": [
    "df.loc[(df['target'] == 1) | (df['target'] == 2), 'target'] = -1\n",
    "df.loc[(df['target'] == 0), 'target'] = 1\n",
    "\n",
    "df.loc[[0, 56, 123]]"
   ]
  },
  {
   "cell_type": "code",
   "execution_count": 6,
   "id": "fed15c9c-85a0-49f1-92f0-ddf8a7b46853",
   "metadata": {},
   "outputs": [],
   "source": [
    "def perceptron(x, y):\n",
    "    \n",
    "    w1 = w2 = w3 = w4 = b = 1                                           # Initializing all the parameters as 1\n",
    "    lr = 0.1                                                            # Initializing learning rate as 0.1\n",
    "\n",
    "    for j in range(1000):                                               # Creating 1000 epochs\n",
    "        \n",
    "        for i in range(len(x)):                                         # Iterating through all samples in an epoch\n",
    "            \n",
    "            z = w1*x[i][0] + w2*x[i][1] + w3*x[i][2] + w4*x[i][3] + b   # Calculating f(xi)\n",
    "            \n",
    "            if z*y[i] < 0:                                              # Condition of Misclassified datapoint\n",
    "\n",
    "                # Updating the parameters for Misclassified sample:\n",
    "                w1 = w1 + lr*y[i]*x[i][0]\n",
    "                w2 = w2 + lr*y[i]*x[i][1]\n",
    "                w3 = w3 + lr*y[i]*x[i][2]\n",
    "                w4 = w4 + lr*y[i]*x[i][3]\n",
    "                b = b + lr*y[i]\n",
    "                \n",
    "    return w1, w2, w3, w4, b"
   ]
  },
  {
   "cell_type": "code",
   "execution_count": 7,
   "id": "54e45d63-5887-45aa-bacf-3a8299f0f0cd",
   "metadata": {},
   "outputs": [
    {
     "name": "stdout",
     "output_type": "stream",
     "text": [
      "(150, 4) (150,)\n"
     ]
    }
   ],
   "source": [
    "x = df.drop(columns = 'target', axis=1)\n",
    "y = df['target']\n",
    "\n",
    "# Converting x & y in numpy array, cause for dataframe we had to access elements by x.iloc[i, 0] to access them like x[i][0] we have to convert it into\n",
    "# numpy array:\n",
    "x = x.values\n",
    "y = y.values\n",
    "\n",
    "print(x.shape, y.shape)"
   ]
  },
  {
   "cell_type": "code",
   "execution_count": 8,
   "id": "71cb88ba-f06c-4a2b-bc8f-18900448d618",
   "metadata": {},
   "outputs": [],
   "source": [
    "w1, w2, w3, w4, b = perceptron(x, y)"
   ]
  },
  {
   "cell_type": "code",
   "execution_count": 9,
   "id": "7740792c-124e-4bd0-9e5a-6f4c86c385a3",
   "metadata": {},
   "outputs": [
    {
     "name": "stdout",
     "output_type": "stream",
     "text": [
      "-0.25000000000000033 1.1600000000000001 -1.2800000000000002 0.14\n",
      "1.0\n"
     ]
    }
   ],
   "source": [
    "print(w1, w2, w3, w4)\n",
    "print(b)"
   ]
  },
  {
   "cell_type": "markdown",
   "id": "5d02abc3-f97d-4f32-b8fd-f0864df0923f",
   "metadata": {},
   "source": [
    "## Eventually, you could rewrite the perceptron to use NumPy vectors to handle any number of features(w1, w2, w3, w4, w5, ......) dynamically, e.g.:"
   ]
  },
  {
   "cell_type": "code",
   "execution_count": 10,
   "id": "0a66591f-acfd-4a63-9a71-56d7c35099fa",
   "metadata": {},
   "outputs": [],
   "source": [
    "def perceptron_vectorized(x, y):\n",
    "    w = np.ones(x.shape[1])\n",
    "    b = 1\n",
    "    lr = 0.1\n",
    "\n",
    "    for _ in range(1000):\n",
    "        for i in range(len(x)):\n",
    "            z = np.dot(w, x[i]) + b\n",
    "            if z * y[i] < 0:\n",
    "                w += lr * y[i] * x[i]\n",
    "                b += lr * y[i]\n",
    "\n",
    "    return w, b"
   ]
  },
  {
   "cell_type": "code",
   "execution_count": 11,
   "id": "3eb1b1de-0f8f-4da2-a4c6-f08f8a2272f1",
   "metadata": {},
   "outputs": [
    {
     "name": "stdout",
     "output_type": "stream",
     "text": [
      "[-0.25  1.16 -1.28  0.14]\n",
      "1.0\n"
     ]
    }
   ],
   "source": [
    "w, b = perceptron_vectorized(x, y)\n",
    "\n",
    "print(w)\n",
    "print(b)"
   ]
  },
  {
   "cell_type": "code",
   "execution_count": null,
   "id": "3311fe7e-32ae-44fa-b992-ae851ad56e21",
   "metadata": {},
   "outputs": [],
   "source": []
  }
 ],
 "metadata": {
  "kernelspec": {
   "display_name": "Python 3 (ipykernel)",
   "language": "python",
   "name": "python3"
  },
  "language_info": {
   "codemirror_mode": {
    "name": "ipython",
    "version": 3
   },
   "file_extension": ".py",
   "mimetype": "text/x-python",
   "name": "python",
   "nbconvert_exporter": "python",
   "pygments_lexer": "ipython3",
   "version": "3.12.7"
  }
 },
 "nbformat": 4,
 "nbformat_minor": 5
}
